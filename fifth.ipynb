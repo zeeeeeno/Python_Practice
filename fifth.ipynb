{
 "cells": [
  {
   "cell_type": "code",
   "execution_count": 1,
   "metadata": {},
   "outputs": [],
   "source": [
    "# Ubuntu Image 다운로드 받기\n",
    "\n",
    "# 1. Ubuntu 검색\n",
    "# 2. 사이트에 들어가서 Download를 누른다.\n",
    "# 3. Download를 눌러서 Ubuntu Desktop을 누른다.\n",
    "# 4. 우측 상단에 Alternative Download를 누른다.\n",
    "# 5. ubuntu 18.04 LTS를 클릭해서 *.iso를 다운받도록 한다."
   ]
  },
  {
   "cell_type": "code",
   "execution_count": 2,
   "metadata": {},
   "outputs": [],
   "source": [
    "# USB에 Ubuntu 시동 디스크 만들기\n",
    "\n",
    "# 1. Rufus나 Universal이나 둘 중 하나를 다운로드 받는다.\n",
    "# https://rufus.ie/\n",
    "# https://www.techspot.com/downloads/6153-universal-usb-installer.html\n",
    "\n",
    "# 2. 다운받은 녀석을 실행하고 라이센스 동의한다.\n",
    "# 3. 그러면 이미지 파일을 선택하고 USB 디스크를 선택하는 부분이 나온다.\n",
    "# 4. Step 1: Ubuntu 선택\n",
    "# 5. Step 2: 다운 받은 Ubuntu 이미지를 찾아서 선택한다.\n",
    "# 6. Step 3: USB 디스크를 선택해주고 부트 디스크를 만들면 완료!\n",
    "#    (주의할 점은 포맷이 진행되므로 주요 파일은 백업을 받아야 한다)\n",
    "#    이때 파일 포맷은 반드시 FAT32 형태로 만들어주도록 한다.\n",
    "#    부트 디스크 생성후 파일 포맷이 올바르게 만들어졌는지 확인 필요!"
   ]
  },
  {
   "cell_type": "code",
   "execution_count": 3,
   "metadata": {},
   "outputs": [],
   "source": [
    "# 멀티 부팅 준비\n",
    "\n",
    "# 1. 우선 C 드라이브와 D 드라이브로 파티션이 나뉘어져 있는지 확인한다.\n",
    "#    (만약 파티션 설정이 없다면 파티션을 먼저 나누고 다음 작업을 진행!)\n",
    "# 2. C에는 윈도우가 설치되어 있으므로\n",
    "#    D에 리눅스를 설치할 수 있도록 D 파티션 볼륨을 삭제한다.\n",
    "#    윈도우는 파일 시스템 NTFS를 사용하지만\n",
    "#    리눅스는 EXT4 파일 시스템을 사용하기 때문이다.\n",
    "#    (참고 이것은 제어판의 디스크 관리에서 진행해야 한다.)\n",
    "# 3. USB를 꽂고 BIOS로 진입한다.\n",
    "#    (컴퓨터 마다 BIOS 진입키 다르다.\n",
    "#     Lenovo - 앤터키, F8, F2, F12, ESC, Delete키 등등이 있다.)\n",
    "# 4. BIOS에 들어가서 부팅 순서를 조정해야한다.\n",
    "#    USB를 가장 우선순위에 두고 재시작을 한다.\n",
    "# 5. 이후부터는 키보드 설정 USA, UTC 설정 Seoul, 언어 설정 USA,\n",
    "#    Third Party Library Installation 전부 체크,\n",
    "#    사용자 계정 설정 - id: bitai, pw: 456123\n",
    "# 6. 설치되기를 기다리면 되고 모두 설치가 완료되면 재부팅을 해줘야 한다.\n",
    "# 7. 재부팅이 완료되면 우분투 사용자 프롬프트가 나온다."
   ]
  },
  {
   "cell_type": "code",
   "execution_count": 1,
   "metadata": {},
   "outputs": [],
   "source": [
    "# 디폴트 프로그램 설정\n",
    "\n",
    "# 1. sudo apt-get install vim\n",
    "# 2. sudo apt-get install git\n",
    "# 3. sudo apt-get install chromium-browser\n",
    "# 4. 패널에 필요한 프로그램 걸기"
   ]
  },
  {
   "cell_type": "code",
   "execution_count": 2,
   "metadata": {},
   "outputs": [],
   "source": [
    "# Linux Anaconda 설정\n",
    "\n",
    "# 1. Anaconda에 가서 다운로드 받는다.\n",
    "# 2. cd ~\n",
    "# 3. mkdir sw\n",
    "# 4. cd sw\n",
    "# 5. mv ~/Downloads/Anaconda3-2020.02-Linux-x86_64.sh ./\n",
    "# 6. ls -al\n",
    "# 7. chmod +x Anaconda3-2020.02-Linux-x86_64.sh\n",
    "# 8. ./Anaconda3-2020.02-Linux-x86_64.sh\n",
    "# 9. 라이센스 동의, yes, 앤터 앤터 ....\n",
    "# 10. vi ~/.bashrc\n",
    "# 11. source ~/.bashrc"
   ]
  },
  {
   "cell_type": "code",
   "execution_count": 3,
   "metadata": {},
   "outputs": [],
   "source": [
    "# 한글 설정\n",
    "\n",
    "# 1. 좌측 하단에 바둑판을 누른다.\n",
    "# 2. Language & Support를 누르고 들어간다.\n",
    "# 3. 필요한 언어팩을 설치한다(자동 지원)\n",
    "# 4. 재부팅을 해줘야 한다(언어 인식)\n",
    "# 5. ibus-setup이 바로 안될 수도 있다.\n",
    "#    vi ~/.bashrc에가서 conda부분을 전부 주석처리한다.\n",
    "#    주석 처리할때 #을 넣어주면 된다.\n",
    "#    적용을 위해 터미널을 한 번 껏다 킨다.\n",
    "# 6. ibus-setup을 하고 Input Method에 가서\n",
    "#    Add를 누르고 Korea Hangul을 선택해준다.\n",
    "# 7. General에가서 키보드 숏컷을 바꿔줘야 한다.\n",
    "#    Keyboard Shortcut에 있는 ... 을 누른다.\n",
    "#    Keycode의 ...을 누른다.\n",
    "#    Disable을 더블 클릭하고 활성화할 키를 입력한다.\n",
    "#    Add, Apply 하고 OK 한다.\n",
    "#    그러면 이렇게 한글 작성이 가능해진다."
   ]
  },
  {
   "cell_type": "code",
   "execution_count": 4,
   "metadata": {},
   "outputs": [],
   "source": [
    "# vi라는 에디터 툴을 잘 사용해야 한다.\n",
    "# 1. 적당한 디렉토리로 이동한다.\n",
    "# 2. vi test.txt\n",
    "# 3. 입력 모드, 명령 모드\n",
    "#    실제 글자를 작성하려면 입력 모드로 전환해야 한다.\n",
    "#    작성된 최종 결과물을 가지고\n",
    "#    추가적인 조작을 한다면 명령 모드로 전환해야 한다.\n",
    "# 4. 입력 모드로 가는 방법\n",
    "#    4-1. a 키\n",
    "#    4-2. i 키\n",
    "#    4-3. shift + a 키\n",
    "#    4-4. shift + i 키\n",
    "# 5. 입력 모드에서 명령 모드로 전환\n",
    "#    초기에는 무조건 명령 모드로 시작함\n",
    "#    ESC를 누르면 된다.\n",
    "# 6. 사용방법\n",
    "#    6-1. dd - 한 줄 지우기\n",
    "#    6-2. d 숫자 d - 숫자만큼 줄 지우기\n",
    "#    6-3. x - 글자 한개 지우기\n",
    "#    6-4. u - 뒤로 가기\n",
    "#    6-5. Ctrl + R - 앞으로 가기\n",
    "#    6-6. yy - 한 줄 복사\n",
    "#    6-7. y 숫자 y - 숫자만큼 줄 복사\n",
    "#    6-8. p - 붙여넣기\n",
    "#    6-9. :%s/바꿀대상/변형글자/g - \n",
    "#          바꿀대상 전체를 변형글자로 치환함\n",
    "#    6-10. 저장 및 종료시에는 반드시 명령 모드로 돌아가야한다.\n",
    "#          :wq - 저장하고 나가기\n",
    "#          :w - 저장하기\n",
    "#          :q - 나가기\n",
    "#          :q! - 강종\n",
    "#          :w! - 강제 저장\n",
    "#    6-11. 영역 주석은 어떻게 하는가 ?\n",
    "#          Ctrl + V로 주석 넣고 싶은 영역까지 블록 지정을 한다.\n",
    "#          :norm i#을 하면 #이 insert 된다.\n",
    "#    6-12. 영역 주석을 지우는 방법\n",
    "#          Ctrl + V로 지울 영역을 지정한다.\n",
    "#          x를 누르면 연관 주석이 모두 사라진다."
   ]
  },
  {
   "cell_type": "code",
   "execution_count": null,
   "metadata": {},
   "outputs": [],
   "source": [
    "# 리눅스 기본 명령어\n",
    "\n",
    "# ls(List): 현재 디렉토리 내부에 있는 파일 및 디렉토리 리스트 보기\n",
    "# pwd: 현재 디렉토리의 위치 확인\n",
    "# cd(Change Directory): 디렉토리 위치 이동\n",
    "# mkdir(Make Directory): 디렉토리 생성\n",
    "# vi 파일명.확장자: 파일명.확장자로 파일을 만들고 에디팅함\n",
    "# chmod: 파일의 권한(읽기, 쓰기, 실행)을 제어하는 명령어\n",
    "# mv(Move): 실제 파일을 이동시킬때, 파일의 이름을 바꿀때\n",
    "# source: 쉘 스크립트(확장자가 .sh 형태인 녀석들)\n",
    "#         리눅스 관리 스크립트에 source를 적용하면\n",
    "#         해당 환경 변수들이 리눅스에 등록되어 사용 가능해짐"
   ]
  },
  {
   "cell_type": "code",
   "execution_count": null,
   "metadata": {},
   "outputs": [],
   "source": []
  },
  {
   "cell_type": "code",
   "execution_count": null,
   "metadata": {},
   "outputs": [],
   "source": []
  },
  {
   "cell_type": "code",
   "execution_count": null,
   "metadata": {},
   "outputs": [],
   "source": []
  },
  {
   "cell_type": "code",
   "execution_count": null,
   "metadata": {},
   "outputs": [],
   "source": []
  }
 ],
 "metadata": {
  "kernelspec": {
   "display_name": "Python 3",
   "language": "python",
   "name": "python3"
  },
  "language_info": {
   "codemirror_mode": {
    "name": "ipython",
    "version": 3
   },
   "file_extension": ".py",
   "mimetype": "text/x-python",
   "name": "python",
   "nbconvert_exporter": "python",
   "pygments_lexer": "ipython3",
   "version": "3.7.6"
  }
 },
 "nbformat": 4,
 "nbformat_minor": 4
}
