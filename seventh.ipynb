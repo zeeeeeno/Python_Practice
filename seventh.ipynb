{
 "cells": [
  {
   "cell_type": "code",
   "execution_count": null,
   "metadata": {},
   "outputs": [],
   "source": [
    "# 나만의 git 저장소를 가져보도록 하자!\n",
    "# 1. Github에 접속한다.\n",
    "# 2. 로그인하고 접속하면 Repositories에 New가 있고 이것을 누른다.\n",
    "# 3. 맨 위쪽에 Repository Name과 Description을 작성한다.\n",
    "# 4. 아래쪽의 .gitignore를 설정해주고 라이센스를 선택한다.\n",
    "#    회사에서 라이센스 선택시 회의가 필요하므로 이런 작업을 할 일이 있다면\n",
    "#    반드시 먼저 상사에게 보고를 하고 진행하도록 한다.\n",
    "# 5. Create Repository를 눌러서 저장소를 생성한다.\n",
    "# 6. 초록색 버튼 Code에 보면 Clone이 있다.\n",
    "#    해당 URL을 전부 복사한다.\n",
    "# 7. 먼저 저장소의 기본 위치를 선택한다.\n",
    "#    cd ~\n",
    "#    cd proj\n",
    "#    홈 디렉토리 밑에 proj에 진입하게 된다.\n",
    "# 8. git clone '가져오고 싶은 저장소 이름'\n",
    "#    (홑 따옴표 필요 없음)\n",
    "# 9. 작업할 저장소로 위치를 이동한다.\n",
    "# 10. 해당 위치에서 jupyter notebook을 입력한다.\n",
    "# 11. 그러면 웹 브라우저에 쥬피터가 실행될 것이고\n",
    "#     여기서 기존에 파이썬 작업을 하듯이 파일을 작성하면 된다.\n",
    "# 12. git status - 현재 추적되지 않고 있는 파일을 볼 수 있다.\n",
    "# 13. 추적이 되지 않으므로 해당 파일을 추적하고 싶다면\n",
    "#     git add를 통해 파일을 추적할 수 있게 만들어준다.\n",
    "#     정말 잘 추적이 되는지 확인하기 위해\n",
    "#     github에 있는 저장소 원본으로 이동해서 추적되지 않음을 확인한다.\n",
    "#     git add '추적할 파일명 혹은 디렉토리 전체도 가능'\n",
    "# 14. git status를 입력하면 추적이 됨을 알리는 초록색 파일로 나타난다.\n",
    "#     그리고 commit 하라는 메시지가 같이 올라온다.\n",
    "# 15. git push origin master\n",
    "#     커밋된 내용을 모두 master(원격 저장소:원본)에 갱신한다.\n",
    "# *** 만약 위의 명령을 쳤는데 config --global 나오면\n",
    "#     해당 명령으로 email 주소와 name을 등록하면 된다.\n",
    "#     git config --global user.name \"git 이름 및 별명\"\n",
    "#     git config --global user.email \"깃 가입시 사용한 이메일 주소\""
   ]
  },
  {
   "cell_type": "code",
   "execution_count": 1,
   "metadata": {},
   "outputs": [
    {
     "name": "stdout",
     "output_type": "stream",
     "text": [
      "seventh\n"
     ]
    }
   ],
   "source": [
    "print(\"seventh\")"
   ]
  },
  {
   "cell_type": "code",
   "execution_count": 6,
   "metadata": {},
   "outputs": [
    {
     "name": "stdout",
     "output_type": "stream",
     "text": [
      "Count Down ... 5\n",
      "Count Down ... 4\n",
      "Count Down ... 3\n",
      "Count Down ... 2\n",
      "Count Down ... 1\n"
     ]
    }
   ],
   "source": [
    "import time\n",
    "import multiprocessing\n",
    "\n",
    "# multiprocessing.Process는 프로세스를 만드는데 활용\n",
    "class countDown(multiprocessing.Process):\n",
    "    \n",
    "    # 생성자쪽에서 multiprocessing.Process의 생성자를 호출해서 실제 가능한 프로세스 생서\n",
    "    # 해당 프로세스에는 x값을 입력으로 들어온 값을 설정\n",
    "    def __init__(self, x):\n",
    "        multiprocessing.Process.__init__(self)\n",
    "        self.x = x\n",
    "        \n",
    "    # 실제 프로세스가 run()을 사용하면 구동하는 함수\n",
    "    def run(self):\n",
    "        while True:\n",
    "            if self.x == 0:\n",
    "                break\n",
    "                \n",
    "            print(\"Count Down ... %d\" % self.x)\n",
    "            self.x -= 1\n",
    "            # sleep(초단위 시간)을 통해서 대기할 수 있음\n",
    "            time.sleep(1)\n",
    "            \n",
    "# 5초간 5 4 3 2 1을 카운트하는 프로세스를 생성한다\n",
    "p = countDown(5)\n",
    "\n",
    "# 실제 p에 해당하는 클래스의 run()을 구동\n",
    "p.start()"
   ]
  },
  {
   "cell_type": "code",
   "execution_count": null,
   "metadata": {},
   "outputs": [],
   "source": [
    "# 프로그램이 구동되는 도중에는 <defunct> 표시가 없었는데\n",
    "# 프로그램이 구동 완료된 이후에는 <defunct> 표시가 나타났다.\n",
    "# 리눅스에서는 프로세스를 관리할 때\n",
    "# 자식 프로세스가 죽으면 부모 프로세스 자식 프로세스의 시신을 회수해 가야 한다.\n",
    "# 그러나 부모 프로세스도 죽었다면 좀비 프로세스가 되서\n",
    "# init 프로세스가 정화를 해줄때까지 defunct 상태에 놓이게 된다.\n",
    "# 7627  5112  0 10:58 ?        00:00:00 [ZMQbg/83] <defunct>\n",
    "# 적당한 시간이 지나면 init(최상위 조상) 프로세스가 죽은 프로세스를 정리한다.\n",
    "# 정리하고 난 이후에 다시 ps -ef 명령을 보면\n",
    "# 기존에 있던 프로세스 아이디(PID)가 사라진 것을 확인할 수 있다."
   ]
  },
  {
   "cell_type": "code",
   "execution_count": 7,
   "metadata": {},
   "outputs": [
    {
     "name": "stdout",
     "output_type": "stream",
     "text": [
      "I'm workging ....: p1\n",
      "I'm workging ....: p2\n",
      "I'm workging ....: p3\n",
      "I'm workging ....: p4\n",
      "Main Thread....\n",
      "I'm workging ....: p1\n",
      "Main Thread....\n",
      "I'm workging ....: p2\n",
      "I'm workging ....: p1\n",
      "Main Thread....\n",
      "I'm workging ....: p3\n",
      "I'm workging ....: p1\n",
      "Main Thread....\n",
      "I'm workging ....: p2\n",
      "I'm workging ....: p1\n",
      "I'm workging ....: p4\n",
      "Main Thread....\n",
      "I'm workging ....: p1\n",
      "Main Thread....\n",
      "I'm workging ....: p2\n",
      "I'm workging ....: p3\n",
      "I'm workging ....: p1\n",
      "Main Thread....\n",
      "I'm workging ....: p1\n",
      "Main Thread....\n",
      "I'm workging ....: p2\n",
      "I'm workging ....: p4\n",
      "I'm workging ....: p1\n",
      "Main Thread....\n",
      "I'm workging ....: p3\n",
      "I'm workging ....: p1\n",
      "Main Thread....\n",
      "I'm workging ....: p2\n",
      "I'm workging ....: p1\n",
      "Main Thread....\n",
      "I'm workging ....: p1\n",
      "Main Thread....\n",
      "I'm workging ....: p3\n",
      "I'm workging ....: p4\n",
      "I'm workging ....: p2\n",
      "I'm workging ....: p1\n",
      "Main Thread....\n",
      "I'm workging ....: p1\n",
      "Main Thread....\n",
      "I'm workging ....: p2\n",
      "I'm workging ....: p1\n",
      "Main Thread....\n",
      "I'm workging ....: p3\n",
      "I'm workging ....: p1\n",
      "Main Thread....\n",
      "I'm workging ....: p4\n",
      "I'm workging ....: p2\n",
      "I'm workging ....: p1\n",
      "Main Thread....\n",
      "I'm workging ....: p1\n",
      "Main Thread....\n",
      "I'm workging ....: p3\n",
      "I'm workging ....: p2\n",
      "I'm workging ....: p1\n",
      "Main Thread....\n",
      "I'm workging ....: p1\n",
      "Main Thread....\n",
      "I'm workging ....: p4\n",
      "I'm workging ....: p2\n",
      "I'm workging ....: p1\n",
      "Main Thread....\n",
      "I'm workging ....: p3\n",
      "I'm workging ....: p1\n",
      "Main Thread....\n",
      "I'm workging ....: p2\n",
      "I'm workging ....: p1\n",
      "Main Thread....\n",
      "I'm workging ....: p1\n",
      "Main Thread....\n",
      "I'm workging ....: p4\n",
      "I'm workging ....: p3\n",
      "I'm workging ....: p2\n",
      "I'm workging ....: p1\n",
      "Main Thread....\n",
      "I'm workging ....: p1\n",
      "Main Thread....\n",
      "I'm workging ....: p2\n",
      "I'm workging ....: p1\n",
      "Main Thread....\n",
      "I'm workging ....: p3\n",
      "I'm workging ....: p1\n",
      "Main Thread....\n",
      "I'm workging ....: p4\n",
      "I'm workging ....: p2\n",
      "I'm workging ....: p1\n",
      "Main Thread....\n",
      "I'm workging ....: p1\n",
      "Main Thread....\n",
      "I'm workging ....: p3\n",
      "I'm workging ....: p2\n",
      "I'm workging ....: p1\n",
      "Main Thread....\n"
     ]
    },
    {
     "name": "stderr",
     "output_type": "stream",
     "text": [
      "Process Process-3:\n",
      "Process Process-6:\n",
      "Process Process-4:\n",
      "Process Process-5:\n",
      "Traceback (most recent call last):\n",
      "Traceback (most recent call last):\n",
      "Traceback (most recent call last):\n",
      "Traceback (most recent call last):\n",
      "  File \"/home/bitai/anaconda3/lib/python3.7/multiprocessing/process.py\", line 297, in _bootstrap\n",
      "    self.run()\n",
      "  File \"/home/bitai/anaconda3/lib/python3.7/multiprocessing/process.py\", line 297, in _bootstrap\n",
      "    self.run()\n",
      "  File \"/home/bitai/anaconda3/lib/python3.7/multiprocessing/process.py\", line 99, in run\n",
      "    self._target(*self._args, **self._kwargs)\n",
      "  File \"/home/bitai/anaconda3/lib/python3.7/multiprocessing/process.py\", line 297, in _bootstrap\n",
      "    self.run()\n",
      "  File \"/home/bitai/anaconda3/lib/python3.7/multiprocessing/process.py\", line 99, in run\n",
      "    self._target(*self._args, **self._kwargs)\n",
      "  File \"/home/bitai/anaconda3/lib/python3.7/multiprocessing/process.py\", line 297, in _bootstrap\n",
      "    self.run()\n",
      "  File \"/home/bitai/anaconda3/lib/python3.7/multiprocessing/process.py\", line 99, in run\n",
      "    self._target(*self._args, **self._kwargs)\n",
      "  File \"/home/bitai/anaconda3/lib/python3.7/multiprocessing/process.py\", line 99, in run\n",
      "    self._target(*self._args, **self._kwargs)\n",
      "  File \"<ipython-input-7-60c650611b43>\", line 8, in process\n",
      "    time.sleep(interval)\n",
      "  File \"<ipython-input-7-60c650611b43>\", line 8, in process\n",
      "    time.sleep(interval)\n",
      "  File \"<ipython-input-7-60c650611b43>\", line 8, in process\n",
      "    time.sleep(interval)\n",
      "  File \"<ipython-input-7-60c650611b43>\", line 8, in process\n",
      "    time.sleep(interval)\n",
      "KeyboardInterrupt\n",
      "KeyboardInterrupt\n",
      "KeyboardInterrupt\n",
      "KeyboardInterrupt\n"
     ]
    },
    {
     "ename": "KeyboardInterrupt",
     "evalue": "",
     "output_type": "error",
     "traceback": [
      "\u001b[0;31m---------------------------------------------------------------------------\u001b[0m",
      "\u001b[0;31mKeyboardInterrupt\u001b[0m                         Traceback (most recent call last)",
      "\u001b[0;32m<ipython-input-7-60c650611b43>\u001b[0m in \u001b[0;36m<module>\u001b[0;34m\u001b[0m\n\u001b[1;32m     22\u001b[0m     \u001b[0mcnt\u001b[0m\u001b[0;34m+=\u001b[0m\u001b[0;36m1\u001b[0m\u001b[0;34m\u001b[0m\u001b[0;34m\u001b[0m\u001b[0m\n\u001b[1;32m     23\u001b[0m     \u001b[0mprint\u001b[0m\u001b[0;34m(\u001b[0m\u001b[0;34m\"Main Thread....\"\u001b[0m\u001b[0;34m)\u001b[0m\u001b[0;34m\u001b[0m\u001b[0;34m\u001b[0m\u001b[0m\n\u001b[0;32m---> 24\u001b[0;31m     \u001b[0mtime\u001b[0m\u001b[0;34m.\u001b[0m\u001b[0msleep\u001b[0m\u001b[0;34m(\u001b[0m\u001b[0;36m1\u001b[0m\u001b[0;34m)\u001b[0m\u001b[0;34m\u001b[0m\u001b[0;34m\u001b[0m\u001b[0m\n\u001b[0m",
      "\u001b[0;31mKeyboardInterrupt\u001b[0m: "
     ]
    }
   ],
   "source": [
    "# 멀티프로세스란? 여러 개의 프로세스가 동시다발적으로 작업을 하는 과정 \n",
    "\n",
    "import time\n",
    "import multiprocessing\n",
    "\n",
    "# process함수는 메시지를 출력하고 일정 간격으로 동작을 하도록 support !\n",
    "def process(message, interval):\n",
    "    while True:\n",
    "        print(\"I'm workging ....: %s\" %message)\n",
    "        time.sleep(interval)\n",
    "        \n",
    "# 람다 >> 메서드를 객체화\n",
    "# p1이라는 프로세스를 만드는데 이 녀석에게 def process()의 일으 시킬 것이다.\n",
    "# 그리고 파라미터(입력)로는 args=(\"p1\", 1)을 전달할 것이다.\n",
    "p1 = multiprocessing.Process(target = process, args = (\"p1\", 1, ))\n",
    "p2 = multiprocessing.Process(target = process, args = (\"p2\", 2, ))\n",
    "p3 = multiprocessing.Process(target = process, args = (\"p3\", 3, ))\n",
    "p4 = multiprocessing.Process(target = process, args = (\"p4\", 4, ))\n",
    "\n",
    "p1.start()\n",
    "p2.start()\n",
    "p3.start()\n",
    "p4.start()\n",
    "\n",
    "cnt = 0\n",
    "while cnt < 100:\n",
    "    cnt += 1\n",
    "    \n",
    "    # 메인 스레드 == 부모 프로세스\n",
    "    # 프로세스를 생성할 때는 부모 프로세스가 자식 프로세스를 관리하게 된다\n",
    "    # ps -ef 명령으로 볼 때 >> 자식 프로세스들은 모두 공통된 부모 프로세스를 갖는다.\n",
    "    # 자식의 프로세스 ID는 PID, 부모 프로세스의 ID는 PPID\n",
    "    print(\"Main Thread....\")\n",
    "    time.sleep(1)\n",
    "    \n",
    "# ps -ef로 프로세스 리스트를 확인할 수 있고, 확인된 프로세스들 중 강제종료를 하고 싶다면 >> kill -9 PID 숫자를 통해서 제거 가능\n"
   ]
  },
  {
   "cell_type": "code",
   "execution_count": 15,
   "metadata": {},
   "outputs": [
    {
     "name": "stdout",
     "output_type": "stream",
     "text": [
      "100\n",
      "[0, 1, 4, 9, 16, 25, 36, 49, 64, 81]\n",
      "0\n",
      "1\n",
      "4\n",
      "None\n",
      "pass\n"
     ]
    },
    {
     "ename": "TimeoutError",
     "evalue": "",
     "output_type": "error",
     "traceback": [
      "\u001b[0;31m---------------------------------------------------------------------------\u001b[0m",
      "\u001b[0;31mTimeoutError\u001b[0m                              Traceback (most recent call last)",
      "\u001b[0;32m<ipython-input-15-0108474b7cb5>\u001b[0m in \u001b[0;36m<module>\u001b[0;34m\u001b[0m\n\u001b[1;32m     38\u001b[0m \u001b[0;31m# 10초간 슬립을 하는데 대기 시간은 3초이므로 에러가 발생!\u001b[0m\u001b[0;34m\u001b[0m\u001b[0;34m\u001b[0m\u001b[0;34m\u001b[0m\u001b[0m\n\u001b[1;32m     39\u001b[0m \u001b[0mres\u001b[0m \u001b[0;34m=\u001b[0m \u001b[0mpool\u001b[0m\u001b[0;34m.\u001b[0m\u001b[0mapply_async\u001b[0m\u001b[0;34m(\u001b[0m\u001b[0mtime\u001b[0m\u001b[0;34m.\u001b[0m\u001b[0msleep\u001b[0m\u001b[0;34m,\u001b[0m \u001b[0;34m(\u001b[0m\u001b[0;36m10\u001b[0m\u001b[0;34m,\u001b[0m \u001b[0;34m)\u001b[0m\u001b[0;34m)\u001b[0m\u001b[0;34m\u001b[0m\u001b[0;34m\u001b[0m\u001b[0m\n\u001b[0;32m---> 40\u001b[0;31m \u001b[0mprint\u001b[0m\u001b[0;34m(\u001b[0m\u001b[0mres\u001b[0m\u001b[0;34m.\u001b[0m\u001b[0mget\u001b[0m\u001b[0;34m(\u001b[0m\u001b[0mtimeout\u001b[0m \u001b[0;34m=\u001b[0m \u001b[0;36m3\u001b[0m\u001b[0;34m)\u001b[0m\u001b[0;34m)\u001b[0m\u001b[0;34m\u001b[0m\u001b[0;34m\u001b[0m\u001b[0m\n\u001b[0m",
      "\u001b[0;32m~/anaconda3/lib/python3.7/multiprocessing/pool.py\u001b[0m in \u001b[0;36mget\u001b[0;34m(self, timeout)\u001b[0m\n\u001b[1;32m    651\u001b[0m         \u001b[0mself\u001b[0m\u001b[0;34m.\u001b[0m\u001b[0mwait\u001b[0m\u001b[0;34m(\u001b[0m\u001b[0mtimeout\u001b[0m\u001b[0;34m)\u001b[0m\u001b[0;34m\u001b[0m\u001b[0;34m\u001b[0m\u001b[0m\n\u001b[1;32m    652\u001b[0m         \u001b[0;32mif\u001b[0m \u001b[0;32mnot\u001b[0m \u001b[0mself\u001b[0m\u001b[0;34m.\u001b[0m\u001b[0mready\u001b[0m\u001b[0;34m(\u001b[0m\u001b[0;34m)\u001b[0m\u001b[0;34m:\u001b[0m\u001b[0;34m\u001b[0m\u001b[0;34m\u001b[0m\u001b[0m\n\u001b[0;32m--> 653\u001b[0;31m             \u001b[0;32mraise\u001b[0m \u001b[0mTimeoutError\u001b[0m\u001b[0;34m\u001b[0m\u001b[0;34m\u001b[0m\u001b[0m\n\u001b[0m\u001b[1;32m    654\u001b[0m         \u001b[0;32mif\u001b[0m \u001b[0mself\u001b[0m\u001b[0;34m.\u001b[0m\u001b[0m_success\u001b[0m\u001b[0;34m:\u001b[0m\u001b[0;34m\u001b[0m\u001b[0;34m\u001b[0m\u001b[0m\n\u001b[1;32m    655\u001b[0m             \u001b[0;32mreturn\u001b[0m \u001b[0mself\u001b[0m\u001b[0;34m.\u001b[0m\u001b[0m_value\u001b[0m\u001b[0;34m\u001b[0m\u001b[0;34m\u001b[0m\u001b[0m\n",
      "\u001b[0;31mTimeoutError\u001b[0m: "
     ]
    }
   ],
   "source": [
    "import time\n",
    "from multiprocessing import Pool\n",
    "\n",
    "def f(x):\n",
    "    return x * x\n",
    "\n",
    "# 프로세스들의 집합 장소를 만들어서 4개를 수용할 수 있도록 하였다.\n",
    "pool = Pool(processes = 4)\n",
    "\n",
    "# 이때 작업 전체는 비동기 처리가 이루어진다.\n",
    "# pool.apply_async()가 비동기 처리 작업을 지원한다.\n",
    "# 숫자 10을 제곱하는 용도\n",
    "# 프로세스에 작업 처리를 전달할 경우에는 데이터 2개를 넣을 때\n",
    "# 2개를 표시해주고 , 표시하고 괄호를 닫아야 한다.\n",
    "# ex) pool.abcd(f, (10, 20, ))\n",
    "res = pool.apply_async(f, (10, ))\n",
    "\n",
    "# 1초안에 처리하지 못하면 에러!\n",
    "# 처리를 한다면 결과를 출력한다.\n",
    "print(res.get(timeout = 1))\n",
    "\n",
    "# 위의 def f라는 기능을 10번 작업하도록 한다.\n",
    "# range(10)은 데이터 개수가 10개 이므로 비동기 처리의 의미가 있다.\n",
    "print(pool.map(f, range(10)))\n",
    "\n",
    "# pool.imap의 경우에는 출력하지 않고 iteration(반복) 가능한 객체를 만든다.\n",
    "it = pool.imap(f, range(10))\n",
    "\n",
    "# it.next()를 통해서 첫 번째 결과\n",
    "print(it.next()) # >> 0\n",
    "\n",
    "# 두 번째 결과\n",
    "print(it.next()) # >> 1\n",
    "\n",
    "# 세 번째 결과를 출력한다.\n",
    "print(it.next(timeout = 2)) # >> 4\n",
    "\n",
    "# 10초간 슬립하고 하는 일이 없으므로 None이 나온다.\n",
    "res = pool.apply_async(time.sleep, (10, ))\n",
    "print(res.get(timeout = 60))\n",
    "print(\"pass\")\n",
    "\n",
    "# 10초간 슬립을 하는데 대기 시간은 3초이므로 에러가 발생!\n",
    "res = pool.apply_async(time.sleep, (10, ))\n",
    "print(res.get(timeout = 3))"
   ]
  },
  {
   "cell_type": "code",
   "execution_count": 18,
   "metadata": {},
   "outputs": [
    {
     "name": "stdout",
     "output_type": "stream",
     "text": [
      "Final Money = 19562\n",
      "Final Money = 16022\n",
      "Final Money = 20360\n",
      "Final Money = 22394\n",
      "Final Money = 19751\n",
      "Final Money = 19112\n",
      "Final Money = 18472\n",
      "Final Money = 20716\n",
      "Final Money = 18139\n",
      "Final Money = 20318\n"
     ]
    }
   ],
   "source": [
    "import multiprocessing as mp\n",
    "\n",
    "def withdraw(money):\n",
    "    for _ in range(20000):\n",
    "        money.value -= 1\n",
    "    \n",
    "def deposit(money):\n",
    "    for _ in range(20000):\n",
    "        money.value += 1\n",
    "        \n",
    "def perform_process():\n",
    "    \n",
    "    # money는 크리티컬 섹션이 되었다.\n",
    "    # 공유자원 생성\n",
    "    money = mp.Value('i', 20000)\n",
    "    \n",
    "    p1 = mp.Process(target = withdraw, args = (money, ))\n",
    "    p2 = mp.Process(target = deposit, args = (money, ))\n",
    "    \n",
    "    p1.start()\n",
    "    p2.start()\n",
    "    \n",
    "    p1.join()\n",
    "    p2.join()\n",
    "    \n",
    "    print(\"Final Money = {}\".format(money.value))\n",
    "    \n",
    "for _ in range(10):\n",
    "    perform_process()"
   ]
  },
  {
   "cell_type": "code",
   "execution_count": 19,
   "metadata": {},
   "outputs": [
    {
     "name": "stdout",
     "output_type": "stream",
     "text": [
      "Final Money = 20000\n",
      "Final Money = 20000\n",
      "Final Money = 20000\n",
      "Final Money = 20000\n",
      "Final Money = 20000\n",
      "Final Money = 20000\n",
      "Final Money = 20000\n",
      "Final Money = 20000\n",
      "Final Money = 20000\n",
      "Final Money = 20000\n"
     ]
    }
   ],
   "source": [
    "import multiprocessing as mp\n",
    "\n",
    "# p1 프로세스의 작업 - 0.000000001\n",
    "def withdraw(money, lock):\n",
    "    for _ in range(20000):\n",
    "        \n",
    "        # 자물쇠를 채운다(lock.acquire()).\n",
    "        # 자물쇠를 채웠으므로 아무도 여기에는 이제 들어오지 못한다.\n",
    "        # 들어오지 못하는 영역이 결국 크리티컬 섹션이다.\n",
    "        # 만약 자물쇠(락)가 채워진 상태에서 다른 녀석이\n",
    "        # 자물쇠(락)을 얻으려고 하면 접근하지 못하게 된다.\n",
    "        # (락이 풀릴때 까지 - lock.release())\n",
    "        lock.acquire()\n",
    "        money.value -= 1\n",
    "        lock.release()\n",
    "    \n",
    "# p2 프로세스의 작업 - 0.000000007\n",
    "def deposit(money, lock):\n",
    "    for _ in range(20000):\n",
    "        lock.acquire()\n",
    "        money.value += 1\n",
    "        lock.release()\n",
    "        \n",
    "def perform_process():\n",
    "    \n",
    "    # money는 크리티컬 섹션이 되었다.\n",
    "    # 프로세스 간에는 데이터를 공유할 수 있음 >> IPC라는 것을 사용하여 공유할 수 있게 도와줌\n",
    "    # i: 내부적으로 변수를 어떻게 설정해줄지 결정\n",
    "    money = mp.Value('i', 20000)\n",
    "    \n",
    "    # 크리티컬 섹션을 보호해주기 위한 락을 추가했다.\n",
    "    # 락을 남발하면 오히려 성능을 저하시킬 수 있다.\n",
    "    # 그러나 크리티컬 섹션에 대한 보호를 수행하는데 락을 반드시 사용해야 한다.\n",
    "    lock = mp.Lock()\n",
    "    \n",
    "    p1 = mp.Process(target = withdraw, args = (money, lock, ))\n",
    "    p2 = mp.Process(target = deposit, args = (money, lock, ))\n",
    "    \n",
    "    p1.start()\n",
    "    p2.start()\n",
    "    \n",
    "    p1.join()\n",
    "    p2.join()\n",
    "    \n",
    "    print(\"Final Money = {}\".format(money.value))\n",
    "    \n",
    "for _ in range(10):\n",
    "    perform_process()"
   ]
  },
  {
   "cell_type": "code",
   "execution_count": 20,
   "metadata": {},
   "outputs": [],
   "source": [
    "# 세마포 >> 락에 들어갈 수 있는 스레드나 프로세스가 정해져있음, 비동기처리, Context Switching, 복잡한 작업\n",
    "### Context SWitching >> 프로세스가 전환될 때, 이전 레지스터 정보를 스택에 저장 후 전환\n",
    "#\n",
    "# Spinlock >> while Loop, 폴링(polling), 단순 작업"
   ]
  },
  {
   "cell_type": "code",
   "execution_count": 26,
   "metadata": {},
   "outputs": [
    {
     "name": "stdout",
     "output_type": "stream",
     "text": [
      "[time:Thu Jul  2 15:05:21 2020][tid:139714766018304] Thread! \n",
      "\n",
      "[time:Thu Jul  2 15:05:21 2020][tid:139714791196416] Thread! \n",
      "\n",
      "[time:Thu Jul  2 15:05:21 2020][tid:139714279503616] Thread! \n",
      "\n",
      "[time:Thu Jul  2 15:05:21 2020][tid:139714774411008] Thread! \n",
      "\n",
      "[time:Thu Jul  2 15:05:21 2020][tid:139716318181120] Thread! \n",
      "[time:Thu Jul  2 15:05:21 2020][tid:139716309788416] Thread! \n",
      "\n",
      "\n",
      "[time:Thu Jul  2 15:05:21 2020][tid:139715957225216] Thread! \n",
      "\n",
      "[time:Thu Jul  2 15:05:21 2020][tid:139715948832512] Thread! \n",
      "\n",
      "[time:Thu Jul  2 15:05:21 2020][tid:139715940439808] Thread! \n",
      "\n",
      "[time:Thu Jul  2 15:05:21 2020][tid:139715932047104] Thread! \n",
      "\n",
      "[time:Thu Jul  2 15:05:21 2020][tid:139715923654400] Thread! \n",
      "\n",
      "[time:Thu Jul  2 15:05:21 2020][tid:139715915261696] Thread! \n",
      "\n"
     ]
    }
   ],
   "source": [
    "import time\n",
    "import threading\n",
    "\n",
    "# threading.Thread를 상속받아 DummyThread를 기본적인 Thread 구조로 만들었다\n",
    "# 여기서는 run만 구현하면 바로 스레드를 활용할 수 있게 된다.\n",
    "# run에는 스레드가 작업할 내용을 작성해주면 된다.\n",
    "class DummmyThread(threading.Thread):\n",
    "    def run(self):\n",
    "        \n",
    "        # time.ctime()은 생성 시간\n",
    "        now = time.ctime()\n",
    "        \n",
    "        # self.ident는 Thread 자체의 ID값을 나타낸다.\n",
    "        print(\n",
    "            \"[time:%s][tid:%d] Thread! \\n\" % (now, self.ident)\n",
    "        )\n",
    "        time.sleep(30)\n",
    "\n",
    "# 스레드 전체 총괄하는 Main Thread(Process)가 있고 Main Thread의 통제를 받는 12개의 별도 Thread가 존재\n",
    "# ps -eLF로 확인할 수 있음\n",
    "for _ in range(12):\n",
    "    t = DummmyThread()\n",
    "    t.start()"
   ]
  },
  {
   "cell_type": "code",
   "execution_count": 27,
   "metadata": {},
   "outputs": [],
   "source": [
    "# Thread 와 Process의 차이점이 하나 있다.\n",
    "# Thread는 기본적으로 Data 영역을 공유\n",
    "# Process는 기본적으로 Data 영역이 구분"
   ]
  },
  {
   "cell_type": "code",
   "execution_count": 36,
   "metadata": {},
   "outputs": [
    {
     "name": "stdout",
     "output_type": "stream",
     "text": [
      "x = 200000 after Iteration 0\n",
      "x = 200000 after Iteration 1\n",
      "x = 200000 after Iteration 2\n",
      "x = 200000 after Iteration 3\n",
      "x = 200000 after Iteration 4\n",
      "x = 200000 after Iteration 5\n",
      "x = 200000 after Iteration 6\n",
      "x = 138799 after Iteration 7\n",
      "x = 200000 after Iteration 8\n",
      "x = 200000 after Iteration 9\n"
     ]
    }
   ],
   "source": [
    "import threading\n",
    "\n",
    "# 전역 변수는 Data 영역에 배치\n",
    "x = 0\n",
    "\n",
    "def increment_global():\n",
    "    global x\n",
    "    x += 1\n",
    "    \n",
    "def taskOfThread():\n",
    "    for _ in range(100000):\n",
    "        increment_global()\n",
    "\n",
    "def thread_main():\n",
    "    global x\n",
    "    x = 0\n",
    "    \n",
    "    # 2개의 Thread 생성\n",
    "    t1 = threading.Thread(target=taskOfThread)\n",
    "    t2 = threading.Thread(target=taskOfThread)\n",
    "    \n",
    "    t1.start()\n",
    "    t2.start()\n",
    "    \n",
    "    t1.join()\n",
    "    t2.join()\n",
    "    \n",
    "# 이번 예재를 통해서 쓰레드가 전역변수의 내용을 별도의 작업 없이도 공유할 수 있음을 확인할 수 있음\n",
    "for i in range(10):\n",
    "    thread_main()\n",
    "    print(\"x = {1} after Iteration {0}\".format(i, x))"
   ]
  },
  {
   "cell_type": "code",
   "execution_count": 2,
   "metadata": {},
   "outputs": [
    {
     "name": "stdout",
     "output_type": "stream",
     "text": [
      "x = 200000 after Iteration 0\n",
      "x = 200000 after Iteration 1\n",
      "x = 200000 after Iteration 2\n",
      "x = 200000 after Iteration 3\n",
      "x = 200000 after Iteration 4\n",
      "x = 200000 after Iteration 5\n",
      "x = 200000 after Iteration 6\n",
      "x = 200000 after Iteration 7\n",
      "x = 200000 after Iteration 8\n",
      "x = 200000 after Iteration 9\n"
     ]
    }
   ],
   "source": [
    "import threading\n",
    "\n",
    "# Threading 라이브러리의 Lock을 사용하는 것이 좋다\n",
    "lock = threading.Lock()\n",
    "# 전역 변수는 Data 영역에 배치\n",
    "x = 0\n",
    "\n",
    "\n",
    "def increment_global():\n",
    "    global x\n",
    "    x += 1\n",
    "    \n",
    "def taskOfThread():\n",
    "    for _ in range(100000):\n",
    "        lock.acquire()\n",
    "        increment_global()\n",
    "        lock.release()\n",
    "        \n",
    "def thread_main():\n",
    "    global x\n",
    "    x = 0\n",
    "    \n",
    "    # 2개의 Thread 생성\n",
    "    t1 = threading.Thread(target=taskOfThread)\n",
    "    t2 = threading.Thread(target=taskOfThread)\n",
    "    \n",
    "    t1.start()\n",
    "    t2.start()\n",
    "    \n",
    "    t1.join()\n",
    "    t2.join()\n",
    "    \n",
    "# 이번 예재를 통해서 쓰레드가 전역변수의 내용을 별도의 작업 없이도 공유할 수 있음을 확인할 수 있음\n",
    "for i in range(10):\n",
    "    thread_main()\n",
    "    print(\"x = {1} after Iteration {0}\".format(i, x))"
   ]
  },
  {
   "cell_type": "code",
   "execution_count": 7,
   "metadata": {},
   "outputs": [],
   "source": [
    "def square2(x):\n",
    "    return x*x\n",
    "    \n",
    "myList = [1, 2, 3, 4, 5]\n",
    "res = []\n",
    "\n",
    "for num in myList:\n",
    "    res.append(square2(num))\n"
   ]
  },
  {
   "cell_type": "code",
   "execution_count": 10,
   "metadata": {},
   "outputs": [
    {
     "name": "stdout",
     "output_type": "stream",
     "text": [
      "Worker Process is for 2: 14000\n",
      "Worker Process is for 1: 13999\n",
      "Worker Process is for 4: 14002\n",
      "Worker Process is for 5: 14003\n",
      "Worker Process is for 3: 14001\n",
      "[1, 4, 9, 16, 25]\n"
     ]
    }
   ],
   "source": [
    "import os\n",
    "import multiprocessing\n",
    "\n",
    "def square(n):\n",
    "    print(\"Worker Process is for {0}: {1}\".format(n, os.getpid()))\n",
    "    return n*n\n",
    "\n",
    "p = multiprocessing.Pool()\n",
    "res = p.map(square, myList)\n",
    "\n",
    "print(res)"
   ]
  },
  {
   "cell_type": "code",
   "execution_count": 4,
   "metadata": {},
   "outputs": [
    {
     "name": "stderr",
     "output_type": "stream",
     "text": [
      "(thread_0 )Waiting to join the pool\n",
      "(thread_1 )Waiting to join the pool\n",
      "(thread_2 )Waiting to join the pool\n",
      "(thread_3 )Waiting to join the pool\n",
      "(thread_4 )Waiting to join the pool\n",
      "(thread_5 )Waiting to join the pool\n",
      "(thread_6 )Waiting to join the pool\n",
      "(thread_7 )Waiting to join the pool\n",
      "(thread_8 )Waiting to join the pool\n"
     ]
    },
    {
     "name": "stdout",
     "output_type": "stream",
     "text": [
      "make active\n",
      "make active append\n",
      "make active\n",
      "make active\n"
     ]
    },
    {
     "name": "stderr",
     "output_type": "stream",
     "text": [
      "(thread_9 )Waiting to join the pool\n",
      "(thread_0 )Running: ['thread_0']\n"
     ]
    },
    {
     "name": "stdout",
     "output_type": "stream",
     "text": [
      "make active append\n",
      "make inactive\n"
     ]
    },
    {
     "name": "stderr",
     "output_type": "stream",
     "text": [
      "(thread_1 )Running: ['thread_0', 'thread_1']\n"
     ]
    },
    {
     "name": "stdout",
     "output_type": "stream",
     "text": [
      "make active append\n",
      "make inactive\n"
     ]
    },
    {
     "name": "stderr",
     "output_type": "stream",
     "text": [
      "(thread_2 )Running: ['thread_0', 'thread_1', 'thread_2']\n",
      "(thread_0 )Runnig: ['thread_1', 'thread_2']\n",
      "(thread_1 )Runnig: ['thread_2']\n"
     ]
    },
    {
     "name": "stdout",
     "output_type": "stream",
     "text": [
      "make inactive remove\n",
      "make activemake inactive remove\n",
      "\n",
      "make activemake active append\n",
      "\n",
      "make inactive\n"
     ]
    },
    {
     "name": "stderr",
     "output_type": "stream",
     "text": [
      "(thread_3 )Running: ['thread_2', 'thread_3']\n"
     ]
    },
    {
     "name": "stdout",
     "output_type": "stream",
     "text": [
      "make active append\n",
      "make inactive\n"
     ]
    },
    {
     "name": "stderr",
     "output_type": "stream",
     "text": [
      "(thread_4 )Running: ['thread_2', 'thread_3', 'thread_4']\n",
      "(thread_2 )Runnig: ['thread_3', 'thread_4']\n",
      "(thread_3 )Runnig: ['thread_4']\n"
     ]
    },
    {
     "name": "stdout",
     "output_type": "stream",
     "text": [
      "make inactive remove\n",
      "make inactive removemake active\n",
      "\n",
      "make active\n",
      "make active append\n",
      "make inactive\n"
     ]
    },
    {
     "name": "stderr",
     "output_type": "stream",
     "text": [
      "(thread_5 )Running: ['thread_4', 'thread_5']\n"
     ]
    },
    {
     "name": "stdout",
     "output_type": "stream",
     "text": [
      "make active append\n",
      "make inactive\n"
     ]
    },
    {
     "name": "stderr",
     "output_type": "stream",
     "text": [
      "(thread_6 )Running: ['thread_4', 'thread_5', 'thread_6']\n",
      "(thread_4 )Runnig: ['thread_5', 'thread_6']\n",
      "(thread_5 )Runnig: ['thread_6']\n"
     ]
    },
    {
     "name": "stdout",
     "output_type": "stream",
     "text": [
      "make inactive remove\n",
      "make active\n",
      "make inactive remove\n",
      "make active append\n",
      "make active\n",
      "make inactive\n"
     ]
    },
    {
     "name": "stderr",
     "output_type": "stream",
     "text": [
      "(thread_7 )Running: ['thread_6', 'thread_7']\n"
     ]
    },
    {
     "name": "stdout",
     "output_type": "stream",
     "text": [
      "make active append\n",
      "make inactive\n"
     ]
    },
    {
     "name": "stderr",
     "output_type": "stream",
     "text": [
      "(thread_8 )Running: ['thread_6', 'thread_7', 'thread_8']\n",
      "(thread_6 )Runnig: ['thread_7', 'thread_8']\n",
      "(thread_7 )Runnig: ['thread_8']\n"
     ]
    },
    {
     "name": "stdout",
     "output_type": "stream",
     "text": [
      "make inactive remove\n",
      "make activemake inactive remove\n",
      "\n",
      "make active append\n",
      "make inactive\n"
     ]
    },
    {
     "name": "stderr",
     "output_type": "stream",
     "text": [
      "(thread_9 )Running: ['thread_8', 'thread_9']\n",
      "(thread_8 )Runnig: ['thread_9']\n"
     ]
    },
    {
     "name": "stdout",
     "output_type": "stream",
     "text": [
      "make inactive remove\n"
     ]
    },
    {
     "name": "stderr",
     "output_type": "stream",
     "text": [
      "(thread_9 )Runnig: []\n"
     ]
    },
    {
     "name": "stdout",
     "output_type": "stream",
     "text": [
      "make inactive\n",
      "make inactive remove\n"
     ]
    }
   ],
   "source": [
    "import threading\n",
    "import time\n",
    "import logging\n",
    "\n",
    "logging.basicConfig(level = logging.DEBUG, format='(%(threadName)-9s)%(message)s', )\n",
    "\n",
    "class ThreadPool(object):\n",
    "    def __init__(self):\n",
    "        super(ThreadPool, self).__init__()\n",
    "        self.active = []\n",
    "        self.lock = threading.Lock()\n",
    "        \n",
    "    def makeActive(self, name):\n",
    "        print('make active')\n",
    "        \n",
    "        # with가 걸려있으면 해당 스코프가 끝나기 전에 lock이 release되지 않는다.\n",
    "        with self.lock:\n",
    "            print('make active append')\n",
    "            \n",
    "            # 실제 연산할 내용은 여기에 작성한다.\n",
    "            self.active.append(name)\n",
    "            time.sleep(5)\n",
    "            logging.debug('Running: %s', self.active)\n",
    "            \n",
    "    def makeInactive(self, name):\n",
    "        print('make inactive')\n",
    "        with self.lock:\n",
    "            print('make inactive remove')\n",
    "            self.active.remove(name)\n",
    "            logging.debug('Runnig: %s', self.active)\n",
    "            \n",
    "def f(s, pool):\n",
    "    logging.debug('Waiting to join the pool')\n",
    "    \n",
    "    # 세마포 베이스의 작업을 하겠다는 의미\n",
    "    with s:\n",
    "        name = threading.currentThread().getName()\n",
    "        pool.makeActive(name)\n",
    "        time.sleep(1)\n",
    "        pool.makeInactive(name)\n",
    "           \n",
    "# 여러 개의 스레드를 수용할 수 있는 Pool을 만든다.\n",
    "pool = ThreadPool()\n",
    "\n",
    "# 최대 3개까지 사용할 수 있는 세마포를 만든다.\n",
    "s = threading.Semaphore(3)            \n",
    "\n",
    "# 총 10개의 스레드를 만들어서 구동시킨다.\n",
    "for i in range(10):\n",
    "    t = threading.Thread(target = f, name = 'thread_'+ str(i), args = (s, pool))\n",
    "    t.start()"
   ]
  },
  {
   "cell_type": "code",
   "execution_count": 6,
   "metadata": {},
   "outputs": [
    {
     "name": "stdout",
     "output_type": "stream",
     "text": [
      "[[166.   58.7]\n",
      " [176.   75.7]\n",
      " [171.   90.1]\n",
      " [169.   60.1]\n",
      " [173.   70.4]]\n",
      "(5, 2)\n"
     ]
    },
    {
     "data": {
      "image/png": "[encoded data removed]",
      "text/plain": [
       "<Figure size 432x288 with 1 Axes>"
      ]
     },
     "metadata": {
      "needs_background": "light"
     },
     "output_type": "display_data"
    }
   ],
   "source": [
    "import numpy as np\n",
    "import pandas as pd\n",
    "import matplotlib.pyplot as plt\n",
    "\n",
    "sampleData1 = np.array([[166, 58.7], [176.0, 75.7], [171.0, 90.1], [169, 60.1], [173.0, 70.4]])\\\n",
    "\n",
    "# 위의 방식으로 행렬을 만들 수 있다.\n",
    "print(sampleData1)\n",
    "\n",
    "# 행렬 변수의 shape을 출력하면 행렬의 차원을 얻을 수 있다.\n",
    "print(sampleData1.shape)"
   ]
  },
  {
   "cell_type": "code",
   "execution_count": 8,
   "metadata": {},
   "outputs": [
    {
     "data": {
      "image/png": "[encoded data removed]",
      "text/plain": [
       "<Figure size 432x288 with 1 Axes>"
      ]
     },
     "metadata": {
      "needs_background": "light"
     },
     "output_type": "display_data"
    }
   ],
   "source": [
    "for p in sampleData1:\n",
    "    plt.scatter(p[0], p[1], c='k', s=50)\n",
    "    \n",
    "plt.grid()\n",
    "plt.xlabel('$x$')\n",
    "plt.ylabel('$y$')\n",
    "plt.show()"
   ]
  },
  {
   "cell_type": "code",
   "execution_count": 10,
   "metadata": {},
   "outputs": [
    {
     "name": "stdout",
     "output_type": "stream",
     "text": [
      "[0 1 2 3 4 5 6 7 8 9]\n",
      "[ 5  6  7  8  9 10 11 12 13 14]\n",
      "[ 1  3  5  7  9 11 13 15 17 19 21 23 25 27 29 31 33 35 37 39 41 43 45 47\n",
      " 49 51 53 55 57 59 61 63 65 67 69 71 73 75 77 79 81 83 85 87 89 91 93 95\n",
      " 97 99]\n"
     ]
    }
   ],
   "source": [
    "# 0 ~ 9\n",
    "value1 = np.arange(10)\n",
    "\n",
    "# 5 ~ 14\n",
    "value2 = np.arange(5, 15)\n",
    "\n",
    "# 1 ~ 99까진데 중간의 차이가 2씩 존재\n",
    "value3 = np.arange(1, 100, 2)\n",
    "\n",
    "print(value1)\n",
    "print(value2)\n",
    "print(value3)"
   ]
  },
  {
   "cell_type": "code",
   "execution_count": 7,
   "metadata": {},
   "outputs": [
    {
     "name": "stdout",
     "output_type": "stream",
     "text": [
      "30000000.0\n",
      "0 ~ 3까지 적분 결과는 = 8.999999547431766\n"
     ]
    }
   ],
   "source": [
    "dx = 0.0000001\n",
    "start = 0.0\n",
    "end = 3.0\n",
    "\n",
    "loopLen = (end - start) / dx\n",
    "print(loopLen)\n",
    "\n",
    "x = 0\n",
    "y = 0\n",
    "area = 0\n",
    "\n",
    "for i in range(int(loopLen)):\n",
    "    y = x ** 2\n",
    "    x += dx\n",
    "    area += dx * y\n",
    "    \n",
    "print(\"0 ~ 3까지 적분 결과는 = \" + str(area))"
   ]
  },
  {
   "cell_type": "code",
   "execution_count": 42,
   "metadata": {},
   "outputs": [
    {
     "name": "stdout",
     "output_type": "stream",
     "text": [
      "y = x^2에 대한 0 ~ 3까지의 정적분 결과 :  8.999995500000502\n"
     ]
    }
   ],
   "source": [
    "import numpy as np\n",
    "\n",
    "dx = 0.000001\n",
    "\n",
    "# y = x^2\n",
    "def integralRange(start, end):\n",
    "    curX = np.arange(start, end, dx)\n",
    "    Y = curX ** 2\n",
    "    eachBlock = dx * Y\n",
    "    area = np.sum(eachBlock)\n",
    "    return area\n",
    "    \n",
    "print(\"y = x^2에 대한 0 ~ 3까지의 정적분 결과 : \",integralRange(0, 3))"
   ]
  },
  {
   "cell_type": "code",
   "execution_count": 2,
   "metadata": {},
   "outputs": [
    {
     "name": "stdout",
     "output_type": "stream",
     "text": [
      "y = x^2에 대한 0 ~ 3까지의 정적분 결과 :  8.9955005\n"
     ]
    }
   ],
   "source": [
    "import os\n",
    "import numpy as np\n",
    "import multiprocessing\n",
    "\n",
    "dx = 0.001\n",
    "\n",
    "def calc(x):\n",
    "    return dx * (x ** 2)\n",
    "\n",
    "def integralRange2(start, end):\n",
    "    curX = np.arange(start, end, dx)\n",
    "    \n",
    "    p = multiprocessing.Pool()\n",
    "    res = p.map(calc, curX)\n",
    "    area = np.sum(res)\n",
    "    return area\n",
    "\n",
    "print(\"y = x^2에 대한 0 ~ 3까지의 정적분 결과 : \",integralRange2(0, 3))"
   ]
  },
  {
   "cell_type": "code",
   "execution_count": 9,
   "metadata": {},
   "outputs": [
    {
     "name": "stdout",
     "output_type": "stream",
     "text": [
      "30000000.0\n",
      "0 ~ 3까지 적분 결과는 = 8.999999547431766\n",
      "t1 = 5.0\n"
     ]
    }
   ],
   "source": [
    "import os\n",
    "import time\n",
    "import numpy as np\n",
    "import multiprocessing\n",
    "\n",
    "dx = 0.0000001\n",
    "start = 0.0\n",
    "end = 3.0\n",
    "\n",
    "t = time.mktime(time.localtime())\n",
    "\n",
    "loopLen = (end - start) / dx\n",
    "print(loopLen)\n",
    "\n",
    "x = 0\n",
    "y = 0\n",
    "area = 0\n",
    "\n",
    "for i in range(int(loopLen)):\n",
    "    y = x ** 2\n",
    "    x += dx\n",
    "    area += dx * y\n",
    "    \n",
    "print(\"0 ~ 3까지 적분 결과는 = \" + str(area))\n",
    "\n",
    "t1 = time.mktime(time.localtime()) - t\n",
    "print(\"t1 =\", t1)"
   ]
  },
  {
   "cell_type": "code",
   "execution_count": 10,
   "metadata": {},
   "outputs": [
    {
     "name": "stdout",
     "output_type": "stream",
     "text": [
      "y = x^2의 0 ~ 3 까지 정적분 결과 = 8.999999550000005\n",
      "t1 = 0.0\n"
     ]
    }
   ],
   "source": [
    "import time\n",
    "import numpy as np\n",
    "\n",
    "t = time.mktime(time.localtime())\n",
    "\n",
    "dx = 0.0000001\n",
    "\n",
    "# y = x^2\n",
    "def integralRange2(start, end):\n",
    "    curX = np.arange(start, end, dx)\n",
    "    Y = curX ** 2\n",
    "    eachBlock = dx * Y\n",
    "    area = np.sum(eachBlock)\n",
    "    return area\n",
    "    \n",
    "print(\"y = x^2의 0 ~ 3 까지 정적분 결과 =\", integralRange2(0, 3))\n",
    "\n",
    "t1 = time.mktime(time.localtime()) - t\n",
    "print(\"t1 =\", t1)"
   ]
  },
  {
   "cell_type": "code",
   "execution_count": 11,
   "metadata": {},
   "outputs": [
    {
     "name": "stdout",
     "output_type": "stream",
     "text": [
      "x^2의 0 ~ 3까지의 정적분 = <multiprocessing.pool.ApplyResult object at 0x7fdb0c20ff50>\n",
      "t1 = 0.0\n"
     ]
    }
   ],
   "source": [
    "import os\n",
    "import time\n",
    "import numpy as np\n",
    "import multiprocessing\n",
    "\n",
    "dx = 0.0000001\n",
    "p = multiprocessing.Pool(processes = 12)\n",
    "\n",
    "t = time.mktime(time.localtime())\n",
    "\n",
    "def calc(x):\n",
    "    return dx * (x ** 2)\n",
    "\n",
    "def integralRange(start, end):\n",
    "    curX = np.arange(start, end, dx)\n",
    "    # apply_async의 경우에는 비동기 처리 - 0.000x 초\n",
    "    res = p.apply_async(calc, curX)\n",
    "    # map의 경우엔 동기 처리 - 76 초\n",
    "    #res = p.map(calc, curX)\n",
    "    area = np.sum(res)\n",
    "    return area\n",
    "\n",
    "print(\"x^2의 0 ~ 3까지의 정적분 =\", integralRange(0, 3))\n",
    "\n",
    "t1 = time.mktime(time.localtime()) - t\n",
    "print(\"t1 =\", t1)"
   ]
  },
  {
   "cell_type": "code",
   "execution_count": null,
   "metadata": {},
   "outputs": [],
   "source": []
  }
 ],
 "metadata": {
  "kernelspec": {
   "display_name": "Python 3",
   "language": "python",
   "name": "python3"
  },
  "language_info": {
   "codemirror_mode": {
    "name": "ipython",
    "version": 3
   },
   "file_extension": ".py",
   "mimetype": "text/x-python",
   "name": "python",
   "nbconvert_exporter": "python",
   "pygments_lexer": "ipython3",
   "version": "3.7.6"
  }
 },
 "nbformat": 4,
 "nbformat_minor": 4
}
