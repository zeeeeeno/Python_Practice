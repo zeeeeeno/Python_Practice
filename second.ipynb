{
 "cells": [
  {
   "cell_type": "code",
   "execution_count": 1,
   "metadata": {},
   "outputs": [
    {
     "name": "stdout",
     "output_type": "stream",
     "text": [
      "Second\n"
     ]
    }
   ],
   "source": [
    "print('Second')"
   ]
  },
  {
   "cell_type": "code",
   "execution_count": 2,
   "metadata": {},
   "outputs": [
    {
     "name": "stdout",
     "output_type": "stream",
     "text": [
      "test python\n"
     ]
    }
   ],
   "source": [
    "# 홑 따옴표도 문자열\n",
    "testStr = 'test' + ' python'\n",
    "print(testStr)"
   ]
  },
  {
   "cell_type": "code",
   "execution_count": 3,
   "metadata": {},
   "outputs": [
    {
     "name": "stdout",
     "output_type": "stream",
     "text": [
      "test python\n"
     ]
    }
   ],
   "source": [
    "# 쌍 따옴표도 문자열\n",
    "test = \"test \" + 'python'\n",
    "print(test)"
   ]
  },
  {
   "cell_type": "code",
   "execution_count": 4,
   "metadata": {},
   "outputs": [
    {
     "name": "stdout",
     "output_type": "stream",
     "text": [
      "pointer index\n",
      "p\n",
      "n\n"
     ]
    }
   ],
   "source": [
    "# 원래 자바나 C는 메모리 섹션(데이터)에 아래 내용을 배치했다.\n",
    "# 그래서 사용자가 쉽게 접근하기가 어려웠지만\n",
    "# 파이썬은 그냥 언어차원에서 접근을 제공한다.\n",
    "\n",
    "# 바이트 - 비트가 8개 모이면 1 바이트가 된다.\n",
    "# 비트 - 0과 1을 표현할 수 있는 최소 단위\n",
    "# 컴퓨터(기계)가 해석할 수 있는 언어가 0과 1 뿐이기 때문\n",
    "str = \"pointer index\"\n",
    "print(str)\n",
    "# 아래와 같이 실제로 우리가 사용하는 문자열은\n",
    "# 1바이트 타입의 배열이 되어 저장되어 있다.\n",
    "# | p | o | i | n | t | e | r |   | i | \n",
    "# [0] [1] [2] [3] [4] [5] [6] [7] [8]\n",
    "print(str[0])\n",
    "print(str[3])"
   ]
  },
  {
   "cell_type": "code",
   "execution_count": 5,
   "metadata": {},
   "outputs": [
    {
     "name": "stdout",
     "output_type": "stream",
     "text": [
      "p\n",
      "oin\n",
      "po\n",
      "ex\n",
      "pointer index\n",
      "pitridx\n"
     ]
    }
   ],
   "source": [
    "# 0부터 1전까지 == for(i = 0; i < 1; i++) --> true\n",
    "print(str[0:1])\n",
    "# 1부터 4전까지 == for(i = 1; i < 4; i++) --> true\n",
    "print(str[1:4])\n",
    "# 생략되었을 경우에는 0부터 시작\n",
    "# 0부터 2전까지 == for(i = 0; i < 2; i++) --> true\n",
    "print(str[:2])\n",
    "# -2라는 것은 뒤에서 2개를 의미한다.\n",
    "# 즉 -2부터 0까지가 된다 == for(i = -2; i < 0; i++) --> true\n",
    "print(str[-2:])\n",
    "# [:]은 전부다 복사한다.\n",
    "# 새로운 객체를 만듭니다.\n",
    "print(str[:])\n",
    "# 전부 복사하는데 2칸씩 건너뛴다.\n",
    "print(str[::2])"
   ]
  },
  {
   "cell_type": "code",
   "execution_count": 1,
   "metadata": {},
   "outputs": [
    {
     "name": "stdout",
     "output_type": "stream",
     "text": [
      "3.14\n",
      "77\n",
      "33.0\n",
      "<class 'str'>\n",
      "<class 'int'>\n",
      "<class 'float'>\n"
     ]
    }
   ],
   "source": [
    "# TypeError: 'str' object is not callable\n",
    "makeStr = str(3.14)\n",
    "intStr = int(\"77\")\n",
    "floatStr = float(\"33\")\n",
    "\n",
    "print(makeStr)\n",
    "print(intStr)\n",
    "print(floatStr)\n",
    "\n",
    "print(type(makeStr))\n",
    "print(type(intStr))\n",
    "print(type(floatStr))"
   ]
  },
  {
   "cell_type": "code",
   "execution_count": 2,
   "metadata": {},
   "outputs": [
    {
     "name": "stdout",
     "output_type": "stream",
     "text": [
      "['red', 'green', 'blue']\n",
      "<class 'list'>\n"
     ]
    }
   ],
   "source": [
    "colors = ['red', 'green', 'blue']\n",
    "\n",
    "print(colors)\n",
    "print(type(colors))"
   ]
  },
  {
   "cell_type": "code",
   "execution_count": 3,
   "metadata": {},
   "outputs": [
    {
     "name": "stdout",
     "output_type": "stream",
     "text": [
      "['red', 'green', 'blue', 'gold']\n"
     ]
    }
   ],
   "source": [
    "# 리스트: 자료구조중 가장 간단한 녀석에 속한다.\n",
    "# 대표적으로 스택과 큐가 있다.\n",
    "\n",
    "# append를 리스트의 마지막에 값을 집어넣게 된다.\n",
    "# 한마디로 파이썬의 리스트는 기본적으로 큐 방식을 사용한다.\n",
    "# 큐는 선입선출, 스택은 후입선출\n",
    "colors.append('gold')\n",
    "print(colors)"
   ]
  },
  {
   "cell_type": "code",
   "execution_count": 4,
   "metadata": {},
   "outputs": [
    {
     "name": "stdout",
     "output_type": "stream",
     "text": [
      "['red', 'black', 'green', 'blue', 'gold']\n"
     ]
    }
   ],
   "source": [
    "# 번호, 다음에 가리킬 번호, 데이터\n",
    "# 위의 주석은 관리 차원\n",
    "# (1000000000개중 데이터 1개를 앞에 추가할 때)\n",
    "\n",
    "# [1] 인덱스에 'black'을 배치해라.\n",
    "colors.insert(1, 'black')\n",
    "print(colors)"
   ]
  },
  {
   "cell_type": "code",
   "execution_count": 5,
   "metadata": {},
   "outputs": [
    {
     "name": "stdout",
     "output_type": "stream",
     "text": [
      "['red', 'black', 'green', 'blue', 'gold', 'white', 'gray']\n"
     ]
    }
   ],
   "source": [
    "# extend는 현재 원소의 맨 뒤쪽에 리스트를 추가한다.\n",
    "colors.extend(['white', 'gray'])\n",
    "print(colors)"
   ]
  },
  {
   "cell_type": "code",
   "execution_count": 6,
   "metadata": {},
   "outputs": [
    {
     "name": "stdout",
     "output_type": "stream",
     "text": [
      "['red', 'black', 'green', 'blue', 'gold', 'white', 'gray', 'purple', 'red']\n"
     ]
    }
   ],
   "source": [
    "colors += ['purple']\n",
    "colors += ['red']\n",
    "print(colors)"
   ]
  },
  {
   "cell_type": "code",
   "execution_count": 7,
   "metadata": {},
   "outputs": [
    {
     "name": "stdout",
     "output_type": "stream",
     "text": [
      "7\n"
     ]
    }
   ],
   "source": [
    "# index는 특정 원소의 위치가 어디인지 알려준다.\n",
    "print(colors.index('purple'))"
   ]
  },
  {
   "cell_type": "code",
   "execution_count": 9,
   "metadata": {},
   "outputs": [
    {
     "name": "stdout",
     "output_type": "stream",
     "text": [
      "8\n",
      "0\n"
     ]
    }
   ],
   "source": [
    "# 위와 마찬가지지만 시작을 1부터 하게 된다.\n",
    "# 그러므로 맨 앞에 있는 0번을 무시하게 된다.\n",
    "print(colors.index('red', 1))\n",
    "print(colors.index('red'))"
   ]
  },
  {
   "cell_type": "code",
   "execution_count": 10,
   "metadata": {},
   "outputs": [
    {
     "ename": "ValueError",
     "evalue": "'blue' is not in list",
     "output_type": "error",
     "traceback": [
      "\u001b[1;31m---------------------------------------------------------------------------\u001b[0m",
      "\u001b[1;31mValueError\u001b[0m                                Traceback (most recent call last)",
      "\u001b[1;32m<ipython-input-10-eb3affb8c4bf>\u001b[0m in \u001b[0;36m<module>\u001b[1;34m\u001b[0m\n\u001b[1;32m----> 1\u001b[1;33m \u001b[0mprint\u001b[0m\u001b[1;33m(\u001b[0m\u001b[0mcolors\u001b[0m\u001b[1;33m.\u001b[0m\u001b[0mindex\u001b[0m\u001b[1;33m(\u001b[0m\u001b[1;34m'blue'\u001b[0m\u001b[1;33m,\u001b[0m \u001b[1;36m4\u001b[0m\u001b[1;33m,\u001b[0m \u001b[1;36m8\u001b[0m\u001b[1;33m)\u001b[0m\u001b[1;33m)\u001b[0m\u001b[1;33m\u001b[0m\u001b[1;33m\u001b[0m\u001b[0m\n\u001b[0m",
      "\u001b[1;31mValueError\u001b[0m: 'blue' is not in list"
     ]
    }
   ],
   "source": [
    "# 4 ~ 8까지 검사해주세요 ~\n",
    "print(colors.index('blue', 4, 8))"
   ]
  },
  {
   "cell_type": "code",
   "execution_count": 11,
   "metadata": {},
   "outputs": [
    {
     "name": "stdout",
     "output_type": "stream",
     "text": [
      "3\n"
     ]
    }
   ],
   "source": [
    "# 3 ~ 8까지 검사해주세요 ~\n",
    "print(colors.index('blue', 3, 8))"
   ]
  },
  {
   "cell_type": "code",
   "execution_count": 12,
   "metadata": {},
   "outputs": [
    {
     "name": "stdout",
     "output_type": "stream",
     "text": [
      "2\n"
     ]
    }
   ],
   "source": [
    "print(colors.count('red'))"
   ]
  },
  {
   "cell_type": "code",
   "execution_count": 13,
   "metadata": {},
   "outputs": [
    {
     "name": "stdout",
     "output_type": "stream",
     "text": [
      "['red', 'black', 'green', 'blue', 'gold', 'white', 'gray', 'purple', 'red']\n",
      "red\n",
      "purple\n",
      "gray\n",
      "['red', 'black', 'green', 'blue', 'gold', 'white']\n"
     ]
    }
   ],
   "source": [
    "print(colors)\n",
    "# pop이란 것은 보통 Stack에서 사용한다.\n",
    "# 왜냐하면 pop은 전형적인 후입선출 구조를 가지기 때문\n",
    "# 그래서 마지막 원소들이 출력되는 것을 볼 수 있다.\n",
    "print(colors.pop())\n",
    "print(colors.pop())\n",
    "print(colors.pop())\n",
    "print(colors)"
   ]
  },
  {
   "cell_type": "code",
   "execution_count": 14,
   "metadata": {},
   "outputs": [
    {
     "name": "stdout",
     "output_type": "stream",
     "text": [
      "['red', 'black', 'blue', 'gold', 'white', 'gray', 'purple', 'red']\n"
     ]
    }
   ],
   "source": [
    "colors = ['red', 'black', 'green', 'blue', \n",
    "          'gold', 'white', 'gray', 'purple', 'red']\n",
    "\n",
    "# 원하는 원소 제거\n",
    "colors.remove('green')\n",
    "print(colors)"
   ]
  },
  {
   "cell_type": "code",
   "execution_count": 15,
   "metadata": {},
   "outputs": [
    {
     "name": "stdout",
     "output_type": "stream",
     "text": [
      "origin sort:  ['black', 'blue', 'gold', 'gray', 'purple', 'red', 'red', 'white']\n"
     ]
    }
   ],
   "source": [
    "# 파이썬의 정렬은 sort 한 방으로 충분하다.\n",
    "colors.sort()\n",
    "print('origin sort: ', colors)"
   ]
  },
  {
   "cell_type": "code",
   "execution_count": 16,
   "metadata": {},
   "outputs": [
    {
     "name": "stdout",
     "output_type": "stream",
     "text": [
      "reverse:  ['white', 'red', 'red', 'purple', 'gray', 'gold', 'blue', 'black']\n"
     ]
    }
   ],
   "source": [
    "# 내림차순 정렬\n",
    "colors.reverse()\n",
    "print('reverse: ', colors)"
   ]
  },
  {
   "cell_type": "code",
   "execution_count": 19,
   "metadata": {},
   "outputs": [
    {
     "name": "stdout",
     "output_type": "stream",
     "text": [
      "reverse:  ['red', 'purple', 'gray', 'gold', 'blue', 'green', 'black', 'red']\n"
     ]
    }
   ],
   "source": [
    "colors = ['red', 'black', 'green', 'blue', \n",
    "          'gold', 'gray', 'purple', 'red']\n",
    "\n",
    "# 단순히 reverse는 내용을 뒤집는다.\n",
    "colors.reverse()\n",
    "print('reverse: ', colors)"
   ]
  },
  {
   "cell_type": "code",
   "execution_count": 17,
   "metadata": {},
   "outputs": [
    {
     "name": "stdout",
     "output_type": "stream",
     "text": [
      "['red', 'red', 'gold', 'white', 'purple', 'blue', 'black', 'gray']\n"
     ]
    }
   ],
   "source": [
    "def mysort(x):\n",
    "    return x[-1]\n",
    "\n",
    "colors.sort(key = mysort)\n",
    "print(colors)"
   ]
  },
  {
   "cell_type": "code",
   "execution_count": 18,
   "metadata": {},
   "outputs": [
    {
     "name": "stdout",
     "output_type": "stream",
     "text": [
      "['red', 'gold', 'red', 'blue', 'white', 'purple', 'black', 'green', 'gray']\n"
     ]
    }
   ],
   "source": [
    "colors = ['red', 'black', 'green', 'blue', \n",
    "          'gold', 'white', 'gray', 'purple', 'red']\n",
    "\n",
    "def mysort(x):\n",
    "    return x[-1]\n",
    "\n",
    "colors.sort(key = mysort)\n",
    "print(colors)"
   ]
  },
  {
   "cell_type": "code",
   "execution_count": 20,
   "metadata": {},
   "outputs": [
    {
     "name": "stdout",
     "output_type": "stream",
     "text": [
      "['gold', 'red', 'red', 'blue', 'purple', 'white', 'black', 'green', 'gray']\n"
     ]
    }
   ],
   "source": [
    "colors = ['red', 'black', 'green', 'blue', \n",
    "          'gold', 'white', 'gray', 'purple', 'red']\n",
    "\n",
    "def mysort(x):\n",
    "    return x[-1]\n",
    "\n",
    "colors.sort()\n",
    "colors.sort(key = mysort)\n",
    "print(colors)"
   ]
  },
  {
   "cell_type": "code",
   "execution_count": 23,
   "metadata": {},
   "outputs": [
    {
     "name": "stdout",
     "output_type": "stream",
     "text": [
      "['red', 'red', 'gold', 'purple', 'white', 'blue', 'black', 'green', 'gray']\n"
     ]
    }
   ],
   "source": [
    "colors = ['red', 'black', 'green', 'blue', \n",
    "          'gold', 'white', 'gray', 'purple', 'red']\n",
    "\n",
    "# 자바 같은 경우에는 두개의 동시다발적인 리턴이 불가능\n",
    "# 그러나 파이썬은 여러개의 정보를 동시다발적 리턴이 가능\n",
    "def mysort(x):\n",
    "    return x[-1], x[-2]\n",
    "\n",
    "colors.sort(key = mysort)\n",
    "print(colors)"
   ]
  },
  {
   "cell_type": "code",
   "execution_count": 29,
   "metadata": {},
   "outputs": [
    {
     "name": "stdout",
     "output_type": "stream",
     "text": [
      "['red', 'black', 'green', 'blue', 'gold', 'white', 'gray', 'purple', 'red']\n",
      "['black', 'blue', 'gold', 'gray', 'green', 'purple', 'red', 'red', 'white']\n",
      "['white', 'red', 'red', 'purple', 'green', 'gray', 'gold', 'blue', 'black']\n"
     ]
    }
   ],
   "source": [
    "colors = ['red', 'black', 'green', 'blue', \n",
    "          'gold', 'white', 'gray', 'purple', 'red']\n",
    "\n",
    "print(colors)\n",
    "\n",
    "colors.sort()\n",
    "\n",
    "print(colors)\n",
    "\n",
    "# 기존의 sort는 오름차순 정렬이였는데\n",
    "# reverse = True를 주면 내림차순 정렬로 바꿔서 동작시킬 수 있다.\n",
    "colors.sort(reverse=True)\n",
    "\n",
    "print(colors)"
   ]
  },
  {
   "cell_type": "code",
   "execution_count": 30,
   "metadata": {},
   "outputs": [
    {
     "name": "stdout",
     "output_type": "stream",
     "text": [
      "{1, 2, 3}\n",
      "{3, 4, 5}\n",
      "<class 'set'>\n"
     ]
    }
   ],
   "source": [
    "# 데이터의 집합 처리\n",
    "# 대괄호를 감쌀 경우엔 리스트\n",
    "# 중괄호로 감쌀 경우엔 집합\n",
    "a = {1, 2, 3}\n",
    "b = {3, 4, 5}\n",
    "\n",
    "print(a)\n",
    "print(b)\n",
    "\n",
    "print(type(a))"
   ]
  },
  {
   "cell_type": "code",
   "execution_count": 31,
   "metadata": {},
   "outputs": [
    {
     "name": "stdout",
     "output_type": "stream",
     "text": [
      "{1, 2, 3, 4, 5}\n",
      "{3}\n"
     ]
    }
   ],
   "source": [
    "# 합집합\n",
    "print(a.union(b))\n",
    "# 교집합\n",
    "print(a.intersection(b))"
   ]
  },
  {
   "cell_type": "code",
   "execution_count": 35,
   "metadata": {},
   "outputs": [
    {
     "name": "stdout",
     "output_type": "stream",
     "text": [
      "{1, 2}\n",
      "{4, 5}\n",
      "{1, 2, 3, 4, 5}\n",
      "{3}\n",
      "{1, 2, 4, 5}\n"
     ]
    }
   ],
   "source": [
    "# 차집합의 경우 빼는 순서가 중요하다.\n",
    "print(a - b)\n",
    "print(b - a)\n",
    "# 합집합(OR연산, 자바의 || 을 상기하자!)\n",
    "print(a | b)\n",
    "# 교집합(AND연산, 자바의 && 을 상기하자!)\n",
    "print(a & b)\n",
    "# XOR 연산(교집합만 제외하고 합친다)\n",
    "print(a ^ b)"
   ]
  },
  {
   "cell_type": "code",
   "execution_count": 36,
   "metadata": {},
   "outputs": [
    {
     "name": "stdout",
     "output_type": "stream",
     "text": [
      "(1, 2, 3)\n",
      "<class 'tuple'>\n"
     ]
    }
   ],
   "source": [
    "# 튜플은 소괄호로 묶으면 된다.\n",
    "t = (1, 2, 3)\n",
    "print(t)\n",
    "print(type(t))"
   ]
  },
  {
   "cell_type": "code",
   "execution_count": 37,
   "metadata": {},
   "outputs": [
    {
     "name": "stdout",
     "output_type": "stream",
     "text": [
      "1 2\n"
     ]
    }
   ],
   "source": [
    "a, b = 1, 2\n",
    "print(a, b)"
   ]
  },
  {
   "cell_type": "code",
   "execution_count": 39,
   "metadata": {},
   "outputs": [
    {
     "name": "stdout",
     "output_type": "stream",
     "text": [
      "3 7\n"
     ]
    }
   ],
   "source": [
    "(a, b) = (3, 7)\n",
    "print(a, b)"
   ]
  },
  {
   "cell_type": "code",
   "execution_count": 40,
   "metadata": {},
   "outputs": [
    {
     "name": "stdout",
     "output_type": "stream",
     "text": [
      "7 3\n"
     ]
    }
   ],
   "source": [
    "a, b = b, a\n",
    "print(a, b)\n",
    "\n",
    "# 위의 코드를 자바로 구현한다면 어떻게 해야하는가 ?\n",
    "# int a = 3;\n",
    "# int b = 7;\n",
    "# int tmp = a;\n",
    "# a = b;\n",
    "# b = tmp;"
   ]
  },
  {
   "cell_type": "code",
   "execution_count": 41,
   "metadata": {},
   "outputs": [
    {
     "name": "stdout",
     "output_type": "stream",
     "text": [
      "{1, 2, 3}\n",
      "<class 'set'>\n"
     ]
    }
   ],
   "source": [
    "a = set((1, 2, 3))\n",
    "print(a)\n",
    "print(type(a))"
   ]
  },
  {
   "cell_type": "code",
   "execution_count": 42,
   "metadata": {},
   "outputs": [
    {
     "name": "stdout",
     "output_type": "stream",
     "text": [
      "[1, 2, 3]\n",
      "<class 'list'>\n"
     ]
    }
   ],
   "source": [
    "b = list(a)\n",
    "print(b)\n",
    "print(type(b))"
   ]
  },
  {
   "cell_type": "code",
   "execution_count": 43,
   "metadata": {},
   "outputs": [
    {
     "name": "stdout",
     "output_type": "stream",
     "text": [
      "(1, 2, 3)\n",
      "<class 'tuple'>\n"
     ]
    }
   ],
   "source": [
    "c = tuple(b)\n",
    "print(c)\n",
    "print(type(c))"
   ]
  },
  {
   "cell_type": "code",
   "execution_count": 44,
   "metadata": {},
   "outputs": [
    {
     "name": "stdout",
     "output_type": "stream",
     "text": [
      "True\n",
      "True\n",
      "False\n"
     ]
    }
   ],
   "source": [
    "print(1 in a)\n",
    "print(3 in a)\n",
    "print(7 in a)"
   ]
  },
  {
   "cell_type": "code",
   "execution_count": 45,
   "metadata": {},
   "outputs": [
    {
     "name": "stdout",
     "output_type": "stream",
     "text": [
      "{'a': 1, 'b': 3, 'c': 5}\n",
      "<class 'dict'>\n"
     ]
    }
   ],
   "source": [
    "# 딕셔너리는 키값과 밸류값이 공존하는 데이터 타입\n",
    "# 키값 a가 있고 그 키값에 해당하는 값이 1이다.\n",
    "# 키값 b가 있고 b에 해당하는 값이 3이다.\n",
    "# 요런 구조를 보통 Hash(해쉬)라고 한다.\n",
    "d = dict(a = 1, b = 3, c = 5)\n",
    "print(d)\n",
    "print(type(d))"
   ]
  },
  {
   "cell_type": "code",
   "execution_count": 46,
   "metadata": {},
   "outputs": [
    {
     "name": "stdout",
     "output_type": "stream",
     "text": [
      "{'apple': 'red', 'lemon': 'yellow'}\n",
      "<class 'dict'>\n"
     ]
    }
   ],
   "source": [
    "# 키값이 있고 밸류값에 다시 해쉬가 올 수도 있다.\n",
    "color = {\"apple\": \"red\", \"lemon\": \"yellow\"}\n",
    "print(color)\n",
    "print(type(color))"
   ]
  },
  {
   "cell_type": "code",
   "execution_count": 47,
   "metadata": {},
   "outputs": [
    {
     "name": "stdout",
     "output_type": "stream",
     "text": [
      "red\n"
     ]
    }
   ],
   "source": [
    "print(color['apple'])"
   ]
  },
  {
   "cell_type": "code",
   "execution_count": 48,
   "metadata": {},
   "outputs": [
    {
     "name": "stdout",
     "output_type": "stream",
     "text": [
      "{'apple': 'green', 'lemon': 'yellow'}\n"
     ]
    }
   ],
   "source": [
    "# color에 있는 키값 apple에 밸류값 green을 설정하세요 ~\n",
    "color['apple'] = \"green\"\n",
    "print(color)"
   ]
  },
  {
   "cell_type": "code",
   "execution_count": 49,
   "metadata": {},
   "outputs": [
    {
     "name": "stdout",
     "output_type": "stream",
     "text": [
      "('apple', 'green')\n",
      "('lemon', 'yellow')\n"
     ]
    }
   ],
   "source": [
    "# color에 있는 요소를 가져와서 c에 저장\n",
    "for c in color.items():\n",
    "    print(c)"
   ]
  },
  {
   "cell_type": "code",
   "execution_count": 50,
   "metadata": {},
   "outputs": [
    {
     "name": "stdout",
     "output_type": "stream",
     "text": [
      "apple :  green\n",
      "lemon :  yellow\n"
     ]
    }
   ],
   "source": [
    "# 마찬가지로 color에 있는 요소들을 하나씩 가져오는데\n",
    "# 이번에는 key값과 value값을 나눠서 각각에 가져온다.\n",
    "for key, value in color.items():\n",
    "    print(key, \": \", value)"
   ]
  },
  {
   "cell_type": "code",
   "execution_count": 53,
   "metadata": {},
   "outputs": [
    {
     "name": "stdout",
     "output_type": "stream",
     "text": [
      "apple\n",
      "lemon\n"
     ]
    }
   ],
   "source": [
    "# color라는 딕셔너리에 있는 key값들만 따로 추출이 가능하다.\n",
    "# 자바에서 for문을 처리할 때는\n",
    "# for(int i = 0; i < 3; i++)\n",
    "# 내가 반복을 할건데 어디서 시작할거고\n",
    "# 어디에서 끝을 낼것인지 그리고 어떤식으로 반복을 진행할것인지\n",
    "# 추가적으로 특정 정보에서 어떤식으로\n",
    "# 정보를 가공하여 출력할 것인지\n",
    "# for key in color.keys()\n",
    "# color라는 딕셔너리에 키값들을 뽑아서 key에 하나씩 넣고 돌리자\n",
    "for key in color.keys():\n",
    "    print(key)"
   ]
  },
  {
   "cell_type": "code",
   "execution_count": 54,
   "metadata": {},
   "outputs": [
    {
     "name": "stdout",
     "output_type": "stream",
     "text": [
      "green\n",
      "yellow\n"
     ]
    }
   ],
   "source": [
    "# 아래와 같이 밸류값에 해당하는 정보만 별도로 추출이 가능하다.\n",
    "for value in color.values():\n",
    "    print(value)"
   ]
  },
  {
   "cell_type": "code",
   "execution_count": 55,
   "metadata": {},
   "outputs": [
    {
     "name": "stdout",
     "output_type": "stream",
     "text": [
      "<class 'dict_keys'>\n",
      "['apple', 'lemon']\n"
     ]
    }
   ],
   "source": [
    "print(type(color.keys()))\n",
    "# 향후 레이블 매칭이라는 작업을 하게 될 경우\n",
    "# 키값만 따로 뽑아서 매칭을 시켜야 하는데\n",
    "# 이 경우에 아래와 같이 리스트로 만들어서 처리한다.\n",
    "print(list(color.keys()))"
   ]
  },
  {
   "cell_type": "code",
   "execution_count": 56,
   "metadata": {},
   "outputs": [
    {
     "name": "stdout",
     "output_type": "stream",
     "text": [
      "{'lemon': 'yellow'}\n"
     ]
    }
   ],
   "source": [
    "# 필요없다 생각되는 key값은 del을 활용하여\n",
    "# 아래와같이 소거 가능하다.\n",
    "del color['apple']\n",
    "print(color)"
   ]
  },
  {
   "cell_type": "code",
   "execution_count": 57,
   "metadata": {},
   "outputs": [
    {
     "name": "stdout",
     "output_type": "stream",
     "text": [
      "{'age': 40.5, 'job': [1, 2, 3], 'name': {'Kim': 2, 'Cho': 1}}\n",
      "<class 'dict'>\n"
     ]
    }
   ],
   "source": [
    "# 딕셔너리는 어떠한 형태든지 수용을 할 수 있습니다 ~\n",
    "test1 = {'age': 40.5, 'job': [1, 2, 3], 'name': {'Kim': 2, 'Cho': 1}}\n",
    "print(test1)\n",
    "print(type(test1))"
   ]
  },
  {
   "cell_type": "code",
   "execution_count": 58,
   "metadata": {},
   "outputs": [
    {
     "name": "stdout",
     "output_type": "stream",
     "text": [
      "[1, 2, 3, 'green', {'apple': 1}]\n",
      "<class 'list'>\n"
     ]
    }
   ],
   "source": [
    "# 최종을 누가 감싸고 있냐에 따라서 데이터 타입이 결정된다.\n",
    "test2 = [1, 2, 3, ('green'), {'apple': 1}]\n",
    "print(test2)\n",
    "print(type(test2))"
   ]
  },
  {
   "cell_type": "code",
   "execution_count": 59,
   "metadata": {},
   "outputs": [
    {
     "name": "stdout",
     "output_type": "stream",
     "text": [
      "False\n",
      "<class 'bool'>\n"
     ]
    }
   ],
   "source": [
    "# Java의 Boolean과 같은 형식\n",
    "# 참(True)과 거짓(False)\n",
    "# if(idx % 2 == 0)\n",
    "# if(!(idx % 2))\n",
    "isTrue = False\n",
    "print(isTrue)\n",
    "print(type(isTrue))"
   ]
  },
  {
   "cell_type": "code",
   "execution_count": 60,
   "metadata": {},
   "outputs": [
    {
     "name": "stdout",
     "output_type": "stream",
     "text": [
      "True\n",
      "True\n",
      "False\n"
     ]
    }
   ],
   "source": [
    "print(1 < 2)\n",
    "print(1 != 2)\n",
    "print(1 == 2)"
   ]
  },
  {
   "cell_type": "code",
   "execution_count": 63,
   "metadata": {},
   "outputs": [
    {
     "name": "stdout",
     "output_type": "stream",
     "text": [
      "False\n",
      "True\n",
      "True\n",
      "False\n",
      "True\n",
      "True\n",
      "False\n"
     ]
    }
   ],
   "source": [
    "# AND연산의 경우 양쪽이 모두 참일 경우에만 결론이 참이 된다.\n",
    "# and와 &는 같다.\n",
    "print(True and False)\n",
    "print(True & True)\n",
    "# OR연산의 경우 둘 중 하나만 얻어걸려도 OK\n",
    "# or와 |는 같다.\n",
    "# 또한 둘만이 아니라 여러개가 되더라도 하나만 True면 OK\n",
    "print(True or False)\n",
    "print(False | False)\n",
    "print(False | False | True)\n",
    "print(not False)\n",
    "print(not True)"
   ]
  },
  {
   "cell_type": "code",
   "execution_count": 64,
   "metadata": {},
   "outputs": [
    {
     "name": "stdout",
     "output_type": "stream",
     "text": [
      "False\n",
      "True\n",
      "True\n",
      "False\n",
      "False\n"
     ]
    }
   ],
   "source": [
    "# 컴퓨터에서 0은 무조건 거짓\n",
    "print(bool(0))\n",
    "# 0 이외의 값들은 전부 참\n",
    "print(bool(-1))\n",
    "print(bool('test'))\n",
    "# None은 아무것도 없음을 의미하므로 거짓\n",
    "print(bool(None))\n",
    "# 홑 따옴표 두개는 빈 문자열로 마찬가지로 거짓\n",
    "print(bool(''))"
   ]
  },
  {
   "cell_type": "code",
   "execution_count": 65,
   "metadata": {},
   "outputs": [
    {
     "name": "stdout",
     "output_type": "stream",
     "text": [
      "val is bigger than 5\n"
     ]
    }
   ],
   "source": [
    "# 스코핑: 범위를 지정하는 것\n",
    "# if(test == 0) { bla bla ~~~ }\n",
    "# 파이썬은 스코핑을 콜론(:)과 들여쓰기로 구분한다.\n",
    "# 스코핑이 범위를 지정하는 것이라고 했는데\n",
    "# 범위라는 것은 if문의 범위, for문의 범위, while문의 범위\n",
    "# 클래스의 범위, 매서드의 범위 등등 다양하다.\n",
    "val = 10\n",
    "if val > 5:\n",
    "    print(\"val is bigger than 5\")\n",
    "    \n",
    "# int val = 10;\n",
    "# if (val > 5) {\n",
    "#    printf(\"val is bigger than 5\")\n",
    "# }"
   ]
  },
  {
   "cell_type": "code",
   "execution_count": 66,
   "metadata": {},
   "outputs": [
    {
     "name": "stdout",
     "output_type": "stream",
     "text": [
      "banana\n"
     ]
    }
   ],
   "source": [
    "money = 10\n",
    "\n",
    "if money > 100:\n",
    "    item = \"apple\"\n",
    "else:\n",
    "    item = \"banana\"\n",
    "    \n",
    "print(item)\n",
    "\n",
    "# if (test == 0) {\n",
    "#    sout\n",
    "# } else {\n",
    "#    sout\n",
    "# }"
   ]
  },
  {
   "cell_type": "code",
   "execution_count": 69,
   "metadata": {},
   "outputs": [
    {
     "name": "stdout",
     "output_type": "stream",
     "text": [
      "Input Score: 30\n",
      "Grade is C\n"
     ]
    }
   ],
   "source": [
    "score = int(input(('Input Score: ')))\n",
    "if 90 <= score <= 100:\n",
    "    grade = 'A'\n",
    "elif 80 <= score < 90:\n",
    "    grade = 'B'\n",
    "else:\n",
    "    grade = 'C'\n",
    "    \n",
    "print(\"Grade is \" + grade)\n",
    "# 자바의 경우 if문의 위치를 잘못 선정할 경우\n",
    "# 의도치 않은 오류가 발생할 수 있는데\n",
    "# 파이썬의 경우엔 부등식을 통해\n",
    "# 명확한 범위를 지정해줄 수 있다.\n",
    "# Scanner scan = new Scanner(System.in);\n",
    "# int num = scan.nextInt();\n",
    "# if(num >= 90) {\n",
    "#    sout(A)\n",
    "# } else if(num >= 80) {\n",
    "#    sout(B)\n",
    "# }"
   ]
  },
  {
   "cell_type": "code",
   "execution_count": null,
   "metadata": {},
   "outputs": [],
   "source": [
    "# dir명령어는 현재 위치에 있는 폴더와 파일을 보여준다.\n",
    "# cd는 Change Directory 약자로 폴더 이동을 수행한다.\n",
    "# dir에서 나오는 .은 현재 위치를 의미한다.\n",
    "# dir에서 나오는 ..은 상위 디렉토리를 의미한다.\n",
    "\n",
    "# 설명을 위한 시나리오.\n",
    "# C드라이브 밑에 work 폴더가 있고 그 밑에 java와 python이 있다.\n",
    "# 현재 dir을 한 위치가 java 디렉토리라고 가정한다.\n",
    "# cd ..\n",
    "# 위 명령을 수행하면 C드라이브 밑에 있는 work로 이동한다.\n",
    "\n",
    "# 현재 내 위치를 확인하는 명령어 - 보류\n",
    "\n",
    "# cd c:\\\n",
    "# mkdir proj\n",
    "# cd proj\n",
    "# git clone https://github.com/silenc3502/PythonWorkshop\n",
    "# 위의 4개 줄은 초기 설정시에만 필요함\n",
    "\n",
    "# 이후에 변경 사항 및 추가된 업데이트를 적용할 때\n",
    "# cd c:\\proj\\PythonWorkshop\n",
    "# git pull origin master\n",
    "\n",
    "# 만약 자신의 컴퓨터에서 직접 jupyter를 띄워서 이것을 보겠다면\n",
    "# cd c:\\proj\\PythonWorkshop\n",
    "# jupyter notebook\n",
    "# 위와 같이하면 first.ipynb, second.ipynb 등등을 모두 직접 볼 수 있다.\n",
    "\n",
    "# cd\n",
    "# 리눅스의 pwd와 동일한 역할을 수행한다.\n",
    "# (현재 위치가 어디인지 알려준다.)"
   ]
  },
  {
   "cell_type": "code",
   "execution_count": 70,
   "metadata": {},
   "outputs": [
    {
     "name": "stdout",
     "output_type": "stream",
     "text": [
      "Apple <class 'str'>\n",
      "100 <class 'int'>\n",
      "15.37 <class 'float'>\n"
     ]
    }
   ],
   "source": [
    "list = ['Apple', 100, 15.37]\n",
    "for i in list:\n",
    "    print(i, type(i))"
   ]
  },
  {
   "cell_type": "code",
   "execution_count": 71,
   "metadata": {},
   "outputs": [
    {
     "name": "stdout",
     "output_type": "stream",
     "text": [
      "Apple 100\n",
      "Orange 200\n",
      "Banana 300\n"
     ]
    }
   ],
   "source": [
    "d = {\"Apple\": 100, \"Orange\": 200, \"Banana\": 300}\n",
    "for k, v in d.items():\n",
    "    print(k, v)"
   ]
  },
  {
   "cell_type": "code",
   "execution_count": 75,
   "metadata": {},
   "outputs": [
    {
     "name": "stdout",
     "output_type": "stream",
     "text": [
      "2\n",
      "4\n",
      "6\n",
      "8\n",
      "10\n"
     ]
    }
   ],
   "source": [
    "# 1 ~ 10까지 숫자중 짝수만 출력\n",
    "# range(10): 0 ~ 9\n",
    "# i에 0 ~ 9까지의 값을 넣어준다.\n",
    "for i in range(10):\n",
    "    # (i + 1)이 짝수인지 판별\n",
    "    if (not((i + 1) % 2)):\n",
    "        print(i + 1);"
   ]
  },
  {
   "cell_type": "code",
   "execution_count": 76,
   "metadata": {},
   "outputs": [
    {
     "name": "stdout",
     "output_type": "stream",
     "text": [
      "Item: 1\n",
      "Item: 2\n",
      "Item: 3\n",
      "Item: 4\n",
      "Item: 5\n"
     ]
    }
   ],
   "source": [
    "numList = [1, 2, 3, 4, 5, 6, 7, 8, 9, 10]\n",
    "for i in numList:\n",
    "    if i > 5:\n",
    "        # break는 현재 걸려있는 스코프중\n",
    "        # 루프 하나를 탈출할 수 있게 돕는다.\n",
    "        break;\n",
    "    print(\"Item: {0}\".format(i))"
   ]
  },
  {
   "cell_type": "code",
   "execution_count": 77,
   "metadata": {},
   "outputs": [
    {
     "name": "stdout",
     "output_type": "stream",
     "text": [
      "Item: 0-0\n",
      "Item: 0-1\n",
      "Item: 0-2\n",
      "Item: 0-3\n",
      "Item: 0-4\n",
      "Item: 1-0\n",
      "Item: 1-1\n",
      "Item: 1-2\n",
      "Item: 1-3\n",
      "Item: 1-4\n"
     ]
    }
   ],
   "source": [
    "# 즉 총 25번 반복을한다.\n",
    "# 5번 반복을 한다.\n",
    "for i in range(5):\n",
    "    # 5번 반복을 한다.\n",
    "    for j in range(5):\n",
    "        if i > 1:\n",
    "            break\n",
    "        print(\"Item: {0}-{1}\".format(i, j))"
   ]
  },
  {
   "cell_type": "code",
   "execution_count": 78,
   "metadata": {
    "scrolled": true
   },
   "outputs": [
    {
     "name": "stdout",
     "output_type": "stream",
     "text": [
      "Item: 0-0\n",
      "Item: 0-1\n",
      "Item: 0-2\n",
      "Item: 0-3\n",
      "Item: 0-4\n",
      "Item: 2-0\n",
      "Item: 2-1\n",
      "Item: 2-2\n",
      "Item: 2-3\n",
      "Item: 2-4\n",
      "Item: 3-0\n",
      "Item: 3-1\n",
      "Item: 3-2\n",
      "Item: 3-3\n",
      "Item: 3-4\n",
      "Item: 4-0\n",
      "Item: 4-1\n",
      "Item: 4-2\n",
      "Item: 4-3\n",
      "Item: 4-4\n"
     ]
    }
   ],
   "source": [
    "# 즉 총 25번 반복을한다.\n",
    "# 5번 반복을 한다.\n",
    "for i in range(5):\n",
    "    # 5번 반복을 한다.\n",
    "    for j in range(5):\n",
    "        if i == 1:\n",
    "            # 이번 예제로 break는 루프 하나만 빠져나감을 확인했음\n",
    "            # break를 하면 바로 for문을 하나 빠져나감\n",
    "            break\n",
    "        # {0}, {1}: %d를 쓴것처럼 형식 지정자\n",
    "        print(\"Item: {0}-{1}\".format(i, j))"
   ]
  },
  {
   "cell_type": "code",
   "execution_count": 80,
   "metadata": {},
   "outputs": [
    {
     "name": "stdout",
     "output_type": "stream",
     "text": [
      "Item: 0-0\n",
      "Item: 0-1\n",
      "Item: 0-2\n",
      "Item: 1-1\n",
      "Item: 1-2\n",
      "Item: 2-0\n",
      "Item: 2-1\n",
      "Item: 2-2\n"
     ]
    }
   ],
   "source": [
    "for i in range(3):\n",
    "    for j in range(3):\n",
    "        # 현재 해당 if문 자체가 매우 심각한 오류\n",
    "        if (i == 1 and j == 0):\n",
    "            # break는 바로 루프를 탈출하지만\n",
    "            # continue는 해당하는 항목만 제껴버림\n",
    "            # continue는 skip이라고 생각하면 더 좋다.\n",
    "            continue\n",
    "        print(\"Item: {0}-{1}\".format(i, j))"
   ]
  },
  {
   "cell_type": "code",
   "execution_count": 83,
   "metadata": {},
   "outputs": [
    {
     "name": "stdout",
     "output_type": "stream",
     "text": [
      "Item: 0-0\n",
      "Item: 0-1\n",
      "Item: 0-2\n",
      "Item: 2-0\n",
      "Item: 2-1\n",
      "Item: 2-2\n"
     ]
    }
   ],
   "source": [
    "for i in range(3):\n",
    "    for j in range(3):\n",
    "        if (i == 1 and j == 0):\n",
    "            break\n",
    "        print(\"Item: {0}-{1}\".format(i, j))"
   ]
  },
  {
   "cell_type": "code",
   "execution_count": 84,
   "metadata": {},
   "outputs": [
    {
     "name": "stdout",
     "output_type": "stream",
     "text": [
      "Item: 0-0\n",
      "Item: 0-1\n",
      "Item: 0-2\n",
      "Item: 0-3\n",
      "Item: 0-4\n"
     ]
    }
   ],
   "source": [
    "flag = False\n",
    "for i in range(5):\n",
    "    if(flag):\n",
    "        break;\n",
    "        \n",
    "    for j in range(5):\n",
    "        # 처음부터 다시해야한다는 오류 판정!\n",
    "        if (i == 1 and j == 0):\n",
    "            flag = True\n",
    "            break\n",
    "            \n",
    "        print(\"Item: {0}-{1}\".format(i, j))"
   ]
  },
  {
   "cell_type": "code",
   "execution_count": 85,
   "metadata": {},
   "outputs": [
    {
     "name": "stdout",
     "output_type": "stream",
     "text": [
      "Item: 0-0\n",
      "Item: 0-1\n",
      "Item: 0-2\n",
      "Item: 0-3\n",
      "Item: 0-4\n",
      "Success to Error Handling\n"
     ]
    }
   ],
   "source": [
    "# pip install goto-statement\n",
    "from goto import with_goto\n",
    "# goto문을 사용할 준비를 한다.\n",
    "\n",
    "@with_goto\n",
    "def gotoTest():\n",
    "    for i in range(5):\n",
    "        for j in range(5):\n",
    "            # 처음부터 다시해야한다는 오류 판정!\n",
    "            if (i == 1 and j == 0):\n",
    "                # goto를 사용하지 말아야 하는 것이 아니라\n",
    "                # 상황에 따라 잘 사용한다면\n",
    "                # 이와 같이 극대 성능을 얻을 수 있다.\n",
    "                # 루프의 사이즈가 커지면 커질수록 성능의 이득이 거대함\n",
    "                goto .err_handler\n",
    "\n",
    "            print(\"Item: {0}-{1}\".format(i, j))\n",
    "            \n",
    "    label .err_handler\n",
    "    print(\"Success to Error Handling\")\n",
    "    \n",
    "gotoTest()"
   ]
  },
  {
   "cell_type": "code",
   "execution_count": 86,
   "metadata": {},
   "outputs": [],
   "source": [
    "# goto가 일반적인 경우에는 별로 좋지 않은게 사실\n",
    "# 에러 핸들링 차원에서 goto는 매우 유용하다.\n",
    "# 다중 루프를 도는 경우\n",
    "# 그러면서 Exception이 발생하지 않는 경우\n",
    "# 위 두 가지를 모두 만족하는 경우에 goto를 사용한다.\n",
    "\n",
    "# 우리가 만약에 flag 변수를 만들고\n",
    "# 매 루프마다 flag를 검사하는 로직을 만든다면\n",
    "# 실제로 오류가 아닌 정상적인 결과가 들어오는 경우에도\n",
    "# 쓸대없이 계속 오류 검사를 체크하고 있어야 한다.\n",
    "# (데이터가 정상임에도 불구하고 말이다)\n",
    "# 문제는 루프가 커질 경우\n",
    "# 이 검사루틴의 비용이 누적이 되면서 응답성이 떨어지게 된다.\n",
    "# 일반적인 경우에는 문제가 되지 않지만\n",
    "# 대규모 데이터를 전송하거나 수신하는 경우\n",
    "# 상당한 비용 소모를 초래하게 된다.\n",
    "\n",
    "# 그렇기 때문에 구지 오류가 아닌 경우에는\n",
    "# 검사를 하지 않도록 만들어줄 수 있는 goto문이 유리하다는 것이다.\n",
    "\n",
    "# CPU가 동작하는데 있어서 branch 명령어는\n",
    "# (if, for, break, goto, continue, while)\n",
    "# 동시에 여러개를 처리할 수 있도록 하는 파이프라인을 파괴하는 주범이다.\n",
    "# 보통은 단계가 20 ~ 70 단계정도를 가지고 있다.\n",
    "# branch를 만나게되면 쌓아놓은 파이프라인이 깨짐\n",
    "# 그러면 다시 채워야 프로그램이 구동될 수 있다.\n",
    "# (한 번 깨지면 다시 채우는 시간이 소요된다는 의미)"
   ]
  },
  {
   "cell_type": "code",
   "execution_count": 87,
   "metadata": {},
   "outputs": [
    {
     "name": "stdout",
     "output_type": "stream",
     "text": [
      "10\n",
      "12\n",
      "14\n",
      "16\n",
      "18\n"
     ]
    }
   ],
   "source": [
    "seriesList = [10, 12, 14, 16, 18]\n",
    "for i in seriesList:\n",
    "    print(i)"
   ]
  },
  {
   "cell_type": "code",
   "execution_count": 1,
   "metadata": {},
   "outputs": [
    {
     "name": "stdout",
     "output_type": "stream",
     "text": [
      "[0, 1, 2, 3, 4, 5, 6, 7, 8, 9]\n",
      "[5, 6, 7, 8, 9]\n",
      "[10, 9, 8, 7, 6, 5, 4, 3, 2, 1]\n",
      "[10, 12, 14, 16, 18]\n"
     ]
    }
   ],
   "source": [
    "# Callable 에러 발생\n",
    "# 위에서 어딘가에 일반 변수로 list를 사용한 것이 있어서 그런것이므로\n",
    "# 다시 재실행해서 수행하면 프로그램이 실행될 것이다.\n",
    "\n",
    "# 0 ~ 9\n",
    "print(list(range(10)))\n",
    "# 시작 5 ~ 끝 10전 -> for(int i = 5; i < 10; i++)\n",
    "print(list(range(5, 10)))\n",
    "# 시작이 10 ~ 끝은 0전 -> for(int i = 10; i > 0; i--)\n",
    "print(list(range(10, 0, -1)))\n",
    "# 시작이 10 ~ 끝은 20전, 증감이 2 -> for(int i = 10; i < 20; i += 2)\n",
    "print(list(range(10, 20, 2)))"
   ]
  },
  {
   "cell_type": "code",
   "execution_count": 2,
   "metadata": {},
   "outputs": [
    {
     "name": "stdout",
     "output_type": "stream",
     "text": [
      "10\n",
      "12\n",
      "14\n",
      "16\n",
      "18\n"
     ]
    }
   ],
   "source": [
    "for i in range(10, 20, 2):\n",
    "    print(i)"
   ]
  },
  {
   "cell_type": "code",
   "execution_count": null,
   "metadata": {},
   "outputs": [],
   "source": []
  }
 ],
 "metadata": {
  "kernelspec": {
   "display_name": "Python 3",
   "language": "python",
   "name": "python3"
  },
  "language_info": {
   "codemirror_mode": {
    "name": "ipython",
    "version": 3
   },
   "file_extension": ".py",
   "mimetype": "text/x-python",
   "name": "python",
   "nbconvert_exporter": "python",
   "pygments_lexer": "ipython3",
   "version": "3.7.6"
  }
 },
 "nbformat": 4,
 "nbformat_minor": 4
}
