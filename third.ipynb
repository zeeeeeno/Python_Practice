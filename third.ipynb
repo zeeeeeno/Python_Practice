{
 "cells": [
  {
   "cell_type": "code",
   "execution_count": 1,
   "metadata": {},
   "outputs": [
    {
     "name": "stdout",
     "output_type": "stream",
     "text": [
      "[1, 4, 9, 16, 25]\n"
     ]
    }
   ],
   "source": [
    "# 1 ~ 5까지 각 숫자의 제곱을 리스트로 만듬\n",
    "print([res ** 2 for res in range(1, 6)])"
   ]
  },
  {
   "cell_type": "code",
   "execution_count": 2,
   "metadata": {},
   "outputs": [
    {
     "name": "stdout",
     "output_type": "stream",
     "text": [
      "[1, 4, 9, 16, 25]\n"
     ]
    }
   ],
   "source": [
    "numList = [res ** 2 for res in range(1, 6)]\n",
    "print(numList)"
   ]
  },
  {
   "cell_type": "code",
   "execution_count": 3,
   "metadata": {},
   "outputs": [
    {
     "name": "stdout",
     "output_type": "stream",
     "text": [
      "[10, 15, 20, 25, 30]\n"
     ]
    }
   ],
   "source": [
    "numList = [res for res in range(10, 31, 5)]\n",
    "print(numList)"
   ]
  },
  {
   "cell_type": "code",
   "execution_count": 7,
   "metadata": {
    "scrolled": true
   },
   "outputs": [
    {
     "name": "stdout",
     "output_type": "stream",
     "text": [
      "Item: 25\n",
      "Item: 30\n",
      "<filter object at 0x000001805A0D52C8>\n",
      "[]\n"
     ]
    }
   ],
   "source": [
    "# 파이썬 함수(자바 관점에서는 매서드)\n",
    "def GetBiggerThan20(i):\n",
    "    return i > 20\n",
    "\n",
    "# filter는 함수 객체와 리스트를 인자로 계산한 것\n",
    "# filter(매서드, 리스트)\n",
    "iterList = filter(GetBiggerThan20, numList)\n",
    "for i in iterList:\n",
    "    print(\"Item: {0}\".format(i))\n",
    "    \n",
    "print(iterList)\n",
    "print(list(iterList))  # ???\n",
    "# filter를 통해서 만든 정보는 위와 같이 리스트화 할 수 없다."
   ]
  },
  {
   "cell_type": "code",
   "execution_count": 8,
   "metadata": {},
   "outputs": [
    {
     "name": "stdout",
     "output_type": "stream",
     "text": [
      "[25, 30]\n"
     ]
    }
   ],
   "source": [
    "# 아래와 같이 filter를 list로 감싸면 리스트로 만들 수 있다.\n",
    "newList = list(filter(GetBiggerThan20, numList))\n",
    "print(newList)"
   ]
  },
  {
   "cell_type": "code",
   "execution_count": 9,
   "metadata": {},
   "outputs": [
    {
     "name": "stdout",
     "output_type": "stream",
     "text": [
      "[25, 30]\n"
     ]
    }
   ],
   "source": [
    "# numList에 있는 내용을 i로 전달해서\n",
    "# 20보다 큰것을 리스트로 만든다.\n",
    "resList = list(filter(lambda i: i > 20, numList))\n",
    "print(resList)"
   ]
  },
  {
   "cell_type": "code",
   "execution_count": 4,
   "metadata": {},
   "outputs": [
    {
     "name": "stdout",
     "output_type": "stream",
     "text": [
      "Item: 20\n",
      "Item: 25\n",
      "Item: 30\n",
      "Item: 35\n",
      "Item: 40\n"
     ]
    }
   ],
   "source": [
    "def Add10(i):\n",
    "    return i + 10\n",
    "\n",
    "# numList의 요소들을 Add10으로 보내서\n",
    "# 각각 10씩 더해준다.\n",
    "for i in map(Add10, numList):\n",
    "    print(\"Item: {0}\".format(i))"
   ]
  },
  {
   "cell_type": "code",
   "execution_count": 5,
   "metadata": {},
   "outputs": [
    {
     "name": "stdout",
     "output_type": "stream",
     "text": [
      "[20, 25, 30, 35, 40]\n"
     ]
    }
   ],
   "source": [
    "# 결국엔 람다도 고성능을 얻기 위해서 사용한다.\n",
    "retList = list(map((lambda i: i + 10), numList))\n",
    "print(retList)"
   ]
  },
  {
   "cell_type": "code",
   "execution_count": 9,
   "metadata": {},
   "outputs": [
    {
     "name": "stdout",
     "output_type": "stream",
     "text": [
      "0\n",
      "1\n",
      "2\n",
      "3\n",
      "4\n",
      "5\n",
      "6\n",
      "7\n",
      "8\n",
      "9\n",
      "Take 0.0 seconds\n"
     ]
    }
   ],
   "source": [
    "import time\n",
    "\n",
    "l = range(10)\n",
    "\n",
    "t = time.mktime(time.localtime())\n",
    "\n",
    "for i in l:\n",
    "    print(i,)\n",
    "\n",
    "t1 = time.mktime(time.localtime()) - t\n",
    "print(\"Take {0} seconds\".format(t1))"
   ]
  },
  {
   "cell_type": "code",
   "execution_count": 10,
   "metadata": {},
   "outputs": [
    {
     "name": "stdout",
     "output_type": "stream",
     "text": [
      "0, 1, 2, 3, 4, 5, 6, 7, 8, 9, 10, 11, 12, 13, 14, 15, 16, 17, 18, 19, 20, 21, 22, 23, 24, 25, 26, 27, 28, 29, 30, 31, 32, 33, 34, 35, 36, 37, 38, 39, 40, 41, 42, 43, 44, 45, 46, 47, 48, 49, 50, 51, 52, 53, 54, 55, 56, 57, 58, 59, 60, 61, 62, 63, 64, 65, 66, 67, 68, 69, 70, 71, 72, 73, 74, 75, 76, 77, 78, 79, 80, 81, 82, 83, 84, 85, 86, 87, 88, 89, 90, 91, 92, 93, 94, 95, 96, 97, 98, 99\n",
      "Take 0.0 seconds\n"
     ]
    }
   ],
   "source": [
    "# jupyter notebook third.ipynb --NotebookApp.iopub_data_rate_limit=2147483647\n",
    "import time\n",
    "\n",
    "l = range(100)\n",
    "\n",
    "t = time.mktime(time.localtime())\n",
    "print(\", \".join(str(i) for i in l))\n",
    "t1 = time.mktime(time.localtime()) - t\n",
    "print(\"Take {0} seconds\".format(t1))"
   ]
  },
  {
   "cell_type": "code",
   "execution_count": null,
   "metadata": {},
   "outputs": [],
   "source": [
    "# Memory Hierarchy(메모리 계층 구조)\n",
    "# 1. 레지스터\n",
    "# 2. 캐시 메모리(SRAM)\n",
    "# 3. 메모리(DRAM)\n",
    "# 4. I/O(디스크, 모니터, 마우스, 네트워크 등등)\n",
    "\n",
    "# CPU - 2.0 GHz ~ 3.0 GHz -> 5 GHz\n",
    "# GHz == 10^9 Hz\n",
    "# Hz의 의미 -> 1초에 몇번 진동하나 ?\n",
    "# 위의 계산대로라면 일반적인 CPU는\n",
    "# 1초에 20 0000 0000 개의 명령을 실행할 수 있다는 의미\n",
    "# 위 내용은 속도 관점에서 접근한 내용이다.\n",
    "# 그러므로 내용이 빈번하게 자주 바뀌는 녀석들은\n",
    "# 레지스터로 처리해야 하지만\n",
    "# 대규모 I/O를 발생시키면서 바뀌면 여러모로 답이 없는 상황\n",
    "\n",
    "# 크기 관점에서 접근을 해보면\n",
    "# 1. I/O\n",
    "# 2. 메모리\n",
    "# 3. 캐시 메모리\n",
    "# 4. 레지스터\n",
    "\n",
    "# 용량 관점에서는 I/O가 크니까\n",
    "# 데이터를 한 번에 모아서 한 번만 보내면 어떨까 ?\n",
    "# 블록 단위 연산(주의점: 블록킹 연산과는 다른것임)\n",
    "# 블록 단위 연산은 데이터를 한 번에 모아서 전송하는 연산\n",
    "# 블록킹 연산은 특정 작업이 끝날 때까지 대기하는 연산"
   ]
  },
  {
   "cell_type": "code",
   "execution_count": 19,
   "metadata": {},
   "outputs": [
    {
     "name": "stdout",
     "output_type": "stream",
     "text": [
      "30000000.0\n",
      "0 ~ 3까지 적분 결과는 = 8.999999547431766\n"
     ]
    }
   ],
   "source": [
    "# y = x^2에 대해 0 ~ 3까지의 적분을 구현해보자!\n",
    "# 1. dx = 0.001(고정 - 무한소로 가정)\n",
    "# 2. x값의 이동을 기록하도록 한다.\n",
    "# 3. y는 현재의 x값에 따라서 변한다.\n",
    "# 4. dx * y로 사각형 넓이 값을 구한다.\n",
    "# 5. 구한 모든 사각형들의 넓이를 합한다.\n",
    "# y = x^2을 적분하면 1/3x^3 + C\n",
    "# 0 ~ 3까지의 정적분은 9에 근접한 값이 나온다.\n",
    "# dx가 작으면 작을수록 정밀도가 높아진다.\n",
    "# dx가 작으면 작을수록 계산량이 많아진다.\n",
    "dx = 0.0000001\n",
    "start = 0.0\n",
    "end = 3.0\n",
    "\n",
    "loopLen = (end - start) / dx\n",
    "print(loopLen)\n",
    "\n",
    "x = 0\n",
    "y = 0\n",
    "area = 0\n",
    "\n",
    "for i in range(int(loopLen)):\n",
    "    # print(i)\n",
    "    # x의 위치에 따른 y의 높이값을 계산하는 부분\n",
    "    y = x ** 2\n",
    "    # dx는 고정값인데\n",
    "    # 실제로 x는 위치를 이동하면서 y값을 갱신해줘야함\n",
    "    # 사각형을 만들기 위해서 밑변인 dx만큼 이동을 시킨다.\n",
    "    x += dx\n",
    "    # 사각형 넓이의 합을 구한다.\n",
    "    area += dx * y\n",
    "    \n",
    "print(\"0 ~ 3까지 적분 결과는 = \" + str(area))"
   ]
  },
  {
   "cell_type": "code",
   "execution_count": 3,
   "metadata": {},
   "outputs": [
    {
     "name": "stdout",
     "output_type": "stream",
     "text": [
      "<function times at 0x00000226DC8B2B88>\n",
      "100\n"
     ]
    }
   ],
   "source": [
    "# 파이썬에서 함수를 작성하는 방법\n",
    "# 보통 함수라는 표현은 C에서 많이 사용한다.\n",
    "# 그리고 클래스 없이\n",
    "# 매서드만 혼자 떨어져있는 녀석이라고 보면 되겠다.\n",
    "\n",
    "# 1. def를 적는다.\n",
    "# 2. 함수 이름을 적는다.\n",
    "# 3. 받을 인자를 적는다.\n",
    "# 주의점 - 자바는 데이터 타입을 지정해줘야했지만\n",
    "#          파이썬은 데이터 타입을 지정할 필요가 없다.\n",
    "def times(a, b):\n",
    "    return a * b\n",
    "\n",
    "# 함수도 결국은 객체이므로 특정한 주소에 저장되어 있다.\n",
    "print(times)\n",
    "# 아래와 같이 함수를 호출하여 실행할 수 있다.\n",
    "print(times(10, 10))"
   ]
  },
  {
   "cell_type": "code",
   "execution_count": 1,
   "metadata": {},
   "outputs": [
    {
     "name": "stdout",
     "output_type": "stream",
     "text": [
      "{'__name__': '__main__', '__doc__': 'Automatically created module for IPython interactive environment', '__package__': None, '__loader__': None, '__spec__': None, '__builtin__': <module 'builtins' (built-in)>, '__builtins__': <module 'builtins' (built-in)>, '_ih': ['', '# 파이썬에서 사용하는 함수 리스트들을 보여준다.\\nprint(globals())'], '_oh': {}, '_dh': ['C:\\\\proj\\\\PythonWorkshop'], 'In': ['', '# 파이썬에서 사용하는 함수 리스트들을 보여준다.\\nprint(globals())'], 'Out': {}, 'get_ipython': <bound method InteractiveShell.get_ipython of <ipykernel.zmqshell.ZMQInteractiveShell object at 0x00000226DC730348>>, 'exit': <IPython.core.autocall.ZMQExitAutocall object at 0x00000226DC7CB488>, 'quit': <IPython.core.autocall.ZMQExitAutocall object at 0x00000226DC7CB488>, '_': '', '__': '', '___': '', '_i': '', '_ii': '', '_iii': '', '_i1': '# 파이썬에서 사용하는 함수 리스트들을 보여준다.\\nprint(globals())'}\n"
     ]
    }
   ],
   "source": [
    "# 파이썬에서 사용하는 함수 리스트들을 보여준다.\n",
    "print(globals())"
   ]
  },
  {
   "cell_type": "code",
   "execution_count": 4,
   "metadata": {},
   "outputs": [
    {
     "name": "stdout",
     "output_type": "stream",
     "text": [
      "100\n"
     ]
    }
   ],
   "source": [
    "pointerOfFunction = times\n",
    "res = pointerOfFunction(10, 10)\n",
    "print(res)"
   ]
  },
  {
   "cell_type": "code",
   "execution_count": 5,
   "metadata": {},
   "outputs": [
    {
     "name": "stdout",
     "output_type": "stream",
     "text": [
      "{'__name__': '__main__', '__doc__': 'Automatically created module for IPython interactive environment', '__package__': None, '__loader__': None, '__spec__': None, '__builtin__': <module 'builtins' (built-in)>, '__builtins__': <module 'builtins' (built-in)>, '_ih': ['', '# 파이썬에서 사용하는 함수 리스트들을 보여준다.\\nprint(globals())', 'pointerOfFunction = times\\nres = pointerOfFunction(10, 10)\\nprint(res)', '# 파이썬에서 함수를 작성하는 방법\\n# 보통 함수라는 표현은 C에서 많이 사용한다.\\n# 그리고 클래스 없이\\n# 매서드만 혼자 떨어져있는 녀석이라고 보면 되겠다.\\n\\n# 1. def를 적는다.\\n# 2. 함수 이름을 적는다.\\n# 3. 받을 인자를 적는다.\\n# 주의점 - 자바는 데이터 타입을 지정해줘야했지만\\n#          파이썬은 데이터 타입을 지정할 필요가 없다.\\ndef times(a, b):\\n    return a * b\\n\\n# 함수도 결국은 객체이므로 특정한 주소에 저장되어 있다.\\nprint(times)\\n# 아래와 같이 함수를 호출하여 실행할 수 있다.\\nprint(times(10, 10))', 'pointerOfFunction = times\\nres = pointerOfFunction(10, 10)\\nprint(res)', 'print(globals())'], '_oh': {}, '_dh': ['C:\\\\proj\\\\PythonWorkshop'], 'In': ['', '# 파이썬에서 사용하는 함수 리스트들을 보여준다.\\nprint(globals())', 'pointerOfFunction = times\\nres = pointerOfFunction(10, 10)\\nprint(res)', '# 파이썬에서 함수를 작성하는 방법\\n# 보통 함수라는 표현은 C에서 많이 사용한다.\\n# 그리고 클래스 없이\\n# 매서드만 혼자 떨어져있는 녀석이라고 보면 되겠다.\\n\\n# 1. def를 적는다.\\n# 2. 함수 이름을 적는다.\\n# 3. 받을 인자를 적는다.\\n# 주의점 - 자바는 데이터 타입을 지정해줘야했지만\\n#          파이썬은 데이터 타입을 지정할 필요가 없다.\\ndef times(a, b):\\n    return a * b\\n\\n# 함수도 결국은 객체이므로 특정한 주소에 저장되어 있다.\\nprint(times)\\n# 아래와 같이 함수를 호출하여 실행할 수 있다.\\nprint(times(10, 10))', 'pointerOfFunction = times\\nres = pointerOfFunction(10, 10)\\nprint(res)', 'print(globals())'], 'Out': {}, 'get_ipython': <bound method InteractiveShell.get_ipython of <ipykernel.zmqshell.ZMQInteractiveShell object at 0x00000226DC730348>>, 'exit': <IPython.core.autocall.ZMQExitAutocall object at 0x00000226DC7CB488>, 'quit': <IPython.core.autocall.ZMQExitAutocall object at 0x00000226DC7CB488>, '_': '', '__': '', '___': '', '_i': 'pointerOfFunction = times\\nres = pointerOfFunction(10, 10)\\nprint(res)', '_ii': '# 파이썬에서 함수를 작성하는 방법\\n# 보통 함수라는 표현은 C에서 많이 사용한다.\\n# 그리고 클래스 없이\\n# 매서드만 혼자 떨어져있는 녀석이라고 보면 되겠다.\\n\\n# 1. def를 적는다.\\n# 2. 함수 이름을 적는다.\\n# 3. 받을 인자를 적는다.\\n# 주의점 - 자바는 데이터 타입을 지정해줘야했지만\\n#          파이썬은 데이터 타입을 지정할 필요가 없다.\\ndef times(a, b):\\n    return a * b\\n\\n# 함수도 결국은 객체이므로 특정한 주소에 저장되어 있다.\\nprint(times)\\n# 아래와 같이 함수를 호출하여 실행할 수 있다.\\nprint(times(10, 10))', '_iii': 'pointerOfFunction = times\\nres = pointerOfFunction(10, 10)\\nprint(res)', '_i1': '# 파이썬에서 사용하는 함수 리스트들을 보여준다.\\nprint(globals())', '_i2': 'pointerOfFunction = times\\nres = pointerOfFunction(10, 10)\\nprint(res)', '_i3': '# 파이썬에서 함수를 작성하는 방법\\n# 보통 함수라는 표현은 C에서 많이 사용한다.\\n# 그리고 클래스 없이\\n# 매서드만 혼자 떨어져있는 녀석이라고 보면 되겠다.\\n\\n# 1. def를 적는다.\\n# 2. 함수 이름을 적는다.\\n# 3. 받을 인자를 적는다.\\n# 주의점 - 자바는 데이터 타입을 지정해줘야했지만\\n#          파이썬은 데이터 타입을 지정할 필요가 없다.\\ndef times(a, b):\\n    return a * b\\n\\n# 함수도 결국은 객체이므로 특정한 주소에 저장되어 있다.\\nprint(times)\\n# 아래와 같이 함수를 호출하여 실행할 수 있다.\\nprint(times(10, 10))', 'times': <function times at 0x00000226DC8B2B88>, '_i4': 'pointerOfFunction = times\\nres = pointerOfFunction(10, 10)\\nprint(res)', 'pointerOfFunction': <function times at 0x00000226DC8B2B88>, 'res': 100, '_i5': 'print(globals())'}\n"
     ]
    }
   ],
   "source": [
    "print(globals())"
   ]
  },
  {
   "cell_type": "code",
   "execution_count": 7,
   "metadata": {},
   "outputs": [
    {
     "name": "stdout",
     "output_type": "stream",
     "text": [
      "['a']\n",
      "['a', 'p', 'p', 'e']\n"
     ]
    }
   ],
   "source": [
    "# def가 들어있는 애들은 누군가가 실행시켜주지 않는 이상\n",
    "# 알아서 동작하지 못한다.\n",
    "# 그러므로 def가 들어있을 때는\n",
    "# 실질적으로 함수를 호출하는 구간이 나오기전까지 볼 필요 없다.\n",
    "def intersect(preList, postList):\n",
    "    retList = []\n",
    "    # preList에서 값을 하나씩 쪼개서 보낸다.\n",
    "    for x in preList:\n",
    "        # 쪼갠 값중에 postList에서 쪼갠 값과 일치하는게 있다면\n",
    "        if x in postList:\n",
    "            # retList에 해당 문자를 추가한다.\n",
    "            retList.append(x)\n",
    "            \n",
    "    return retList\n",
    "\n",
    "list1 = \"apple\"\n",
    "list2 = \"banana\"\n",
    "list3 = \"grape\"\n",
    "print(intersect(list1, list2))\n",
    "print(intersect(list1, list3))"
   ]
  },
  {
   "cell_type": "code",
   "execution_count": 8,
   "metadata": {},
   "outputs": [
    {
     "name": "stdout",
     "output_type": "stream",
     "text": [
      "(7, 3)\n"
     ]
    }
   ],
   "source": [
    "def swap(x, y):\n",
    "    return y, x\n",
    "\n",
    "print(swap(3, 7))"
   ]
  },
  {
   "cell_type": "code",
   "execution_count": 11,
   "metadata": {},
   "outputs": [
    {
     "name": "stdout",
     "output_type": "stream",
     "text": [
      "77 33\n",
      "<class 'tuple'>\n"
     ]
    }
   ],
   "source": [
    "# 튜플이란 ?\n",
    "# 리스트랑 튜플이랑 별 차이가 없어보임\n",
    "# 튜플은 원소를 바꿀 수 없음(불변성)\n",
    "a, b = swap(33, 77)\n",
    "print(a, b)\n",
    "print(type(swap(33, 77)))"
   ]
  },
  {
   "cell_type": "code",
   "execution_count": 12,
   "metadata": {},
   "outputs": [
    {
     "name": "stdout",
     "output_type": "stream",
     "text": [
      "30\n"
     ]
    }
   ],
   "source": [
    "a = 10\n",
    "b = 20\n",
    "\n",
    "def mysum(a, b):\n",
    "    return a + b\n",
    "\n",
    "print(mysum(a, b))"
   ]
  },
  {
   "cell_type": "code",
   "execution_count": 13,
   "metadata": {},
   "outputs": [
    {
     "name": "stdout",
     "output_type": "stream",
     "text": [
      "11\n",
      "10\n"
     ]
    }
   ],
   "source": [
    "x = 10\n",
    "\n",
    "def mysum2(x, y):\n",
    "    # 여기서 x = 1이란 것은\n",
    "    # mysum2 함수 안에서만 살아있다.\n",
    "    x = 1\n",
    "    # 1 + 10\n",
    "    return x + y\n",
    "\n",
    "print(mysum2(x, x))\n",
    "print(x)"
   ]
  },
  {
   "cell_type": "code",
   "execution_count": 24,
   "metadata": {},
   "outputs": [
    {
     "name": "stdout",
     "output_type": "stream",
     "text": [
      "['J', 'A', 'M']\n",
      "in function = ['H', 'A', 'M']\n",
      "['J', 'A', 'M']\n"
     ]
    }
   ],
   "source": [
    "def change(x):\n",
    "    # x[:]은 내용을 복사하지만 새로운 객체를 만든다.\n",
    "    # 즉 이 시점에서 x는\n",
    "    # 더 이상 입력으로 전달받은 x가 아니게 된다.\n",
    "    x = x[:]\n",
    "    x[0] = 'H'\n",
    "    print(\"in function =\", x)\n",
    "    \n",
    "wordList = ['J', 'A', 'M']\n",
    "print(wordList)\n",
    "\n",
    "change(wordList)\n",
    "print(wordList)"
   ]
  },
  {
   "cell_type": "code",
   "execution_count": 22,
   "metadata": {},
   "outputs": [
    {
     "name": "stdout",
     "output_type": "stream",
     "text": [
      "['H', 'A', 'M']\n"
     ]
    }
   ],
   "source": [
    "def change2(x):\n",
    "    x[0] = 'H'\n",
    "\n",
    "change2(wordList)\n",
    "print(wordList)"
   ]
  },
  {
   "cell_type": "code",
   "execution_count": 27,
   "metadata": {},
   "outputs": [
    {
     "name": "stdout",
     "output_type": "stream",
     "text": [
      "1\n",
      "10\n",
      "7\n"
     ]
    }
   ],
   "source": [
    "# 현재 전역변수 glob가 있다.\n",
    "glob = 1\n",
    "print(glob)\n",
    "\n",
    "def xChgScope(x):\n",
    "    # 함수 내에서 glob을 전역변수로 사용하겠다고 선언\n",
    "    global glob\n",
    "    # 그리고 glob을 7로 지정\n",
    "    glob = 7\n",
    "    # 7 + 3이므로 10을 반환\n",
    "    return glob + x\n",
    "\n",
    "print(xChgScope(3))\n",
    "print(glob)"
   ]
  },
  {
   "cell_type": "code",
   "execution_count": 28,
   "metadata": {},
   "outputs": [
    {
     "name": "stdout",
     "output_type": "stream",
     "text": [
      "http://test.com:8080\n"
     ]
    }
   ],
   "source": [
    "def connectURI(server, port):\n",
    "    str = \"http://\" + server + \":\" + port\n",
    "    return str\n",
    "\n",
    "print(connectURI(\"test.com\", \"8080\"))"
   ]
  },
  {
   "cell_type": "code",
   "execution_count": 29,
   "metadata": {},
   "outputs": [
    {
     "name": "stdout",
     "output_type": "stream",
     "text": [
      "<class 'tuple'>\n"
     ]
    }
   ],
   "source": [
    "# *args는 가변 인자를 의미한다.\n",
    "# 가변 인자란 개수가 정해져있지 않은 인자를 의미한다.\n",
    "# 애초에 값이 가변적으로 들어오기 때문에\n",
    "# 한 번 들어온 값에 대한 보장을 해주기 위해 tuple로 취급\n",
    "def test(*args):\n",
    "    print(type(args))\n",
    "    \n",
    "test(1, 2)"
   ]
  },
  {
   "cell_type": "code",
   "execution_count": 30,
   "metadata": {},
   "outputs": [
    {
     "name": "stdout",
     "output_type": "stream",
     "text": [
      "['H', 'A', 'M', 'E', 'G', 'P', 'O', 'T']\n",
      "['t', 'e', 's', 'd']\n"
     ]
    }
   ],
   "source": [
    "# 가변 인자를 활용해보자 ~\n",
    "# args 첫번째로 HAM\n",
    "# args 두번째로 EGG\n",
    "# args 세번째로 POTATO\n",
    "def union2(*args):\n",
    "    res = []\n",
    "    # item에는 HAM, EGG, POTATO\n",
    "    for item in args:\n",
    "        # 위의 item을 한글자씩 쪼개서 x에 넣는다.\n",
    "        for x in item:\n",
    "            # res에 해당하는 x 성분이 없다면\n",
    "            # if x in res는\n",
    "            # res에 해당하는 x 성분이 있다면\n",
    "            if not x in res:\n",
    "                # x를 res에 추가하세요 ~\n",
    "                res.append(x)\n",
    "                \n",
    "    return res\n",
    "\n",
    "# 각각의 문자열들에서 문자를 추출하여 합집합을 구한다.\n",
    "print(union2(\"HAM\", \"EGG\", \"POTATO\"))\n",
    "print(union2(\"test\", \"tdd\", \"ddd\"))"
   ]
  },
  {
   "cell_type": "code",
   "execution_count": 33,
   "metadata": {},
   "outputs": [
    {
     "name": "stdout",
     "output_type": "stream",
     "text": [
      "http://test.com:7777/?id=userid&passwd=1234&\n",
      "http://test.com:7777/?id=userid&passwd=1234&age=20&\n"
     ]
    }
   ],
   "source": [
    "name = \"test.com\"\n",
    "service = \"7777\"\n",
    "\n",
    "# **는 더블 포인터가 아니라 마찬가지로 가변인자\n",
    "# 아까전의 하나짜리는 단순히 *args라고할 때\n",
    "# args를 for문 돌리듯 사용할 수 있었는데\n",
    "# **는 특정한 아이디값들을 지정해줄 수 있다.\n",
    "# id='userid', passwd='1234', age='20'\n",
    "# 위의 형태로 키 밸류 값을 받으려면 반드시 **를 써야 한다.\n",
    "def userURIBuilder(server, port, **user):\n",
    "    # http://test.com:8080/?\n",
    "    str = \"http://\" + server + \":\" + port + \"/?\"\n",
    "    \n",
    "    # http://test.com:8080/?id=userid&passwd=1234&\n",
    "    # key값으로 넘어오는 것\n",
    "    # 첫번째: id\n",
    "    # user[key]: userid\n",
    "    # 두번째: passwd\n",
    "    # user[key]: 1234\n",
    "    for key in user.keys():\n",
    "        str += key + \"=\" + user[key] + \"&\"\n",
    "        \n",
    "    # 최종적으로 get 요청의 형태가 만들어진다.\n",
    "    return str\n",
    "\n",
    "print(userURIBuilder(\n",
    "    name, service, id='userid', passwd='1234'\n",
    "))\n",
    "print(userURIBuilder(\n",
    "    name, service, id='userid', passwd='1234', age='20'\n",
    "))"
   ]
  },
  {
   "cell_type": "code",
   "execution_count": 34,
   "metadata": {},
   "outputs": [
    {
     "name": "stdout",
     "output_type": "stream",
     "text": [
      "Help on built-in module math:\n",
      "\n",
      "NAME\n",
      "    math\n",
      "\n",
      "DESCRIPTION\n",
      "    This module provides access to the mathematical functions\n",
      "    defined by the C standard.\n",
      "\n",
      "FUNCTIONS\n",
      "    acos(x, /)\n",
      "        Return the arc cosine (measured in radians) of x.\n",
      "    \n",
      "    acosh(x, /)\n",
      "        Return the inverse hyperbolic cosine of x.\n",
      "    \n",
      "    asin(x, /)\n",
      "        Return the arc sine (measured in radians) of x.\n",
      "    \n",
      "    asinh(x, /)\n",
      "        Return the inverse hyperbolic sine of x.\n",
      "    \n",
      "    atan(x, /)\n",
      "        Return the arc tangent (measured in radians) of x.\n",
      "    \n",
      "    atan2(y, x, /)\n",
      "        Return the arc tangent (measured in radians) of y/x.\n",
      "        \n",
      "        Unlike atan(y/x), the signs of both x and y are considered.\n",
      "    \n",
      "    atanh(x, /)\n",
      "        Return the inverse hyperbolic tangent of x.\n",
      "    \n",
      "    ceil(x, /)\n",
      "        Return the ceiling of x as an Integral.\n",
      "        \n",
      "        This is the smallest integer >= x.\n",
      "    \n",
      "    copysign(x, y, /)\n",
      "        Return a float with the magnitude (absolute value) of x but the sign of y.\n",
      "        \n",
      "        On platforms that support signed zeros, copysign(1.0, -0.0)\n",
      "        returns -1.0.\n",
      "    \n",
      "    cos(x, /)\n",
      "        Return the cosine of x (measured in radians).\n",
      "    \n",
      "    cosh(x, /)\n",
      "        Return the hyperbolic cosine of x.\n",
      "    \n",
      "    degrees(x, /)\n",
      "        Convert angle x from radians to degrees.\n",
      "    \n",
      "    erf(x, /)\n",
      "        Error function at x.\n",
      "    \n",
      "    erfc(x, /)\n",
      "        Complementary error function at x.\n",
      "    \n",
      "    exp(x, /)\n",
      "        Return e raised to the power of x.\n",
      "    \n",
      "    expm1(x, /)\n",
      "        Return exp(x)-1.\n",
      "        \n",
      "        This function avoids the loss of precision involved in the direct evaluation of exp(x)-1 for small x.\n",
      "    \n",
      "    fabs(x, /)\n",
      "        Return the absolute value of the float x.\n",
      "    \n",
      "    factorial(x, /)\n",
      "        Find x!.\n",
      "        \n",
      "        Raise a ValueError if x is negative or non-integral.\n",
      "    \n",
      "    floor(x, /)\n",
      "        Return the floor of x as an Integral.\n",
      "        \n",
      "        This is the largest integer <= x.\n",
      "    \n",
      "    fmod(x, y, /)\n",
      "        Return fmod(x, y), according to platform C.\n",
      "        \n",
      "        x % y may differ.\n",
      "    \n",
      "    frexp(x, /)\n",
      "        Return the mantissa and exponent of x, as pair (m, e).\n",
      "        \n",
      "        m is a float and e is an int, such that x = m * 2.**e.\n",
      "        If x is 0, m and e are both 0.  Else 0.5 <= abs(m) < 1.0.\n",
      "    \n",
      "    fsum(seq, /)\n",
      "        Return an accurate floating point sum of values in the iterable seq.\n",
      "        \n",
      "        Assumes IEEE-754 floating point arithmetic.\n",
      "    \n",
      "    gamma(x, /)\n",
      "        Gamma function at x.\n",
      "    \n",
      "    gcd(x, y, /)\n",
      "        greatest common divisor of x and y\n",
      "    \n",
      "    hypot(x, y, /)\n",
      "        Return the Euclidean distance, sqrt(x*x + y*y).\n",
      "    \n",
      "    isclose(a, b, *, rel_tol=1e-09, abs_tol=0.0)\n",
      "        Determine whether two floating point numbers are close in value.\n",
      "        \n",
      "          rel_tol\n",
      "            maximum difference for being considered \"close\", relative to the\n",
      "            magnitude of the input values\n",
      "          abs_tol\n",
      "            maximum difference for being considered \"close\", regardless of the\n",
      "            magnitude of the input values\n",
      "        \n",
      "        Return True if a is close in value to b, and False otherwise.\n",
      "        \n",
      "        For the values to be considered close, the difference between them\n",
      "        must be smaller than at least one of the tolerances.\n",
      "        \n",
      "        -inf, inf and NaN behave similarly to the IEEE 754 Standard.  That\n",
      "        is, NaN is not close to anything, even itself.  inf and -inf are\n",
      "        only close to themselves.\n",
      "    \n",
      "    isfinite(x, /)\n",
      "        Return True if x is neither an infinity nor a NaN, and False otherwise.\n",
      "    \n",
      "    isinf(x, /)\n",
      "        Return True if x is a positive or negative infinity, and False otherwise.\n",
      "    \n",
      "    isnan(x, /)\n",
      "        Return True if x is a NaN (not a number), and False otherwise.\n",
      "    \n",
      "    ldexp(x, i, /)\n",
      "        Return x * (2**i).\n",
      "        \n",
      "        This is essentially the inverse of frexp().\n",
      "    \n",
      "    lgamma(x, /)\n",
      "        Natural logarithm of absolute value of Gamma function at x.\n",
      "    \n",
      "    log(...)\n",
      "        log(x, [base=math.e])\n",
      "        Return the logarithm of x to the given base.\n",
      "        \n",
      "        If the base not specified, returns the natural logarithm (base e) of x.\n",
      "    \n",
      "    log10(x, /)\n",
      "        Return the base 10 logarithm of x.\n",
      "    \n",
      "    log1p(x, /)\n",
      "        Return the natural logarithm of 1+x (base e).\n",
      "        \n",
      "        The result is computed in a way which is accurate for x near zero.\n",
      "    \n",
      "    log2(x, /)\n",
      "        Return the base 2 logarithm of x.\n",
      "    \n",
      "    modf(x, /)\n",
      "        Return the fractional and integer parts of x.\n",
      "        \n",
      "        Both results carry the sign of x and are floats.\n",
      "    \n",
      "    pow(x, y, /)\n",
      "        Return x**y (x to the power of y).\n",
      "    \n",
      "    radians(x, /)\n",
      "        Convert angle x from degrees to radians.\n",
      "    \n",
      "    remainder(x, y, /)\n",
      "        Difference between x and the closest integer multiple of y.\n",
      "        \n",
      "        Return x - n*y where n*y is the closest integer multiple of y.\n",
      "        In the case where x is exactly halfway between two multiples of\n",
      "        y, the nearest even value of n is used. The result is always exact.\n",
      "    \n",
      "    sin(x, /)\n",
      "        Return the sine of x (measured in radians).\n",
      "    \n",
      "    sinh(x, /)\n",
      "        Return the hyperbolic sine of x.\n",
      "    \n",
      "    sqrt(x, /)\n",
      "        Return the square root of x.\n",
      "    \n",
      "    tan(x, /)\n",
      "        Return the tangent of x (measured in radians).\n",
      "    \n",
      "    tanh(x, /)\n",
      "        Return the hyperbolic tangent of x.\n",
      "    \n",
      "    trunc(x, /)\n",
      "        Truncates the Real x to the nearest Integral toward 0.\n",
      "        \n",
      "        Uses the __trunc__ magic method.\n",
      "\n",
      "DATA\n",
      "    e = 2.718281828459045\n",
      "    inf = inf\n",
      "    nan = nan\n",
      "    pi = 3.141592653589793\n",
      "    tau = 6.283185307179586\n",
      "\n",
      "FILE\n",
      "    (built-in)\n",
      "\n",
      "\n"
     ]
    }
   ],
   "source": [
    "import math\n",
    "help(math)"
   ]
  },
  {
   "cell_type": "code",
   "execution_count": 35,
   "metadata": {},
   "outputs": [
    {
     "name": "stdout",
     "output_type": "stream",
     "text": [
      "Help on package json:\n",
      "\n",
      "NAME\n",
      "    json\n",
      "\n",
      "DESCRIPTION\n",
      "    JSON (JavaScript Object Notation) <http://json.org> is a subset of\n",
      "    JavaScript syntax (ECMA-262 3rd edition) used as a lightweight data\n",
      "    interchange format.\n",
      "    \n",
      "    :mod:`json` exposes an API familiar to users of the standard library\n",
      "    :mod:`marshal` and :mod:`pickle` modules.  It is derived from a\n",
      "    version of the externally maintained simplejson library.\n",
      "    \n",
      "    Encoding basic Python object hierarchies::\n",
      "    \n",
      "        >>> import json\n",
      "        >>> json.dumps(['foo', {'bar': ('baz', None, 1.0, 2)}])\n",
      "        '[\"foo\", {\"bar\": [\"baz\", null, 1.0, 2]}]'\n",
      "        >>> print(json.dumps(\"\\\"foo\\bar\"))\n",
      "        \"\\\"foo\\bar\"\n",
      "        >>> print(json.dumps('\\u1234'))\n",
      "        \"\\u1234\"\n",
      "        >>> print(json.dumps('\\\\'))\n",
      "        \"\\\\\"\n",
      "        >>> print(json.dumps({\"c\": 0, \"b\": 0, \"a\": 0}, sort_keys=True))\n",
      "        {\"a\": 0, \"b\": 0, \"c\": 0}\n",
      "        >>> from io import StringIO\n",
      "        >>> io = StringIO()\n",
      "        >>> json.dump(['streaming API'], io)\n",
      "        >>> io.getvalue()\n",
      "        '[\"streaming API\"]'\n",
      "    \n",
      "    Compact encoding::\n",
      "    \n",
      "        >>> import json\n",
      "        >>> mydict = {'4': 5, '6': 7}\n",
      "        >>> json.dumps([1,2,3,mydict], separators=(',', ':'))\n",
      "        '[1,2,3,{\"4\":5,\"6\":7}]'\n",
      "    \n",
      "    Pretty printing::\n",
      "    \n",
      "        >>> import json\n",
      "        >>> print(json.dumps({'4': 5, '6': 7}, sort_keys=True, indent=4))\n",
      "        {\n",
      "            \"4\": 5,\n",
      "            \"6\": 7\n",
      "        }\n",
      "    \n",
      "    Decoding JSON::\n",
      "    \n",
      "        >>> import json\n",
      "        >>> obj = ['foo', {'bar': ['baz', None, 1.0, 2]}]\n",
      "        >>> json.loads('[\"foo\", {\"bar\":[\"baz\", null, 1.0, 2]}]') == obj\n",
      "        True\n",
      "        >>> json.loads('\"\\\\\"foo\\\\bar\"') == '\"foo\\x08ar'\n",
      "        True\n",
      "        >>> from io import StringIO\n",
      "        >>> io = StringIO('[\"streaming API\"]')\n",
      "        >>> json.load(io)[0] == 'streaming API'\n",
      "        True\n",
      "    \n",
      "    Specializing JSON object decoding::\n",
      "    \n",
      "        >>> import json\n",
      "        >>> def as_complex(dct):\n",
      "        ...     if '__complex__' in dct:\n",
      "        ...         return complex(dct['real'], dct['imag'])\n",
      "        ...     return dct\n",
      "        ...\n",
      "        >>> json.loads('{\"__complex__\": true, \"real\": 1, \"imag\": 2}',\n",
      "        ...     object_hook=as_complex)\n",
      "        (1+2j)\n",
      "        >>> from decimal import Decimal\n",
      "        >>> json.loads('1.1', parse_float=Decimal) == Decimal('1.1')\n",
      "        True\n",
      "    \n",
      "    Specializing JSON object encoding::\n",
      "    \n",
      "        >>> import json\n",
      "        >>> def encode_complex(obj):\n",
      "        ...     if isinstance(obj, complex):\n",
      "        ...         return [obj.real, obj.imag]\n",
      "        ...     raise TypeError(f'Object of type {obj.__class__.__name__} '\n",
      "        ...                     f'is not JSON serializable')\n",
      "        ...\n",
      "        >>> json.dumps(2 + 1j, default=encode_complex)\n",
      "        '[2.0, 1.0]'\n",
      "        >>> json.JSONEncoder(default=encode_complex).encode(2 + 1j)\n",
      "        '[2.0, 1.0]'\n",
      "        >>> ''.join(json.JSONEncoder(default=encode_complex).iterencode(2 + 1j))\n",
      "        '[2.0, 1.0]'\n",
      "    \n",
      "    \n",
      "    Using json.tool from the shell to validate and pretty-print::\n",
      "    \n",
      "        $ echo '{\"json\":\"obj\"}' | python -m json.tool\n",
      "        {\n",
      "            \"json\": \"obj\"\n",
      "        }\n",
      "        $ echo '{ 1.2:3.4}' | python -m json.tool\n",
      "        Expecting property name enclosed in double quotes: line 1 column 3 (char 2)\n",
      "\n",
      "PACKAGE CONTENTS\n",
      "    decoder\n",
      "    encoder\n",
      "    scanner\n",
      "    tool\n",
      "\n",
      "CLASSES\n",
      "    builtins.ValueError(builtins.Exception)\n",
      "        json.decoder.JSONDecodeError\n",
      "    builtins.object\n",
      "        json.decoder.JSONDecoder\n",
      "        json.encoder.JSONEncoder\n",
      "    \n",
      "    class JSONDecodeError(builtins.ValueError)\n",
      "     |  JSONDecodeError(msg, doc, pos)\n",
      "     |  \n",
      "     |  Subclass of ValueError with the following additional properties:\n",
      "     |  \n",
      "     |  msg: The unformatted error message\n",
      "     |  doc: The JSON document being parsed\n",
      "     |  pos: The start index of doc where parsing failed\n",
      "     |  lineno: The line corresponding to pos\n",
      "     |  colno: The column corresponding to pos\n",
      "     |  \n",
      "     |  Method resolution order:\n",
      "     |      JSONDecodeError\n",
      "     |      builtins.ValueError\n",
      "     |      builtins.Exception\n",
      "     |      builtins.BaseException\n",
      "     |      builtins.object\n",
      "     |  \n",
      "     |  Methods defined here:\n",
      "     |  \n",
      "     |  __init__(self, msg, doc, pos)\n",
      "     |      Initialize self.  See help(type(self)) for accurate signature.\n",
      "     |  \n",
      "     |  __reduce__(self)\n",
      "     |      Helper for pickle.\n",
      "     |  \n",
      "     |  ----------------------------------------------------------------------\n",
      "     |  Data descriptors defined here:\n",
      "     |  \n",
      "     |  __weakref__\n",
      "     |      list of weak references to the object (if defined)\n",
      "     |  \n",
      "     |  ----------------------------------------------------------------------\n",
      "     |  Static methods inherited from builtins.ValueError:\n",
      "     |  \n",
      "     |  __new__(*args, **kwargs) from builtins.type\n",
      "     |      Create and return a new object.  See help(type) for accurate signature.\n",
      "     |  \n",
      "     |  ----------------------------------------------------------------------\n",
      "     |  Methods inherited from builtins.BaseException:\n",
      "     |  \n",
      "     |  __delattr__(self, name, /)\n",
      "     |      Implement delattr(self, name).\n",
      "     |  \n",
      "     |  __getattribute__(self, name, /)\n",
      "     |      Return getattr(self, name).\n",
      "     |  \n",
      "     |  __repr__(self, /)\n",
      "     |      Return repr(self).\n",
      "     |  \n",
      "     |  __setattr__(self, name, value, /)\n",
      "     |      Implement setattr(self, name, value).\n",
      "     |  \n",
      "     |  __setstate__(...)\n",
      "     |  \n",
      "     |  __str__(self, /)\n",
      "     |      Return str(self).\n",
      "     |  \n",
      "     |  with_traceback(...)\n",
      "     |      Exception.with_traceback(tb) --\n",
      "     |      set self.__traceback__ to tb and return self.\n",
      "     |  \n",
      "     |  ----------------------------------------------------------------------\n",
      "     |  Data descriptors inherited from builtins.BaseException:\n",
      "     |  \n",
      "     |  __cause__\n",
      "     |      exception cause\n",
      "     |  \n",
      "     |  __context__\n",
      "     |      exception context\n",
      "     |  \n",
      "     |  __dict__\n",
      "     |  \n",
      "     |  __suppress_context__\n",
      "     |  \n",
      "     |  __traceback__\n",
      "     |  \n",
      "     |  args\n",
      "    \n",
      "    class JSONDecoder(builtins.object)\n",
      "     |  JSONDecoder(*, object_hook=None, parse_float=None, parse_int=None, parse_constant=None, strict=True, object_pairs_hook=None)\n",
      "     |  \n",
      "     |  Simple JSON <http://json.org> decoder\n",
      "     |  \n",
      "     |  Performs the following translations in decoding by default:\n",
      "     |  \n",
      "     |  +---------------+-------------------+\n",
      "     |  | JSON          | Python            |\n",
      "     |  +===============+===================+\n",
      "     |  | object        | dict              |\n",
      "     |  +---------------+-------------------+\n",
      "     |  | array         | list              |\n",
      "     |  +---------------+-------------------+\n",
      "     |  | string        | str               |\n",
      "     |  +---------------+-------------------+\n",
      "     |  | number (int)  | int               |\n",
      "     |  +---------------+-------------------+\n",
      "     |  | number (real) | float             |\n",
      "     |  +---------------+-------------------+\n",
      "     |  | true          | True              |\n",
      "     |  +---------------+-------------------+\n",
      "     |  | false         | False             |\n",
      "     |  +---------------+-------------------+\n",
      "     |  | null          | None              |\n",
      "     |  +---------------+-------------------+\n",
      "     |  \n",
      "     |  It also understands ``NaN``, ``Infinity``, and ``-Infinity`` as\n",
      "     |  their corresponding ``float`` values, which is outside the JSON spec.\n",
      "     |  \n",
      "     |  Methods defined here:\n",
      "     |  \n",
      "     |  __init__(self, *, object_hook=None, parse_float=None, parse_int=None, parse_constant=None, strict=True, object_pairs_hook=None)\n",
      "     |      ``object_hook``, if specified, will be called with the result\n",
      "     |      of every JSON object decoded and its return value will be used in\n",
      "     |      place of the given ``dict``.  This can be used to provide custom\n",
      "     |      deserializations (e.g. to support JSON-RPC class hinting).\n",
      "     |      \n",
      "     |      ``object_pairs_hook``, if specified will be called with the result of\n",
      "     |      every JSON object decoded with an ordered list of pairs.  The return\n",
      "     |      value of ``object_pairs_hook`` will be used instead of the ``dict``.\n",
      "     |      This feature can be used to implement custom decoders.\n",
      "     |      If ``object_hook`` is also defined, the ``object_pairs_hook`` takes\n",
      "     |      priority.\n",
      "     |      \n",
      "     |      ``parse_float``, if specified, will be called with the string\n",
      "     |      of every JSON float to be decoded. By default this is equivalent to\n",
      "     |      float(num_str). This can be used to use another datatype or parser\n",
      "     |      for JSON floats (e.g. decimal.Decimal).\n",
      "     |      \n",
      "     |      ``parse_int``, if specified, will be called with the string\n",
      "     |      of every JSON int to be decoded. By default this is equivalent to\n",
      "     |      int(num_str). This can be used to use another datatype or parser\n",
      "     |      for JSON integers (e.g. float).\n",
      "     |      \n",
      "     |      ``parse_constant``, if specified, will be called with one of the\n",
      "     |      following strings: -Infinity, Infinity, NaN.\n",
      "     |      This can be used to raise an exception if invalid JSON numbers\n",
      "     |      are encountered.\n",
      "     |      \n",
      "     |      If ``strict`` is false (true is the default), then control\n",
      "     |      characters will be allowed inside strings.  Control characters in\n",
      "     |      this context are those with character codes in the 0-31 range,\n",
      "     |      including ``'\\t'`` (tab), ``'\\n'``, ``'\\r'`` and ``'\\0'``.\n",
      "     |  \n",
      "     |  decode(self, s, _w=<built-in method match of re.Pattern object at 0x00000226DA2ADDB0>)\n",
      "     |      Return the Python representation of ``s`` (a ``str`` instance\n",
      "     |      containing a JSON document).\n",
      "     |  \n",
      "     |  raw_decode(self, s, idx=0)\n",
      "     |      Decode a JSON document from ``s`` (a ``str`` beginning with\n",
      "     |      a JSON document) and return a 2-tuple of the Python\n",
      "     |      representation and the index in ``s`` where the document ended.\n",
      "     |      \n",
      "     |      This can be used to decode a JSON document from a string that may\n",
      "     |      have extraneous data at the end.\n",
      "     |  \n",
      "     |  ----------------------------------------------------------------------\n",
      "     |  Data descriptors defined here:\n",
      "     |  \n",
      "     |  __dict__\n",
      "     |      dictionary for instance variables (if defined)\n",
      "     |  \n",
      "     |  __weakref__\n",
      "     |      list of weak references to the object (if defined)\n",
      "    \n",
      "    class JSONEncoder(builtins.object)\n",
      "     |  JSONEncoder(*, skipkeys=False, ensure_ascii=True, check_circular=True, allow_nan=True, sort_keys=False, indent=None, separators=None, default=None)\n",
      "     |  \n",
      "     |  Extensible JSON <http://json.org> encoder for Python data structures.\n",
      "     |  \n",
      "     |  Supports the following objects and types by default:\n",
      "     |  \n",
      "     |  +-------------------+---------------+\n",
      "     |  | Python            | JSON          |\n",
      "     |  +===================+===============+\n",
      "     |  | dict              | object        |\n",
      "     |  +-------------------+---------------+\n",
      "     |  | list, tuple       | array         |\n",
      "     |  +-------------------+---------------+\n",
      "     |  | str               | string        |\n",
      "     |  +-------------------+---------------+\n",
      "     |  | int, float        | number        |\n",
      "     |  +-------------------+---------------+\n",
      "     |  | True              | true          |\n",
      "     |  +-------------------+---------------+\n",
      "     |  | False             | false         |\n",
      "     |  +-------------------+---------------+\n",
      "     |  | None              | null          |\n",
      "     |  +-------------------+---------------+\n",
      "     |  \n",
      "     |  To extend this to recognize other objects, subclass and implement a\n",
      "     |  ``.default()`` method with another method that returns a serializable\n",
      "     |  object for ``o`` if possible, otherwise it should call the superclass\n",
      "     |  implementation (to raise ``TypeError``).\n",
      "     |  \n",
      "     |  Methods defined here:\n",
      "     |  \n",
      "     |  __init__(self, *, skipkeys=False, ensure_ascii=True, check_circular=True, allow_nan=True, sort_keys=False, indent=None, separators=None, default=None)\n",
      "     |      Constructor for JSONEncoder, with sensible defaults.\n",
      "     |      \n",
      "     |      If skipkeys is false, then it is a TypeError to attempt\n",
      "     |      encoding of keys that are not str, int, float or None.  If\n",
      "     |      skipkeys is True, such items are simply skipped.\n",
      "     |      \n",
      "     |      If ensure_ascii is true, the output is guaranteed to be str\n",
      "     |      objects with all incoming non-ASCII characters escaped.  If\n",
      "     |      ensure_ascii is false, the output can contain non-ASCII characters.\n",
      "     |      \n",
      "     |      If check_circular is true, then lists, dicts, and custom encoded\n",
      "     |      objects will be checked for circular references during encoding to\n",
      "     |      prevent an infinite recursion (which would cause an OverflowError).\n",
      "     |      Otherwise, no such check takes place.\n",
      "     |      \n",
      "     |      If allow_nan is true, then NaN, Infinity, and -Infinity will be\n",
      "     |      encoded as such.  This behavior is not JSON specification compliant,\n",
      "     |      but is consistent with most JavaScript based encoders and decoders.\n",
      "     |      Otherwise, it will be a ValueError to encode such floats.\n",
      "     |      \n",
      "     |      If sort_keys is true, then the output of dictionaries will be\n",
      "     |      sorted by key; this is useful for regression tests to ensure\n",
      "     |      that JSON serializations can be compared on a day-to-day basis.\n",
      "     |      \n",
      "     |      If indent is a non-negative integer, then JSON array\n",
      "     |      elements and object members will be pretty-printed with that\n",
      "     |      indent level.  An indent level of 0 will only insert newlines.\n",
      "     |      None is the most compact representation.\n",
      "     |      \n",
      "     |      If specified, separators should be an (item_separator, key_separator)\n",
      "     |      tuple.  The default is (', ', ': ') if *indent* is ``None`` and\n",
      "     |      (',', ': ') otherwise.  To get the most compact JSON representation,\n",
      "     |      you should specify (',', ':') to eliminate whitespace.\n",
      "     |      \n",
      "     |      If specified, default is a function that gets called for objects\n",
      "     |      that can't otherwise be serialized.  It should return a JSON encodable\n",
      "     |      version of the object or raise a ``TypeError``.\n",
      "     |  \n",
      "     |  default(self, o)\n",
      "     |      Implement this method in a subclass such that it returns\n",
      "     |      a serializable object for ``o``, or calls the base implementation\n",
      "     |      (to raise a ``TypeError``).\n",
      "     |      \n",
      "     |      For example, to support arbitrary iterators, you could\n",
      "     |      implement default like this::\n",
      "     |      \n",
      "     |          def default(self, o):\n",
      "     |              try:\n",
      "     |                  iterable = iter(o)\n",
      "     |              except TypeError:\n",
      "     |                  pass\n",
      "     |              else:\n",
      "     |                  return list(iterable)\n",
      "     |              # Let the base class default method raise the TypeError\n",
      "     |              return JSONEncoder.default(self, o)\n",
      "     |  \n",
      "     |  encode(self, o)\n",
      "     |      Return a JSON string representation of a Python data structure.\n",
      "     |      \n",
      "     |      >>> from json.encoder import JSONEncoder\n",
      "     |      >>> JSONEncoder().encode({\"foo\": [\"bar\", \"baz\"]})\n",
      "     |      '{\"foo\": [\"bar\", \"baz\"]}'\n",
      "     |  \n",
      "     |  iterencode(self, o, _one_shot=False)\n",
      "     |      Encode the given object and yield each string\n",
      "     |      representation as available.\n",
      "     |      \n",
      "     |      For example::\n",
      "     |      \n",
      "     |          for chunk in JSONEncoder().iterencode(bigobject):\n",
      "     |              mysocket.write(chunk)\n",
      "     |  \n",
      "     |  ----------------------------------------------------------------------\n",
      "     |  Data descriptors defined here:\n",
      "     |  \n",
      "     |  __dict__\n",
      "     |      dictionary for instance variables (if defined)\n",
      "     |  \n",
      "     |  __weakref__\n",
      "     |      list of weak references to the object (if defined)\n",
      "     |  \n",
      "     |  ----------------------------------------------------------------------\n",
      "     |  Data and other attributes defined here:\n",
      "     |  \n",
      "     |  item_separator = ', '\n",
      "     |  \n",
      "     |  key_separator = ': '\n",
      "\n",
      "FUNCTIONS\n",
      "    dump(obj, fp, *, skipkeys=False, ensure_ascii=True, check_circular=True, allow_nan=True, cls=None, indent=None, separators=None, default=None, sort_keys=False, **kw)\n",
      "        Serialize ``obj`` as a JSON formatted stream to ``fp`` (a\n",
      "        ``.write()``-supporting file-like object).\n",
      "        \n",
      "        If ``skipkeys`` is true then ``dict`` keys that are not basic types\n",
      "        (``str``, ``int``, ``float``, ``bool``, ``None``) will be skipped\n",
      "        instead of raising a ``TypeError``.\n",
      "        \n",
      "        If ``ensure_ascii`` is false, then the strings written to ``fp`` can\n",
      "        contain non-ASCII characters if they appear in strings contained in\n",
      "        ``obj``. Otherwise, all such characters are escaped in JSON strings.\n",
      "        \n",
      "        If ``check_circular`` is false, then the circular reference check\n",
      "        for container types will be skipped and a circular reference will\n",
      "        result in an ``OverflowError`` (or worse).\n",
      "        \n",
      "        If ``allow_nan`` is false, then it will be a ``ValueError`` to\n",
      "        serialize out of range ``float`` values (``nan``, ``inf``, ``-inf``)\n",
      "        in strict compliance of the JSON specification, instead of using the\n",
      "        JavaScript equivalents (``NaN``, ``Infinity``, ``-Infinity``).\n",
      "        \n",
      "        If ``indent`` is a non-negative integer, then JSON array elements and\n",
      "        object members will be pretty-printed with that indent level. An indent\n",
      "        level of 0 will only insert newlines. ``None`` is the most compact\n",
      "        representation.\n",
      "        \n",
      "        If specified, ``separators`` should be an ``(item_separator, key_separator)``\n",
      "        tuple.  The default is ``(', ', ': ')`` if *indent* is ``None`` and\n",
      "        ``(',', ': ')`` otherwise.  To get the most compact JSON representation,\n",
      "        you should specify ``(',', ':')`` to eliminate whitespace.\n",
      "        \n",
      "        ``default(obj)`` is a function that should return a serializable version\n",
      "        of obj or raise TypeError. The default simply raises TypeError.\n",
      "        \n",
      "        If *sort_keys* is true (default: ``False``), then the output of\n",
      "        dictionaries will be sorted by key.\n",
      "        \n",
      "        To use a custom ``JSONEncoder`` subclass (e.g. one that overrides the\n",
      "        ``.default()`` method to serialize additional types), specify it with\n",
      "        the ``cls`` kwarg; otherwise ``JSONEncoder`` is used.\n",
      "    \n",
      "    dumps(obj, *, skipkeys=False, ensure_ascii=True, check_circular=True, allow_nan=True, cls=None, indent=None, separators=None, default=None, sort_keys=False, **kw)\n",
      "        Serialize ``obj`` to a JSON formatted ``str``.\n",
      "        \n",
      "        If ``skipkeys`` is true then ``dict`` keys that are not basic types\n",
      "        (``str``, ``int``, ``float``, ``bool``, ``None``) will be skipped\n",
      "        instead of raising a ``TypeError``.\n",
      "        \n",
      "        If ``ensure_ascii`` is false, then the return value can contain non-ASCII\n",
      "        characters if they appear in strings contained in ``obj``. Otherwise, all\n",
      "        such characters are escaped in JSON strings.\n",
      "        \n",
      "        If ``check_circular`` is false, then the circular reference check\n",
      "        for container types will be skipped and a circular reference will\n",
      "        result in an ``OverflowError`` (or worse).\n",
      "        \n",
      "        If ``allow_nan`` is false, then it will be a ``ValueError`` to\n",
      "        serialize out of range ``float`` values (``nan``, ``inf``, ``-inf``) in\n",
      "        strict compliance of the JSON specification, instead of using the\n",
      "        JavaScript equivalents (``NaN``, ``Infinity``, ``-Infinity``).\n",
      "        \n",
      "        If ``indent`` is a non-negative integer, then JSON array elements and\n",
      "        object members will be pretty-printed with that indent level. An indent\n",
      "        level of 0 will only insert newlines. ``None`` is the most compact\n",
      "        representation.\n",
      "        \n",
      "        If specified, ``separators`` should be an ``(item_separator, key_separator)``\n",
      "        tuple.  The default is ``(', ', ': ')`` if *indent* is ``None`` and\n",
      "        ``(',', ': ')`` otherwise.  To get the most compact JSON representation,\n",
      "        you should specify ``(',', ':')`` to eliminate whitespace.\n",
      "        \n",
      "        ``default(obj)`` is a function that should return a serializable version\n",
      "        of obj or raise TypeError. The default simply raises TypeError.\n",
      "        \n",
      "        If *sort_keys* is true (default: ``False``), then the output of\n",
      "        dictionaries will be sorted by key.\n",
      "        \n",
      "        To use a custom ``JSONEncoder`` subclass (e.g. one that overrides the\n",
      "        ``.default()`` method to serialize additional types), specify it with\n",
      "        the ``cls`` kwarg; otherwise ``JSONEncoder`` is used.\n",
      "    \n",
      "    load(fp, *, cls=None, object_hook=None, parse_float=None, parse_int=None, parse_constant=None, object_pairs_hook=None, **kw)\n",
      "        Deserialize ``fp`` (a ``.read()``-supporting file-like object containing\n",
      "        a JSON document) to a Python object.\n",
      "        \n",
      "        ``object_hook`` is an optional function that will be called with the\n",
      "        result of any object literal decode (a ``dict``). The return value of\n",
      "        ``object_hook`` will be used instead of the ``dict``. This feature\n",
      "        can be used to implement custom decoders (e.g. JSON-RPC class hinting).\n",
      "        \n",
      "        ``object_pairs_hook`` is an optional function that will be called with the\n",
      "        result of any object literal decoded with an ordered list of pairs.  The\n",
      "        return value of ``object_pairs_hook`` will be used instead of the ``dict``.\n",
      "        This feature can be used to implement custom decoders.  If ``object_hook``\n",
      "        is also defined, the ``object_pairs_hook`` takes priority.\n",
      "        \n",
      "        To use a custom ``JSONDecoder`` subclass, specify it with the ``cls``\n",
      "        kwarg; otherwise ``JSONDecoder`` is used.\n",
      "    \n",
      "    loads(s, *, encoding=None, cls=None, object_hook=None, parse_float=None, parse_int=None, parse_constant=None, object_pairs_hook=None, **kw)\n",
      "        Deserialize ``s`` (a ``str``, ``bytes`` or ``bytearray`` instance\n",
      "        containing a JSON document) to a Python object.\n",
      "        \n",
      "        ``object_hook`` is an optional function that will be called with the\n",
      "        result of any object literal decode (a ``dict``). The return value of\n",
      "        ``object_hook`` will be used instead of the ``dict``. This feature\n",
      "        can be used to implement custom decoders (e.g. JSON-RPC class hinting).\n",
      "        \n",
      "        ``object_pairs_hook`` is an optional function that will be called with the\n",
      "        result of any object literal decoded with an ordered list of pairs.  The\n",
      "        return value of ``object_pairs_hook`` will be used instead of the ``dict``.\n",
      "        This feature can be used to implement custom decoders.  If ``object_hook``\n",
      "        is also defined, the ``object_pairs_hook`` takes priority.\n",
      "        \n",
      "        ``parse_float``, if specified, will be called with the string\n",
      "        of every JSON float to be decoded. By default this is equivalent to\n",
      "        float(num_str). This can be used to use another datatype or parser\n",
      "        for JSON floats (e.g. decimal.Decimal).\n",
      "        \n",
      "        ``parse_int``, if specified, will be called with the string\n",
      "        of every JSON int to be decoded. By default this is equivalent to\n",
      "        int(num_str). This can be used to use another datatype or parser\n",
      "        for JSON integers (e.g. float).\n",
      "        \n",
      "        ``parse_constant``, if specified, will be called with one of the\n",
      "        following strings: -Infinity, Infinity, NaN.\n",
      "        This can be used to raise an exception if invalid JSON numbers\n",
      "        are encountered.\n",
      "        \n",
      "        To use a custom ``JSONDecoder`` subclass, specify it with the ``cls``\n",
      "        kwarg; otherwise ``JSONDecoder`` is used.\n",
      "        \n",
      "        The ``encoding`` argument is ignored and deprecated.\n",
      "\n",
      "DATA\n",
      "    __all__ = ['dump', 'dumps', 'load', 'loads', 'JSONDecoder', 'JSONDecod...\n",
      "\n",
      "VERSION\n",
      "    2.0.9\n",
      "\n",
      "AUTHOR\n",
      "    Bob Ippolito <bob@redivi.com>\n",
      "\n",
      "FILE\n",
      "    c:\\users\\user\\anaconda3\\lib\\json\\__init__.py\n",
      "\n",
      "\n"
     ]
    }
   ],
   "source": [
    "import json\n",
    "help(json)"
   ]
  },
  {
   "cell_type": "code",
   "execution_count": 36,
   "metadata": {},
   "outputs": [
    {
     "name": "stdout",
     "output_type": "stream",
     "text": [
      "['In', 'Out', 'PyTestClass', '_', '__', '___', '__builtin__', '__builtins__', '__doc__', '__loader__', '__name__', '__package__', '__spec__', '_dh', '_i', '_i1', '_i10', '_i11', '_i12', '_i13', '_i14', '_i15', '_i16', '_i17', '_i18', '_i19', '_i2', '_i20', '_i21', '_i22', '_i23', '_i24', '_i25', '_i26', '_i27', '_i28', '_i29', '_i3', '_i30', '_i31', '_i32', '_i33', '_i34', '_i35', '_i36', '_i4', '_i5', '_i6', '_i7', '_i8', '_i9', '_ih', '_ii', '_iii', '_oh', 'a', 'b', 'change', 'change2', 'connectURI', 'exit', 'get_ipython', 'glob', 'intersect', 'json', 'list1', 'list2', 'list3', 'math', 'mysum', 'mysum2', 'name', 'pointerOfFunction', 'quit', 'res', 'service', 'swap', 'test', 'times', 'union2', 'userURIBuilder', 'wordList', 'x', 'xChgScope']\n",
      "<class 'type'>\n"
     ]
    }
   ],
   "source": [
    "# 파이썬에서 클래스를 만드는 방법\n",
    "# class를 적고 클래스 이름을 적는다.\n",
    "# 그리고 스코핑을 해준다.\n",
    "class PyTestClass:\n",
    "    \"\"\"It's fop Python Test Class\"\"\"\n",
    "    # pass를 넣어놓으면 별도의 다른 기능이 없어도\n",
    "    # 자체적인 클래스가 만들어지게 된다.\n",
    "    # 즉 아무런 기능이 없는 클래스가 만들어졌다.\n",
    "    pass\n",
    "\n",
    "# dir()은 현재 사용할 수 있는 모듈의 리스트를 보여준다.\n",
    "print(dir())\n",
    "# class로 만들었으니 당연히 class 타입\n",
    "print(type(PyTestClass))"
   ]
  },
  {
   "cell_type": "code",
   "execution_count": 37,
   "metadata": {},
   "outputs": [
    {
     "name": "stdout",
     "output_type": "stream",
     "text": [
      "My name is Default Name\n"
     ]
    }
   ],
   "source": [
    "class Person:\n",
    "    Name = \"Default Name\"\n",
    "    # 파이썬에서 클래스 매서드 작성할 때\n",
    "    # 반드시 첫 번째 인자로 self를 지정하도록 한다.\n",
    "    # self는 Java나 C++의 this와 동일하다.\n",
    "    def Print(self):\n",
    "        print(\"My name is {0}\".format(self.Name))\n",
    "        \n",
    "# Person p1 = new Person()\n",
    "p1 = Person()\n",
    "p1.Print()"
   ]
  },
  {
   "cell_type": "code",
   "execution_count": 38,
   "metadata": {},
   "outputs": [
    {
     "name": "stdout",
     "output_type": "stream",
     "text": [
      "My name is My name is Python3\n",
      "My name is My name is Python3\n"
     ]
    }
   ],
   "source": [
    "p1.Name = \"My name is Python3\"\n",
    "p1.Print()\n",
    "Person.Print(p1)"
   ]
  },
  {
   "cell_type": "code",
   "execution_count": 39,
   "metadata": {},
   "outputs": [
    {
     "name": "stdout",
     "output_type": "stream",
     "text": [
      "p1's name:  My name is Person\n",
      "p2's name:  Default Name\n"
     ]
    }
   ],
   "source": [
    "p1 = Person()\n",
    "p1.Name = \"My name is Person\"\n",
    "p2 = Person()\n",
    "\n",
    "print(\"p1's name: \", p1.Name)\n",
    "print(\"p2's name: \", p2.Name)"
   ]
  },
  {
   "cell_type": "code",
   "execution_count": 40,
   "metadata": {},
   "outputs": [
    {
     "name": "stdout",
     "output_type": "stream",
     "text": [
      "p1's title:  Python3 Test\n",
      "p2's title:  Python3 Test\n",
      "Person's title:  Python3 Test\n"
     ]
    }
   ],
   "source": [
    "Person.title = \"Python3 Test\"\n",
    "print(\"p1's title: \", p1.title)\n",
    "print(\"p2's title: \", p2.title)\n",
    "print(\"Person's title: \", Person.title)"
   ]
  },
  {
   "cell_type": "code",
   "execution_count": 42,
   "metadata": {},
   "outputs": [
    {
     "name": "stdout",
     "output_type": "stream",
     "text": [
      "Not Class Member\n",
      "Test Message\n"
     ]
    }
   ],
   "source": [
    "str1 = \"Not Class Member\"\n",
    "\n",
    "class NonSelfTest:\n",
    "    str1 = \"\"\n",
    "    \n",
    "    def Set(self, msg):\n",
    "        self.str1 = msg\n",
    "        \n",
    "    def Print(self):\n",
    "        # self가 없으면 전역 변수가 나온다 ~\n",
    "        print(str1)\n",
    "        # self가 있으면 클래스 내부 변수가 출력된다 ~\n",
    "        print(self.str1)\n",
    "        \n",
    "test = NonSelfTest()\n",
    "test.Set(\"Test Message\")\n",
    "test.Print()"
   ]
  },
  {
   "cell_type": "code",
   "execution_count": 43,
   "metadata": {},
   "outputs": [
    {
     "name": "stdout",
     "output_type": "stream",
     "text": [
      "Change Data\n",
      "Change Data\n"
     ]
    }
   ],
   "source": [
    "class ClassTest:\n",
    "    data = \"Default\"\n",
    "    \n",
    "i1 = ClassTest()\n",
    "i2 = ClassTest()\n",
    "\n",
    "# __class__를 통해서 i1의 데이터타입을 가진\n",
    "# 모든 객체의 data를 일괄 변경한다.\n",
    "i1.__class__.data = \"Change Data\"\n",
    "print(i1.data)\n",
    "print(i2.data)"
   ]
  },
  {
   "cell_type": "code",
   "execution_count": 45,
   "metadata": {},
   "outputs": [
    {
     "name": "stdout",
     "output_type": "stream",
     "text": [
      "Change Data\n",
      "Only Change it!\n"
     ]
    }
   ],
   "source": [
    "i2.data = \"Only Change it!\"\n",
    "print(i1.data)   # Change Data\n",
    "print(i2.data)   # Only Change it!"
   ]
  },
  {
   "cell_type": "code",
   "execution_count": 47,
   "metadata": {},
   "outputs": [
    {
     "name": "stdout",
     "output_type": "stream",
     "text": [
      "Real\n",
      "Real\n",
      "Only Change it!\n"
     ]
    }
   ],
   "source": [
    "# __class__.data와 객체의 data가 같지 않음을 주의!\n",
    "i1.__class__.data = \"Real\"\n",
    "\n",
    "print(i2.__class__.data)\n",
    "print(i1.data)\n",
    "print(i2.data)"
   ]
  },
  {
   "cell_type": "code",
   "execution_count": 48,
   "metadata": {},
   "outputs": [
    {
     "name": "stdout",
     "output_type": "stream",
     "text": [
      "check = True\n",
      "check = True\n",
      "check = True\n",
      "check = True\n",
      "check = False\n"
     ]
    }
   ],
   "source": [
    "# Vehicle 입장에서 Airplane은 자식\n",
    "class Vehicle:\n",
    "    pass\n",
    "class Fish:\n",
    "    pass\n",
    "# Airplane이 Vehicle을 상속받았음\n",
    "# 비행기 입장에서는 탈것(Vehicle)이 부모\n",
    "# 파이썬은 상속을 아래와 같이 한다.\n",
    "# 상속 방법\n",
    "# 1. 우선 클래스를 작성한다.\n",
    "# 2. 소괄호를 열고 내부에 상속할 클래스를 적는다.\n",
    "class Airplane(Vehicle):\n",
    "    pass\n",
    "\n",
    "# --------------\n",
    "# |  Vehicle   | <-- Vehicle 자체의 데이터\n",
    "# --------------\n",
    "# |  Airplane  | <-- Airplane 자체의 데이터\n",
    "# --------------\n",
    "\n",
    "# 튜플로 Vehicle과 Airplane 객체를 받는다.\n",
    "v, a = Vehicle(), Airplane()\n",
    "\n",
    "# Java에서도 전체 클래스를\n",
    "# 포함할 수 있는 특수한 클래스가 하나 있다.\n",
    "# 그러한 클래스가 바로 자바에서는 Object\n",
    "# 파이썬에서는 이와 동일한 것이 object\n",
    "print(\"check =\", isinstance(v, Vehicle))\n",
    "print(\"check =\", isinstance(a, Vehicle))\n",
    "print(\"check =\", isinstance(v, object))\n",
    "print(\"check =\", isinstance(int, object))\n",
    "print(\"check =\", isinstance(v, Fish))"
   ]
  },
  {
   "cell_type": "code",
   "execution_count": 49,
   "metadata": {},
   "outputs": [
    {
     "name": "stdout",
     "output_type": "stream",
     "text": [
      "Vehicles Constructor! Value = 70\n"
     ]
    }
   ],
   "source": [
    "class Vehicles:\n",
    "    # initialization(초기화): 생성자를 의미함\n",
    "    def __init__(self, value):\n",
    "        self.Value = value\n",
    "        print(\"Vehicles Constructor! Value =\", value)\n",
    "        \n",
    "    # delete(삭제): 소멸자를 의미함\n",
    "    def __del__(self):\n",
    "        print(\"Vehicles Destructor!\")\n",
    "        \n",
    "# 여기서 소멸자가 호출되지 않는 이유는\n",
    "# Heap 영역에 정보가 살아있기 때문이다.\n",
    "v = Vehicles(70)"
   ]
  },
  {
   "cell_type": "code",
   "execution_count": 50,
   "metadata": {},
   "outputs": [
    {
     "name": "stdout",
     "output_type": "stream",
     "text": [
      "Vehicles Constructor! Value = 70\n",
      "Vehicles Destructor!\n"
     ]
    }
   ],
   "source": [
    "# test 함수내에 v 객체\n",
    "# test라는 함수 안에서만 사용할 수 있음\n",
    "# 즉 test 내부에서 지역 변수가 되어버렸다.\n",
    "def test():\n",
    "    v = Vehicles(70)\n",
    "\n",
    "# 그래서 test() 함수가 끝나는 순간\n",
    "# 소멸자가 동작하게 된다.\n",
    "test()"
   ]
  },
  {
   "cell_type": "code",
   "execution_count": 51,
   "metadata": {},
   "outputs": [
    {
     "name": "stdout",
     "output_type": "stream",
     "text": [
      "{'speed': 70, 'color': 'red'}\n",
      "{'speed': 150, 'name': 'porsche', 'vendor': 'spyder 918', 'color': 'blue'}\n"
     ]
    }
   ],
   "source": [
    "class Vehicle:\n",
    "    # 생성자\n",
    "    def __init__(self, speed, color):\n",
    "        self.speed = speed\n",
    "        self.color = color\n",
    "        \n",
    "    def printInfo(self):\n",
    "        print(\"Info(name:{0}, color:{1})\".format(\n",
    "            self.speed, self.color\n",
    "        ))\n",
    "        \n",
    "class Car(Vehicle):\n",
    "    def __init__(self, speed, color, name, vendor):\n",
    "        self.speed = speed\n",
    "        self.name = name\n",
    "        self.vendor = vendor\n",
    "        self.color = color\n",
    "        \n",
    "# Vehicle 생성자를 호출하겠습니다.\n",
    "v1 = Vehicle(70, \"red\")\n",
    "# Car 생성자를 호출하겠습니다.\n",
    "# 현재는 super라는 부모 클래스 호출 방식을 사용하지 않았음\n",
    "c1 = Car(150, \"blue\", \"porsche\", \"spyder 918\")\n",
    "\n",
    "# v1은 70과 \"red\"\n",
    "# __dict__를 통해서 실제 객체가 가지고 있는 정보를 출력한다.\n",
    "print(v1.__dict__)\n",
    "print(c1.__dict__)"
   ]
  },
  {
   "cell_type": "code",
   "execution_count": null,
   "metadata": {},
   "outputs": [],
   "source": []
  }
 ],
 "metadata": {
  "kernelspec": {
   "display_name": "Python 3",
   "language": "python",
   "name": "python3"
  },
  "language_info": {
   "codemirror_mode": {
    "name": "ipython",
    "version": 3
   },
   "file_extension": ".py",
   "mimetype": "text/x-python",
   "name": "python",
   "nbconvert_exporter": "python",
   "pygments_lexer": "ipython3",
   "version": "3.7.6"
  }
 },
 "nbformat": 4,
 "nbformat_minor": 4
}
