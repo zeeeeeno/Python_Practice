{
 "cells": [
  {
   "cell_type": "code",
   "execution_count": 1,
   "metadata": {},
   "outputs": [
    {
     "name": "stdout",
     "output_type": "stream",
     "text": [
      "Project1\n"
     ]
    }
   ],
   "source": [
    "print('Project1')"
   ]
  },
  {
   "cell_type": "code",
   "execution_count": 2,
   "metadata": {},
   "outputs": [],
   "source": [
    "import pandas as pd\n",
    "\n",
    "feats = pd.read_csv(\n",
    "    \"../Applied-Deep-Learning-with-Keras/Lesson02/bank_data_feats.csv\",\n",
    "    index_col = 0\n",
    ")\n",
    "target = pd.read_csv(\n",
    "    \"../Applied-Deep-Learning-with-Keras/Lesson02/bank_data_target.csv\",\n",
    "    index_col = 0\n",
    ")"
   ]
  },
  {
   "cell_type": "code",
   "execution_count": 3,
   "metadata": {},
   "outputs": [],
   "source": [
    "from sklearn.model_selection import train_test_split\n",
    "\n",
    "test_size = 0.2\n",
    "random_state = 42\n",
    "\n",
    "X_train, X_test, y_train, y_test = train_test_split(\n",
    "    feats, target, test_size=test_size, random_state=random_state\n",
    ")"
   ]
  },
  {
   "cell_type": "code",
   "execution_count": 4,
   "metadata": {},
   "outputs": [
    {
     "name": "stdout",
     "output_type": "stream",
     "text": [
      "(3616, 32)\n",
      "(905, 32)\n",
      "(3616, 1)\n",
      "(905, 1)\n"
     ]
    }
   ],
   "source": [
    "print(X_train.shape)\n",
    "print(X_test.shape)\n",
    "print(y_train.shape)\n",
    "print(y_test.shape)"
   ]
  },
  {
   "cell_type": "code",
   "execution_count": 5,
   "metadata": {},
   "outputs": [],
   "source": [
    "from keras.models import Sequential\n",
    "model = Sequential()"
   ]
  },
  {
   "cell_type": "code",
   "execution_count": 6,
   "metadata": {},
   "outputs": [],
   "source": [
    "from keras.layers import Dense, Activation\n",
    "from keras.models import Sequential\n",
    "\n",
    "input_shape = X_train.shape[1]\n",
    "\n",
    "model.add(Dense(256, activation='tanh' ,input_dim = input_shape))\n",
    "model.add(Dense(128, activation='tanh'))\n",
    "model.add(Dense(96, activation='tanh'))\n",
    "model.add(Dense(64, activation='tanh'))\n",
    "model.add(Dense(32, activation='tanh'))\n",
    "model.add(Dense(16, activation='tanh'))\n",
    "model.add(Dense(8, activation='tanh'))\n",
    "model.add(Dense(1, activation='sigmoid'))\n"
   ]
  },
  {
   "cell_type": "code",
   "execution_count": 7,
   "metadata": {},
   "outputs": [],
   "source": [
    "model.compile(\n",
    "    optimizer='adam',\n",
    "    loss='binary_crossentropy',\n",
    "    metrics=['accuracy']\n",
    ")"
   ]
  },
  {
   "cell_type": "code",
   "execution_count": 8,
   "metadata": {},
   "outputs": [
    {
     "name": "stdout",
     "output_type": "stream",
     "text": [
      "Model: \"sequential\"\n",
      "_________________________________________________________________\n",
      "Layer (type)                 Output Shape              Param #   \n",
      "=================================================================\n",
      "dense (Dense)                (None, 256)               8448      \n",
      "_________________________________________________________________\n",
      "dense_1 (Dense)              (None, 128)               32896     \n",
      "_________________________________________________________________\n",
      "dense_2 (Dense)              (None, 96)                12384     \n",
      "_________________________________________________________________\n",
      "dense_3 (Dense)              (None, 64)                6208      \n",
      "_________________________________________________________________\n",
      "dense_4 (Dense)              (None, 32)                2080      \n",
      "_________________________________________________________________\n",
      "dense_5 (Dense)              (None, 16)                528       \n",
      "_________________________________________________________________\n",
      "dense_6 (Dense)              (None, 8)                 136       \n",
      "_________________________________________________________________\n",
      "dense_7 (Dense)              (None, 1)                 9         \n",
      "=================================================================\n",
      "Total params: 62,689\n",
      "Trainable params: 62,689\n",
      "Non-trainable params: 0\n",
      "_________________________________________________________________\n",
      "None\n"
     ]
    }
   ],
   "source": [
    "print(model.summary())\n"
   ]
  },
  {
   "cell_type": "code",
   "execution_count": 9,
   "metadata": {},
   "outputs": [
    {
     "name": "stdout",
     "output_type": "stream",
     "text": [
      "Epoch 1/10\n",
      "91/91 [==============================] - 0s 2ms/step - loss: 0.3579 - accuracy: 0.8769 - val_loss: 0.3055 - val_accuracy: 0.8936\n",
      "Epoch 2/10\n",
      "91/91 [==============================] - 0s 1ms/step - loss: 0.3350 - accuracy: 0.8800 - val_loss: 0.3082 - val_accuracy: 0.8936\n",
      "Epoch 3/10\n",
      "91/91 [==============================] - 0s 1ms/step - loss: 0.3285 - accuracy: 0.8804 - val_loss: 0.3049 - val_accuracy: 0.8936\n",
      "Epoch 4/10\n",
      "91/91 [==============================] - 0s 1ms/step - loss: 0.3216 - accuracy: 0.8817 - val_loss: 0.3009 - val_accuracy: 0.8936\n",
      "Epoch 5/10\n",
      "91/91 [==============================] - 0s 1ms/step - loss: 0.3223 - accuracy: 0.8811 - val_loss: 0.3065 - val_accuracy: 0.8923\n",
      "Epoch 6/10\n",
      "91/91 [==============================] - 0s 1ms/step - loss: 0.3230 - accuracy: 0.8790 - val_loss: 0.3130 - val_accuracy: 0.8909\n",
      "Epoch 7/10\n",
      "91/91 [==============================] - 0s 1ms/step - loss: 0.3206 - accuracy: 0.8800 - val_loss: 0.2978 - val_accuracy: 0.8923\n",
      "Epoch 8/10\n",
      "91/91 [==============================] - 0s 1ms/step - loss: 0.3191 - accuracy: 0.8797 - val_loss: 0.3184 - val_accuracy: 0.8743\n",
      "Epoch 9/10\n",
      "91/91 [==============================] - 0s 1ms/step - loss: 0.3202 - accuracy: 0.8793 - val_loss: 0.3009 - val_accuracy: 0.8936\n",
      "Epoch 10/10\n",
      "91/91 [==============================] - 0s 1ms/step - loss: 0.3208 - accuracy: 0.8790 - val_loss: 0.3205 - val_accuracy: 0.8936\n"
     ]
    }
   ],
   "source": [
    "history = model.fit(\n",
    "    x=X_train, y=y_train['y'],\n",
    "    epochs=10, batch_size=32, validation_split=0.2\n",
    ")"
   ]
  },
  {
   "cell_type": "code",
   "execution_count": 10,
   "metadata": {},
   "outputs": [
    {
     "name": "stdout",
     "output_type": "stream",
     "text": [
      "{'loss': [0.3578730821609497, 0.33496788144111633, 0.3284696936607361, 0.32157430052757263, 0.3223356008529663, 0.32297688722610474, 0.3206489682197571, 0.3190639913082123, 0.3202095627784729, 0.3208448588848114], 'accuracy': [0.8769018054008484, 0.8800138235092163, 0.8803595900535583, 0.8817427158355713, 0.8810511827468872, 0.8789764642715454, 0.8800138235092163, 0.8796680569648743, 0.8793222904205322, 0.8789764642715454], 'val_loss': [0.3054555058479309, 0.30818745493888855, 0.3048686981201172, 0.3008561432361603, 0.3064599931240082, 0.3130033016204834, 0.2978208363056183, 0.3183857798576355, 0.3009495735168457, 0.32048043608665466], 'val_accuracy': [0.8936464190483093, 0.8936464190483093, 0.8936464190483093, 0.8936464190483093, 0.8922652006149292, 0.8908839821815491, 0.8922652006149292, 0.8743094205856323, 0.8936464190483093, 0.8936464190483093]}\n"
     ]
    }
   ],
   "source": [
    "print(history.history)"
   ]
  },
  {
   "cell_type": "code",
   "execution_count": 11,
   "metadata": {},
   "outputs": [
    {
     "data": {
      "image/png": "[encoded data removed]",
      "text/plain": [
       "<Figure size 432x288 with 1 Axes>"
      ]
     },
     "metadata": {
      "needs_background": "light"
     },
     "output_type": "display_data"
    }
   ],
   "source": [
    "import matplotlib.pyplot as plt\n",
    "\n",
    "plt.plot(history.history['loss'])\n",
    "plt.title('Model Loss')\n",
    "plt.ylabel('Loss')\n",
    "plt.xlabel('Loop')\n",
    "plt.draw()\n",
    "fig = plt.gcf()\n",
    "fig.savefig('myfile.png', dpi=fig.dpi)\n",
    "plt.show()"
   ]
  },
  {
   "cell_type": "code",
   "execution_count": 12,
   "metadata": {},
   "outputs": [
    {
     "name": "stdout",
     "output_type": "stream",
     "text": [
      "myfile.gif  myfile.png\tProject1.ipynb\tUntitled.ipynb\r\n"
     ]
    }
   ],
   "source": [
    "!ls"
   ]
  },
  {
   "cell_type": "code",
   "execution_count": 13,
   "metadata": {},
   "outputs": [],
   "source": [
    "!mv myfile.png myfile.gif"
   ]
  },
  {
   "cell_type": "code",
   "execution_count": 14,
   "metadata": {},
   "outputs": [
    {
     "data": {
      "text/plain": [
       "<matplotlib.image.AxesImage at 0x7f7ff4071350>"
      ]
     },
     "execution_count": 14,
     "metadata": {},
     "output_type": "execute_result"
    },
    {
     "data": {
      "image/png": "[encoded data removed]",
      "text/plain": [
       "<Figure size 432x288 with 1 Axes>"
      ]
     },
     "metadata": {
      "needs_background": "light"
     },
     "output_type": "display_data"
    }
   ],
   "source": [
    "a = plt.imread('./myfile.gif')\n",
    "plt.imshow(a) # 흑백으로 보고 싶을 땐, plt.imshow(a, cmap='gray')"
   ]
  },
  {
   "cell_type": "code",
   "execution_count": null,
   "metadata": {},
   "outputs": [],
   "source": []
  },
  {
   "cell_type": "code",
   "execution_count": null,
   "metadata": {},
   "outputs": [],
   "source": []
  },
  {
   "cell_type": "code",
   "execution_count": null,
   "metadata": {},
   "outputs": [],
   "source": []
  },
  {
   "cell_type": "code",
   "execution_count": 15,
   "metadata": {},
   "outputs": [],
   "source": [
    "from flask import Flask, jsonify\n",
    "\n",
    "import requests\n",
    "import json"
   ]
  },
  {
   "cell_type": "code",
   "execution_count": 16,
   "metadata": {},
   "outputs": [],
   "source": [
    "from flask_restful import Resource, Api, reqparse"
   ]
  },
  {
   "cell_type": "code",
   "execution_count": null,
   "metadata": {},
   "outputs": [
    {
     "name": "stdout",
     "output_type": "stream",
     "text": [
      " * Serving Flask app \"__main__\" (lazy loading)\n",
      " * Environment: production\n",
      "   WARNING: This is a development server. Do not use it in a production deployment.\n",
      "   Use a production WSGI server instead.\n",
      " * Debug mode: off\n"
     ]
    },
    {
     "name": "stderr",
     "output_type": "stream",
     "text": [
      " * Running on http://127.0.0.1:5000/ (Press CTRL+C to quit)\n"
     ]
    }
   ],
   "source": [
    "from flask import Flask, render_template , send_file, request\n",
    "from PIL import Image\n",
    "import io\n",
    "import os\n",
    "\n",
    "    \n",
    "app = Flask(__name__, static_url_path='/static')\n",
    "api = Api(app)\n",
    "\n",
    "@app.route('/')\n",
    "def index() :\n",
    "    # convert numpy array to PIL Image\n",
    "    img = Image.fromarray(a.astype('uint8'))\n",
    "    \n",
    "    # create file-object in memory\n",
    "    file_object = io.BytesIO()\n",
    "\n",
    "    # write PNG in file-object\n",
    "    img.save(file_object, 'PNG')\n",
    "\n",
    "    # move to beginning of file so `send_file()` it will read from start    \n",
    "    file_object.seek(0)\n",
    "    \n",
    "    return send_file(file_object, mimetype='image/PNG')\n",
    "\n",
    "app.run()"
   ]
  },
  {
   "cell_type": "code",
   "execution_count": null,
   "metadata": {},
   "outputs": [],
   "source": [
    "# app = Flask(__name__)\n",
    "# api = Api(app)\n",
    "\n",
    "# # localhost:8080/dataServer로 요청을 하면\n",
    "# # 아래 함수가 동작을 한다는 의미!\n",
    "# @app.route('/dataServer')\n",
    "# def PythonServerResponse():\n",
    "#     print(\"It's operate\")\n",
    "#     summary = {\n",
    "#         'result': history.history\n",
    "#     }\n",
    "    \n",
    "#     return summary\n",
    "# app.run()"
   ]
  },
  {
   "cell_type": "code",
   "execution_count": null,
   "metadata": {},
   "outputs": [],
   "source": []
  },
  {
   "cell_type": "code",
   "execution_count": null,
   "metadata": {},
   "outputs": [],
   "source": []
  }
 ],
 "metadata": {
  "kernelspec": {
   "display_name": "Python 3",
   "language": "python",
   "name": "python3"
  },
  "language_info": {
   "codemirror_mode": {
    "name": "ipython",
    "version": 3
   },
   "file_extension": ".py",
   "mimetype": "text/x-python",
   "name": "python",
   "nbconvert_exporter": "python",
   "pygments_lexer": "ipython3",
   "version": "3.7.6"
  }
 },
 "nbformat": 4,
 "nbformat_minor": 4
}
