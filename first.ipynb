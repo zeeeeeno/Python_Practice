{
 "cells": [
  {
   "cell_type": "code",
   "execution_count": 1,
   "metadata": {},
   "outputs": [
    {
     "name": "stdout",
     "output_type": "stream",
     "text": [
      "Hello Python Programming ~~!!~!\n"
     ]
    }
   ],
   "source": [
    "print(\"Hello Python Programming ~~!!~!\")"
   ]
  },
  {
   "cell_type": "code",
   "execution_count": 2,
   "metadata": {},
   "outputs": [
    {
     "name": "stdout",
     "output_type": "stream",
     "text": [
      "1\n",
      "10\n"
     ]
    }
   ],
   "source": [
    "num = 1\n",
    "Num = 10\n",
    "print(num)\n",
    "print(Num)"
   ]
  },
  {
   "cell_type": "code",
   "execution_count": 4,
   "metadata": {},
   "outputs": [
    {
     "name": "stdout",
     "output_type": "stream",
     "text": [
      "(3-4j)\n",
      "<class 'complex'>\n",
      "-4.0\n",
      "3.0\n",
      "(3+4j)\n"
     ]
    }
   ],
   "source": [
    "# 전류 기호가 i, V = iR\n",
    "# 과학자들이 해깔리니까 j로 지정함\n",
    "z = 3 - 4j\n",
    "\n",
    "print(z)\n",
    "print(type(z))\n",
    "# imaginary: 허수\n",
    "print(z.imag)\n",
    "# real: 실수\n",
    "print(z.real)\n",
    "print(z.conjugate())"
   ]
  },
  {
   "cell_type": "code",
   "execution_count": 5,
   "metadata": {},
   "outputs": [
    {
     "name": "stdout",
     "output_type": "stream",
     "text": [
      "27\n"
     ]
    }
   ],
   "source": [
    "# 자바에서는 Math.pow(x, 3) =>> x^3\n",
    "res = 3 ** 3\n",
    "print(res)"
   ]
  },
  {
   "cell_type": "code",
   "execution_count": 6,
   "metadata": {},
   "outputs": [
    {
     "name": "stdout",
     "output_type": "stream",
     "text": [
      "2\n",
      "333\n",
      "2.3333333333333335\n"
     ]
    }
   ],
   "source": [
    "# 파이썬의 데이터 타입 자동 맞춤으로 인해\n",
    "# 나눗셈의 몫만 필요한 경우 //를 사용한다.\n",
    "num1 = 7 // 3\n",
    "num2 = 3333 // 10\n",
    "num3 = 7 / 3\n",
    "\n",
    "print(num1)\n",
    "print(num2)\n",
    "print(num3)"
   ]
  },
  {
   "cell_type": "code",
   "execution_count": 7,
   "metadata": {},
   "outputs": [
    {
     "name": "stdout",
     "output_type": "stream",
     "text": [
      "string type\n",
      "string type too\n",
      "<class 'str'>\n",
      "<class 'str'>\n"
     ]
    }
   ],
   "source": [
    "str1 = \"string type\"\n",
    "str2 = \"string type too\"\n",
    "\n",
    "print(str1)\n",
    "print(str2)\n",
    "\n",
    "print(type(str1))\n",
    "print(type(str2))"
   ]
  },
  {
   "cell_type": "code",
   "execution_count": 8,
   "metadata": {},
   "outputs": [
    {
     "name": "stdout",
     "output_type": "stream",
     "text": [
      "\n",
      "    오늘도 간다 ~\n",
      "        내일도 간다 ~\n",
      "            모레도 간다 ~\n",
      "\n"
     ]
    }
   ],
   "source": [
    "fixStr = \"\"\"\n",
    "    오늘도 간다 ~\n",
    "        내일도 간다 ~\n",
    "            모레도 간다 ~\n",
    "\"\"\"\n",
    "\n",
    "print(fixStr)"
   ]
  },
  {
   "cell_type": "code",
   "execution_count": 9,
   "metadata": {},
   "outputs": [
    {
     "name": "stdout",
     "output_type": "stream",
     "text": [
      "\tTab\n",
      "\n",
      "NextLine\n",
      "Won = \\\n",
      "홑 따옴표 = '\n",
      "홑 따옴표 = \"\n"
     ]
    }
   ],
   "source": [
    "print(\"\\tTab\")\n",
    "print(\"\\nNextLine\")\n",
    "print(\"Won = \" + \"\\\\\")\n",
    "print(\"홑 따옴표 = \" + \"\\'\")\n",
    "print(\"홑 따옴표 = \" + \"\\\"\")"
   ]
  },
  {
   "cell_type": "code",
   "execution_count": null,
   "metadata": {},
   "outputs": [],
   "source": []
  }
 ],
 "metadata": {
  "kernelspec": {
   "display_name": "Python 3",
   "language": "python",
   "name": "python3"
  },
  "language_info": {
   "codemirror_mode": {
    "name": "ipython",
    "version": 3
   },
   "file_extension": ".py",
   "mimetype": "text/x-python",
   "name": "python",
   "nbconvert_exporter": "python",
   "pygments_lexer": "ipython3",
   "version": "3.7.6"
  }
 },
 "nbformat": 4,
 "nbformat_minor": 4
}
