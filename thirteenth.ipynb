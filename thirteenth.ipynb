{
 "cells": [
  {
   "cell_type": "code",
   "execution_count": 1,
   "metadata": {},
   "outputs": [],
   "source": [
    "from keras.models import Sequential\n",
    "from keras.layers import Dense, Activation"
   ]
  },
  {
   "cell_type": "code",
   "execution_count": 2,
   "metadata": {},
   "outputs": [],
   "source": [
    "import numpy as np"
   ]
  },
  {
   "cell_type": "code",
   "execution_count": 3,
   "metadata": {},
   "outputs": [],
   "source": [
    "from keras.callbacks import EarlyStopping"
   ]
  },
  {
   "cell_type": "code",
   "execution_count": 4,
   "metadata": {},
   "outputs": [],
   "source": [
    "from sklearn.datasets import make_classification\n",
    "from sklearn.model_selection import train_test_split"
   ]
  },
  {
   "cell_type": "code",
   "execution_count": 5,
   "metadata": {},
   "outputs": [],
   "source": [
    "X, y = make_classification(\n",
    "    n_samples = 500, n_features = 16, n_classes = 2\n",
    ")\n",
    "\n",
    "X_train, X_test, y_train, y_test = train_test_split(\n",
    "    X, y, test_size = 0.3, random_state = 0\n",
    ")"
   ]
  },
  {
   "cell_type": "code",
   "execution_count": 6,
   "metadata": {},
   "outputs": [
    {
     "name": "stdout",
     "output_type": "stream",
     "text": [
      "5/5 [==============================] - 0s 682us/step - loss: 0.0497\n",
      "Test Loss = 0.04967108368873596\n"
     ]
    }
   ],
   "source": [
    "model = Sequential()\n",
    "\n",
    "# 뉴럴넷을 구성\n",
    "model.add(Dense(16, activation = 'relu', input_dim = 16))\n",
    "model.add(Dense(8, activation = 'relu'))\n",
    "model.add(Dense(4, activation = 'tanh'))\n",
    "model.add(Dense(1, activation = 'sigmoid'))\n",
    "\n",
    "model.compile(\n",
    "    optimizer = 'sgd',\n",
    "    loss = 'binary_crossentropy'\n",
    ")\n",
    "\n",
    "# EarlyStopping을 사용한다면\n",
    "# Fit을 하기 이전에 어디서 중단할지를 정해줘야 한다.\n",
    "es_callback = EarlyStopping(\n",
    "    # val_loss: 테스트 로스를 감독함\n",
    "    monitor = 'val_loss',\n",
    "    # mode = 'min'은 최소값을 감지함\n",
    "    mode = 'min'\n",
    ")\n",
    "# 콜백이란 ? 이벤트\n",
    "# 몰컴 성공을 위해 필요한 것\n",
    "# 1. 부모님이 주무시고 계셔야한다.\n",
    "# 2. 큰 소리가 나면 안됨\n",
    "# 3. 부모님이 방문을 열고 나오실때\n",
    "#    모니터 끄고 자는척 시전\n",
    "\n",
    "trainRes = model.fit(\n",
    "    X_train, y_train, \n",
    "    validation_data = (X_test, y_test),\n",
    "    epochs = 400,\n",
    "    batch_size = 5,\n",
    "    # 조건이 만족되면 콜백에 의해 fit이 중단되도록 구성한 부분\n",
    "    callbacks = [es_callback],\n",
    "    verbose = 0\n",
    ")\n",
    "\n",
    "print(\"Test Loss =\", model.evaluate(X_test, y_test))"
   ]
  },
  {
   "cell_type": "code",
   "execution_count": 7,
   "metadata": {},
   "outputs": [
    {
     "name": "stdout",
     "output_type": "stream",
     "text": [
      "[0.7491724491119385, 0.6363287568092346, 0.5672861933708191, 0.5112518072128296, 0.45446789264678955, 0.39794817566871643, 0.3443094491958618, 0.294653058052063, 0.2522808909416199, 0.2175857573747635, 0.1911570131778717, 0.16962182521820068, 0.15259386599063873, 0.13869966566562653, 0.12614712119102478, 0.11573145538568497, 0.10685525089502335, 0.09991113096475601, 0.09407787770032883, 0.08923783153295517, 0.08486470580101013, 0.08091796189546585, 0.07801303267478943, 0.07531926780939102, 0.07279402017593384, 0.07031074166297913, 0.06819650530815125, 0.06605282425880432, 0.06387568265199661, 0.061779506504535675, 0.059472497552633286, 0.057558152824640274, 0.055651795119047165, 0.05404894798994064, 0.05255334451794624, 0.05139675736427307, 0.050324440002441406, 0.0493898019194603, 0.0484783872961998, 0.047708909958601, 0.04698771983385086, 0.04640955105423927, 0.04577189311385155, 0.045253898948431015, 0.04470103234052658, 0.044297993183135986, 0.043825309723615646, 0.043437082320451736]\n"
     ]
    }
   ],
   "source": [
    "print(trainRes.history['loss'])"
   ]
  },
  {
   "cell_type": "code",
   "execution_count": 8,
   "metadata": {},
   "outputs": [
    {
     "name": "stdout",
     "output_type": "stream",
     "text": [
      "[0.6549611687660217, 0.5676549077033997, 0.5090434551239014, 0.4524439573287964, 0.40027132630348206, 0.3526037931442261, 0.3098006248474121, 0.2698221206665039, 0.23352381587028503, 0.20324479043483734, 0.1777944415807724, 0.15682171285152435, 0.14244942367076874, 0.13056977093219757, 0.12053651362657547, 0.11147774755954742, 0.10218149423599243, 0.09467244148254395, 0.08846462517976761, 0.08407197147607803, 0.08073105663061142, 0.07802991569042206, 0.07378153502941132, 0.07142069190740585, 0.06990481913089752, 0.06936317682266235, 0.06756375730037689, 0.06557444483041763, 0.0646996721625328, 0.06394560635089874, 0.06298863887786865, 0.06281710416078568, 0.062076352536678314, 0.06075840815901756, 0.059906527400016785, 0.05808816850185394, 0.05717610567808151, 0.05600365996360779, 0.0551801361143589, 0.05408681184053421, 0.05328547954559326, 0.053047485649585724, 0.052553027868270874, 0.051857732236385345, 0.05091056972742081, 0.05064880847930908, 0.04957728832960129, 0.04967107996344566]\n"
     ]
    }
   ],
   "source": [
    "print(trainRes.history['val_loss'])"
   ]
  },
  {
   "cell_type": "code",
   "execution_count": 9,
   "metadata": {},
   "outputs": [],
   "source": [
    "import json\n"
   ]
  },
  {
   "cell_type": "code",
   "execution_count": 10,
   "metadata": {},
   "outputs": [
    {
     "data": {
      "text/plain": [
       "'{\"loss\": [0.7491724491119385, 0.6363287568092346, 0.5672861933708191, 0.5112518072128296, 0.45446789264678955, 0.39794817566871643, 0.3443094491958618, 0.294653058052063, 0.2522808909416199, 0.2175857573747635, 0.1911570131778717, 0.16962182521820068, 0.15259386599063873, 0.13869966566562653, 0.12614712119102478, 0.11573145538568497, 0.10685525089502335, 0.09991113096475601, 0.09407787770032883, 0.08923783153295517, 0.08486470580101013, 0.08091796189546585, 0.07801303267478943, 0.07531926780939102, 0.07279402017593384, 0.07031074166297913, 0.06819650530815125, 0.06605282425880432, 0.06387568265199661, 0.061779506504535675, 0.059472497552633286, 0.057558152824640274, 0.055651795119047165, 0.05404894798994064, 0.05255334451794624, 0.05139675736427307, 0.050324440002441406, 0.0493898019194603, 0.0484783872961998, 0.047708909958601, 0.04698771983385086, 0.04640955105423927, 0.04577189311385155, 0.045253898948431015, 0.04470103234052658, 0.044297993183135986, 0.043825309723615646, 0.043437082320451736], \"val_loss\": [0.6549611687660217, 0.5676549077033997, 0.5090434551239014, 0.4524439573287964, 0.40027132630348206, 0.3526037931442261, 0.3098006248474121, 0.2698221206665039, 0.23352381587028503, 0.20324479043483734, 0.1777944415807724, 0.15682171285152435, 0.14244942367076874, 0.13056977093219757, 0.12053651362657547, 0.11147774755954742, 0.10218149423599243, 0.09467244148254395, 0.08846462517976761, 0.08407197147607803, 0.08073105663061142, 0.07802991569042206, 0.07378153502941132, 0.07142069190740585, 0.06990481913089752, 0.06936317682266235, 0.06756375730037689, 0.06557444483041763, 0.0646996721625328, 0.06394560635089874, 0.06298863887786865, 0.06281710416078568, 0.062076352536678314, 0.06075840815901756, 0.059906527400016785, 0.05808816850185394, 0.05717610567808151, 0.05600365996360779, 0.0551801361143589, 0.05408681184053421, 0.05328547954559326, 0.053047485649585724, 0.052553027868270874, 0.051857732236385345, 0.05091056972742081, 0.05064880847930908, 0.04957728832960129, 0.04967107996344566]}'"
      ]
     },
     "execution_count": 10,
     "metadata": {},
     "output_type": "execute_result"
    }
   ],
   "source": [
    "pyRes = dict(trainRes.history)\n",
    "json.dumps(pyRes)"
   ]
  },
  {
   "cell_type": "code",
   "execution_count": 11,
   "metadata": {},
   "outputs": [],
   "source": [
    "import requests\n",
    "\n",
    "from flask import Flask, jsonify\n",
    "# pip install flask_restful\n",
    "from flask_restful import Resource, Api, reqparse"
   ]
  },
  {
   "cell_type": "code",
   "execution_count": null,
   "metadata": {},
   "outputs": [
    {
     "name": "stdout",
     "output_type": "stream",
     "text": [
      " * Serving Flask app \"__main__\" (lazy loading)\n",
      " * Environment: production\n",
      "   WARNING: This is a development server. Do not use it in a production deployment.\n",
      "   Use a production WSGI server instead.\n",
      " * Debug mode: off\n"
     ]
    },
    {
     "name": "stderr",
     "output_type": "stream",
     "text": [
      " * Running on http://127.0.0.1:5000/ (Press CTRL+C to quit)\n",
      "127.0.0.1 - - [14/Jul/2020 12:19:50] \"\u001b[37mGET /dataServer HTTP/1.1\u001b[0m\" 200 -\n"
     ]
    },
    {
     "name": "stdout",
     "output_type": "stream",
     "text": [
      "It's operate\n"
     ]
    },
    {
     "name": "stderr",
     "output_type": "stream",
     "text": [
      "127.0.0.1 - - [14/Jul/2020 12:28:48] \"\u001b[37mGET /dataServer HTTP/1.1\u001b[0m\" 200 -\n"
     ]
    },
    {
     "name": "stdout",
     "output_type": "stream",
     "text": [
      "It's operate\n"
     ]
    },
    {
     "name": "stderr",
     "output_type": "stream",
     "text": [
      "127.0.0.1 - - [14/Jul/2020 12:28:55] \"\u001b[37mGET /dataServer HTTP/1.1\u001b[0m\" 200 -\n"
     ]
    },
    {
     "name": "stdout",
     "output_type": "stream",
     "text": [
      "It's operate\n"
     ]
    },
    {
     "name": "stderr",
     "output_type": "stream",
     "text": [
      "127.0.0.1 - - [14/Jul/2020 12:31:46] \"\u001b[33mGET / HTTP/1.1\u001b[0m\" 404 -\n",
      "127.0.0.1 - - [14/Jul/2020 12:31:46] \"\u001b[33mGET /favicon.ico HTTP/1.1\u001b[0m\" 404 -\n",
      "127.0.0.1 - - [14/Jul/2020 12:32:08] \"\u001b[37mGET /dataServer HTTP/1.1\u001b[0m\" 200 -\n"
     ]
    },
    {
     "name": "stdout",
     "output_type": "stream",
     "text": [
      "It's operate\n"
     ]
    },
    {
     "name": "stderr",
     "output_type": "stream",
     "text": [
      "127.0.0.1 - - [14/Jul/2020 12:34:08] \"\u001b[37mGET /dataServer HTTP/1.1\u001b[0m\" 200 -\n"
     ]
    },
    {
     "name": "stdout",
     "output_type": "stream",
     "text": [
      "It's operate\n"
     ]
    },
    {
     "name": "stderr",
     "output_type": "stream",
     "text": [
      "127.0.0.1 - - [14/Jul/2020 12:36:10] \"\u001b[37mGET /dataServer HTTP/1.1\u001b[0m\" 200 -\n"
     ]
    },
    {
     "name": "stdout",
     "output_type": "stream",
     "text": [
      "It's operate\n"
     ]
    },
    {
     "name": "stderr",
     "output_type": "stream",
     "text": [
      "127.0.0.1 - - [14/Jul/2020 12:36:28] \"\u001b[37mGET /dataServer HTTP/1.1\u001b[0m\" 200 -\n"
     ]
    },
    {
     "name": "stdout",
     "output_type": "stream",
     "text": [
      "It's operate\n"
     ]
    },
    {
     "name": "stderr",
     "output_type": "stream",
     "text": [
      "127.0.0.1 - - [14/Jul/2020 12:36:45] \"\u001b[37mGET /dataServer HTTP/1.1\u001b[0m\" 200 -\n"
     ]
    },
    {
     "name": "stdout",
     "output_type": "stream",
     "text": [
      "It's operate\n"
     ]
    },
    {
     "name": "stderr",
     "output_type": "stream",
     "text": [
      "127.0.0.1 - - [14/Jul/2020 12:37:34] \"\u001b[37mGET /dataServer HTTP/1.1\u001b[0m\" 200 -\n"
     ]
    },
    {
     "name": "stdout",
     "output_type": "stream",
     "text": [
      "It's operate\n"
     ]
    },
    {
     "name": "stderr",
     "output_type": "stream",
     "text": [
      "127.0.0.1 - - [14/Jul/2020 14:50:06] \"\u001b[37mGET /dataServer HTTP/1.1\u001b[0m\" 200 -\n"
     ]
    },
    {
     "name": "stdout",
     "output_type": "stream",
     "text": [
      "It's operate\n"
     ]
    },
    {
     "name": "stderr",
     "output_type": "stream",
     "text": [
      "127.0.0.1 - - [14/Jul/2020 17:34:09] \"\u001b[37mGET /dataServer HTTP/1.1\u001b[0m\" 200 -\n"
     ]
    },
    {
     "name": "stdout",
     "output_type": "stream",
     "text": [
      "It's operate\n"
     ]
    }
   ],
   "source": [
    "app = Flask(__name__)\n",
    "api = Api(app)\n",
    "\n",
    "# localhost:8080/dataServer로 요청을 하면\n",
    "# 아래 함수가 동작을 한다는 의미!\n",
    "@app.route('/dataServer')\n",
    "def PythonServerResponse():\n",
    "    print(\"It's operate\")\n",
    "    summary = {'name': 'Hello', 'major': 'C++'}\n",
    "    pyRes = dict(trainRes.history)\n",
    "    return jsonify(pyRes)\n",
    "\n",
    "app.run()"
   ]
  },
  {
   "cell_type": "code",
   "execution_count": null,
   "metadata": {},
   "outputs": [],
   "source": []
  }
 ],
 "metadata": {
  "kernelspec": {
   "display_name": "Python 3",
   "language": "python",
   "name": "python3"
  },
  "language_info": {
   "codemirror_mode": {
    "name": "ipython",
    "version": 3
   },
   "file_extension": ".py",
   "mimetype": "text/x-python",
   "name": "python",
   "nbconvert_exporter": "python",
   "pygments_lexer": "ipython3",
   "version": "3.7.6"
  }
 },
 "nbformat": 4,
 "nbformat_minor": 4
}
