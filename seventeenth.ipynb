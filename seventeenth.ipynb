{
 "cells": [
  {
   "cell_type": "code",
   "execution_count": 1,
   "metadata": {},
   "outputs": [
    {
     "name": "stdout",
     "output_type": "stream",
     "text": [
      "Seventeenth\n"
     ]
    }
   ],
   "source": [
    "print('Seventeenth')"
   ]
  },
  {
   "cell_type": "code",
   "execution_count": 2,
   "metadata": {},
   "outputs": [],
   "source": [
    "# 베이스 - 디지털 신호 처리\n",
    "# CNN - FIR 필터(음성분석)\n",
    "# RNNN, LTSM = IIR 필터(음성분석)\n",
    "# 피드백(IIR)을 준다는 개념은 특정값을 찾아 수렴시키는 것이라고 보면 된다.\n",
    "# 마이크로 펀딩 => FPGA"
   ]
  },
  {
   "cell_type": "code",
   "execution_count": 3,
   "metadata": {},
   "outputs": [],
   "source": [
    "# y(u, x) => "
   ]
  },
  {
   "cell_type": "code",
   "execution_count": null,
   "metadata": {},
   "outputs": [],
   "source": []
  },
  {
   "cell_type": "code",
   "execution_count": null,
   "metadata": {},
   "outputs": [],
   "source": []
  },
  {
   "cell_type": "code",
   "execution_count": 4,
   "metadata": {},
   "outputs": [
    {
     "name": "stdout",
     "output_type": "stream",
     "text": [
      "./Applied-Deep-Learning-with-Keras/Lesson09/AAPL_train.csv\r\n"
     ]
    }
   ],
   "source": [
    "!ls ./Applied-Deep-Learning-with-Keras/Lesson09/AAPL_train.csv"
   ]
  },
  {
   "cell_type": "code",
   "execution_count": 5,
   "metadata": {},
   "outputs": [],
   "source": [
    "import numpy as np\n",
    "import matplotlib.pyplot as plt\n",
    "import pandas as pd"
   ]
  },
  {
   "cell_type": "code",
   "execution_count": 6,
   "metadata": {},
   "outputs": [
    {
     "data": {
      "text/html": [
       "<div>\n",
       "<style scoped>\n",
       "    .dataframe tbody tr th:only-of-type {\n",
       "        vertical-align: middle;\n",
       "    }\n",
       "\n",
       "    .dataframe tbody tr th {\n",
       "        vertical-align: top;\n",
       "    }\n",
       "\n",
       "    .dataframe thead th {\n",
       "        text-align: right;\n",
       "    }\n",
       "</style>\n",
       "<table border=\"1\" class=\"dataframe\">\n",
       "  <thead>\n",
       "    <tr style=\"text-align: right;\">\n",
       "      <th></th>\n",
       "      <th>Date</th>\n",
       "      <th>Open</th>\n",
       "      <th>High</th>\n",
       "      <th>Low</th>\n",
       "      <th>Close</th>\n",
       "      <th>Adj Close</th>\n",
       "      <th>Volume</th>\n",
       "    </tr>\n",
       "  </thead>\n",
       "  <tbody>\n",
       "    <tr>\n",
       "      <th>0</th>\n",
       "      <td>02-01-2014</td>\n",
       "      <td>79.382858</td>\n",
       "      <td>79.575714</td>\n",
       "      <td>78.860001</td>\n",
       "      <td>79.018570</td>\n",
       "      <td>66.964325</td>\n",
       "      <td>58671200</td>\n",
       "    </tr>\n",
       "    <tr>\n",
       "      <th>1</th>\n",
       "      <td>03-01-2014</td>\n",
       "      <td>78.980003</td>\n",
       "      <td>79.099998</td>\n",
       "      <td>77.204285</td>\n",
       "      <td>77.282860</td>\n",
       "      <td>65.493416</td>\n",
       "      <td>98116900</td>\n",
       "    </tr>\n",
       "    <tr>\n",
       "      <th>2</th>\n",
       "      <td>06-01-2014</td>\n",
       "      <td>76.778572</td>\n",
       "      <td>78.114288</td>\n",
       "      <td>76.228569</td>\n",
       "      <td>77.704285</td>\n",
       "      <td>65.850533</td>\n",
       "      <td>103152700</td>\n",
       "    </tr>\n",
       "    <tr>\n",
       "      <th>3</th>\n",
       "      <td>07-01-2014</td>\n",
       "      <td>77.760002</td>\n",
       "      <td>77.994286</td>\n",
       "      <td>76.845711</td>\n",
       "      <td>77.148575</td>\n",
       "      <td>65.379593</td>\n",
       "      <td>79302300</td>\n",
       "    </tr>\n",
       "    <tr>\n",
       "      <th>4</th>\n",
       "      <td>08-01-2014</td>\n",
       "      <td>76.972855</td>\n",
       "      <td>77.937141</td>\n",
       "      <td>76.955711</td>\n",
       "      <td>77.637146</td>\n",
       "      <td>65.793633</td>\n",
       "      <td>64632400</td>\n",
       "    </tr>\n",
       "  </tbody>\n",
       "</table>\n",
       "</div>"
      ],
      "text/plain": [
       "         Date       Open       High        Low      Close  Adj Close  \\\n",
       "0  02-01-2014  79.382858  79.575714  78.860001  79.018570  66.964325   \n",
       "1  03-01-2014  78.980003  79.099998  77.204285  77.282860  65.493416   \n",
       "2  06-01-2014  76.778572  78.114288  76.228569  77.704285  65.850533   \n",
       "3  07-01-2014  77.760002  77.994286  76.845711  77.148575  65.379593   \n",
       "4  08-01-2014  76.972855  77.937141  76.955711  77.637146  65.793633   \n",
       "\n",
       "      Volume  \n",
       "0   58671200  \n",
       "1   98116900  \n",
       "2  103152700  \n",
       "3   79302300  \n",
       "4   64632400  "
      ]
     },
     "execution_count": 6,
     "metadata": {},
     "output_type": "execute_result"
    }
   ],
   "source": [
    "trainSet = pd.read_csv(\n",
    "    'Applied-Deep-Learning-with-Keras/Lesson09/AAPL_train.csv'\n",
    ")\n",
    "\n",
    "trainSet.head()"
   ]
  },
  {
   "cell_type": "code",
   "execution_count": 7,
   "metadata": {},
   "outputs": [
    {
     "data": {
      "text/plain": [
       "array([[ 79.382858],\n",
       "       [ 78.980003],\n",
       "       [ 76.778572],\n",
       "       ...,\n",
       "       [155.839996],\n",
       "       [157.5     ],\n",
       "       [158.529999]])"
      ]
     },
     "execution_count": 7,
     "metadata": {},
     "output_type": "execute_result"
    }
   ],
   "source": [
    "trainSetOpen = trainSet.iloc[:, 1:2].values\n",
    "trainSetOpen"
   ]
  },
  {
   "cell_type": "code",
   "execution_count": 8,
   "metadata": {},
   "outputs": [],
   "source": [
    "from sklearn.preprocessing import MinMaxScaler"
   ]
  },
  {
   "cell_type": "code",
   "execution_count": 9,
   "metadata": {},
   "outputs": [
    {
     "data": {
      "text/plain": [
       "array([[0.05400437],\n",
       "       [0.05148716],\n",
       "       [0.03773165],\n",
       "       ...,\n",
       "       [0.53174205],\n",
       "       [0.54211448],\n",
       "       [0.54855037]])"
      ]
     },
     "execution_count": 9,
     "metadata": {},
     "output_type": "execute_result"
    }
   ],
   "source": [
    "sc = MinMaxScaler(feature_range=(0,1))\n",
    "trainSetScaled = sc.fit_transform(trainSetOpen)\n",
    "trainSetScaled"
   ]
  },
  {
   "cell_type": "code",
   "execution_count": 10,
   "metadata": {},
   "outputs": [],
   "source": [
    "X_train = []\n",
    "y_train = []\n",
    "\n",
    "for i in range(60, 1258):\n",
    "    X_train.append(trainSetScaled[i - 60: i, 0])\n",
    "    y_train.append(trainSetScaled[i, 0])\n",
    "    \n",
    "X_train = np.array(X_train)\n",
    "y_train = np.array(y_train)"
   ]
  },
  {
   "cell_type": "code",
   "execution_count": 11,
   "metadata": {},
   "outputs": [],
   "source": [
    "X_train = np.reshape(\n",
    "    X_train, (X_train.shape[0], X_train.shape[1],1)\n",
    ")"
   ]
  },
  {
   "cell_type": "code",
   "execution_count": 12,
   "metadata": {},
   "outputs": [
    {
     "name": "stderr",
     "output_type": "stream",
     "text": [
      "Using TensorFlow backend.\n",
      "/home/bitai/anaconda3/lib/python3.7/site-packages/tensorflow/python/framework/dtypes.py:516: FutureWarning: Passing (type, 1) or '1type' as a synonym of type is deprecated; in a future version of numpy, it will be understood as (type, (1,)) / '(1,)type'.\n",
      "  _np_qint8 = np.dtype([(\"qint8\", np.int8, 1)])\n",
      "/home/bitai/anaconda3/lib/python3.7/site-packages/tensorflow/python/framework/dtypes.py:517: FutureWarning: Passing (type, 1) or '1type' as a synonym of type is deprecated; in a future version of numpy, it will be understood as (type, (1,)) / '(1,)type'.\n",
      "  _np_quint8 = np.dtype([(\"quint8\", np.uint8, 1)])\n",
      "/home/bitai/anaconda3/lib/python3.7/site-packages/tensorflow/python/framework/dtypes.py:518: FutureWarning: Passing (type, 1) or '1type' as a synonym of type is deprecated; in a future version of numpy, it will be understood as (type, (1,)) / '(1,)type'.\n",
      "  _np_qint16 = np.dtype([(\"qint16\", np.int16, 1)])\n",
      "/home/bitai/anaconda3/lib/python3.7/site-packages/tensorflow/python/framework/dtypes.py:519: FutureWarning: Passing (type, 1) or '1type' as a synonym of type is deprecated; in a future version of numpy, it will be understood as (type, (1,)) / '(1,)type'.\n",
      "  _np_quint16 = np.dtype([(\"quint16\", np.uint16, 1)])\n",
      "/home/bitai/anaconda3/lib/python3.7/site-packages/tensorflow/python/framework/dtypes.py:520: FutureWarning: Passing (type, 1) or '1type' as a synonym of type is deprecated; in a future version of numpy, it will be understood as (type, (1,)) / '(1,)type'.\n",
      "  _np_qint32 = np.dtype([(\"qint32\", np.int32, 1)])\n",
      "/home/bitai/anaconda3/lib/python3.7/site-packages/tensorflow/python/framework/dtypes.py:525: FutureWarning: Passing (type, 1) or '1type' as a synonym of type is deprecated; in a future version of numpy, it will be understood as (type, (1,)) / '(1,)type'.\n",
      "  np_resource = np.dtype([(\"resource\", np.ubyte, 1)])\n",
      "/home/bitai/anaconda3/lib/python3.7/site-packages/tensorboard/compat/tensorflow_stub/dtypes.py:541: FutureWarning: Passing (type, 1) or '1type' as a synonym of type is deprecated; in a future version of numpy, it will be understood as (type, (1,)) / '(1,)type'.\n",
      "  _np_qint8 = np.dtype([(\"qint8\", np.int8, 1)])\n",
      "/home/bitai/anaconda3/lib/python3.7/site-packages/tensorboard/compat/tensorflow_stub/dtypes.py:542: FutureWarning: Passing (type, 1) or '1type' as a synonym of type is deprecated; in a future version of numpy, it will be understood as (type, (1,)) / '(1,)type'.\n",
      "  _np_quint8 = np.dtype([(\"quint8\", np.uint8, 1)])\n",
      "/home/bitai/anaconda3/lib/python3.7/site-packages/tensorboard/compat/tensorflow_stub/dtypes.py:543: FutureWarning: Passing (type, 1) or '1type' as a synonym of type is deprecated; in a future version of numpy, it will be understood as (type, (1,)) / '(1,)type'.\n",
      "  _np_qint16 = np.dtype([(\"qint16\", np.int16, 1)])\n",
      "/home/bitai/anaconda3/lib/python3.7/site-packages/tensorboard/compat/tensorflow_stub/dtypes.py:544: FutureWarning: Passing (type, 1) or '1type' as a synonym of type is deprecated; in a future version of numpy, it will be understood as (type, (1,)) / '(1,)type'.\n",
      "  _np_quint16 = np.dtype([(\"quint16\", np.uint16, 1)])\n",
      "/home/bitai/anaconda3/lib/python3.7/site-packages/tensorboard/compat/tensorflow_stub/dtypes.py:545: FutureWarning: Passing (type, 1) or '1type' as a synonym of type is deprecated; in a future version of numpy, it will be understood as (type, (1,)) / '(1,)type'.\n",
      "  _np_qint32 = np.dtype([(\"qint32\", np.int32, 1)])\n",
      "/home/bitai/anaconda3/lib/python3.7/site-packages/tensorboard/compat/tensorflow_stub/dtypes.py:550: FutureWarning: Passing (type, 1) or '1type' as a synonym of type is deprecated; in a future version of numpy, it will be understood as (type, (1,)) / '(1,)type'.\n",
      "  np_resource = np.dtype([(\"resource\", np.ubyte, 1)])\n"
     ]
    }
   ],
   "source": [
    "from keras.models import Sequential\n",
    "from keras.layers import Dense, LSTM, Dropout"
   ]
  },
  {
   "cell_type": "code",
   "execution_count": 13,
   "metadata": {},
   "outputs": [
    {
     "name": "stdout",
     "output_type": "stream",
     "text": [
      "WARNING:tensorflow:From /home/bitai/anaconda3/lib/python3.7/site-packages/keras/backend/tensorflow_backend.py:66: The name tf.get_default_graph is deprecated. Please use tf.compat.v1.get_default_graph instead.\n",
      "\n",
      "WARNING:tensorflow:From /home/bitai/anaconda3/lib/python3.7/site-packages/keras/backend/tensorflow_backend.py:541: The name tf.placeholder is deprecated. Please use tf.compat.v1.placeholder instead.\n",
      "\n",
      "WARNING:tensorflow:From /home/bitai/anaconda3/lib/python3.7/site-packages/keras/backend/tensorflow_backend.py:4432: The name tf.random_uniform is deprecated. Please use tf.random.uniform instead.\n",
      "\n"
     ]
    }
   ],
   "source": [
    "model = Sequential()\n",
    "\n",
    "model.add(\n",
    "    LSTM(50, return_sequences = True,\n",
    "              input_shape = (X_train.shape[1], 1)\n",
    "        )\n",
    ")\n",
    "model.add(\n",
    "    LSTM(50, return_sequences = True)\n",
    ")\n",
    "model.add(\n",
    "    LSTM(50, return_sequences = True\n",
    "        )\n",
    ")\n",
    "model.add(LSTM(50))\n",
    "model.add(Dense(1))"
   ]
  },
  {
   "cell_type": "code",
   "execution_count": 23,
   "metadata": {},
   "outputs": [
    {
     "name": "stdout",
     "output_type": "stream",
     "text": [
      "Epoch 1/100\n",
      "1198/1198 [==============================] - 4s 3ms/step - loss: 0.0025\n",
      "Epoch 2/100\n",
      "1198/1198 [==============================] - 3s 2ms/step - loss: 8.6945e-04\n",
      "Epoch 3/100\n",
      "1198/1198 [==============================] - 3s 2ms/step - loss: 8.8951e-04\n",
      "Epoch 4/100\n",
      "1198/1198 [==============================] - 3s 2ms/step - loss: 9.6044e-04\n",
      "Epoch 5/100\n",
      "1198/1198 [==============================] - 3s 2ms/step - loss: 8.4039e-04\n",
      "Epoch 6/100\n",
      "1198/1198 [==============================] - 3s 2ms/step - loss: 7.8073e-04\n",
      "Epoch 7/100\n",
      "1198/1198 [==============================] - 3s 2ms/step - loss: 7.9554e-04\n",
      "Epoch 8/100\n",
      "1198/1198 [==============================] - 3s 2ms/step - loss: 9.0046e-04\n",
      "Epoch 9/100\n",
      "1198/1198 [==============================] - 3s 2ms/step - loss: 6.9190e-04\n",
      "Epoch 10/100\n",
      "1198/1198 [==============================] - 3s 2ms/step - loss: 6.2401e-04\n",
      "Epoch 11/100\n",
      "1198/1198 [==============================] - 3s 2ms/step - loss: 6.9792e-04\n",
      "Epoch 12/100\n",
      "1198/1198 [==============================] - 3s 2ms/step - loss: 7.0699e-04\n",
      "Epoch 13/100\n",
      "1198/1198 [==============================] - 3s 2ms/step - loss: 5.7926e-04\n",
      "Epoch 14/100\n",
      "1198/1198 [==============================] - 3s 2ms/step - loss: 5.7504e-04\n",
      "Epoch 15/100\n",
      "1198/1198 [==============================] - 3s 2ms/step - loss: 4.6424e-04\n",
      "Epoch 16/100\n",
      "1198/1198 [==============================] - 3s 2ms/step - loss: 4.7323e-04\n",
      "Epoch 17/100\n",
      "1198/1198 [==============================] - 3s 2ms/step - loss: 4.8967e-04\n",
      "Epoch 18/100\n",
      "1198/1198 [==============================] - 3s 2ms/step - loss: 4.4898e-04\n",
      "Epoch 19/100\n",
      "1198/1198 [==============================] - 3s 2ms/step - loss: 5.2821e-04\n",
      "Epoch 20/100\n",
      "1198/1198 [==============================] - 3s 2ms/step - loss: 4.1655e-04\n",
      "Epoch 21/100\n",
      "1198/1198 [==============================] - 3s 2ms/step - loss: 3.7387e-04\n",
      "Epoch 22/100\n",
      "1198/1198 [==============================] - 3s 2ms/step - loss: 4.5608e-04\n",
      "Epoch 23/100\n",
      "1198/1198 [==============================] - 3s 2ms/step - loss: 3.6340e-04\n",
      "Epoch 24/100\n",
      "1198/1198 [==============================] - 3s 2ms/step - loss: 4.1488e-04\n",
      "Epoch 25/100\n",
      "1198/1198 [==============================] - 3s 2ms/step - loss: 3.3683e-04\n",
      "Epoch 26/100\n",
      "1198/1198 [==============================] - 3s 2ms/step - loss: 3.4148e-04\n",
      "Epoch 27/100\n",
      "1198/1198 [==============================] - 3s 2ms/step - loss: 3.1179e-04\n",
      "Epoch 28/100\n",
      "1198/1198 [==============================] - 3s 2ms/step - loss: 2.9692e-04\n",
      "Epoch 29/100\n",
      "1198/1198 [==============================] - 3s 2ms/step - loss: 2.7990e-04\n",
      "Epoch 30/100\n",
      "1198/1198 [==============================] - 3s 2ms/step - loss: 3.3584e-04\n",
      "Epoch 31/100\n",
      "1198/1198 [==============================] - 3s 2ms/step - loss: 2.9143e-04\n",
      "Epoch 32/100\n",
      "1198/1198 [==============================] - 3s 2ms/step - loss: 5.4454e-04\n",
      "Epoch 33/100\n",
      "1198/1198 [==============================] - 3s 2ms/step - loss: 3.3810e-04\n",
      "Epoch 34/100\n",
      "1198/1198 [==============================] - 3s 2ms/step - loss: 3.7128e-04\n",
      "Epoch 35/100\n",
      "1198/1198 [==============================] - 3s 2ms/step - loss: 3.2601e-04\n",
      "Epoch 36/100\n",
      "1198/1198 [==============================] - 3s 2ms/step - loss: 3.1694e-04\n",
      "Epoch 37/100\n",
      "1198/1198 [==============================] - 3s 2ms/step - loss: 2.9748e-04\n",
      "Epoch 38/100\n",
      "1198/1198 [==============================] - 3s 2ms/step - loss: 2.5870e-04\n",
      "Epoch 39/100\n",
      "1198/1198 [==============================] - 3s 2ms/step - loss: 3.6582e-04\n",
      "Epoch 40/100\n",
      "1198/1198 [==============================] - 3s 2ms/step - loss: 3.0768e-04\n",
      "Epoch 41/100\n",
      "1198/1198 [==============================] - 3s 2ms/step - loss: 2.6017e-04\n",
      "Epoch 42/100\n",
      "1198/1198 [==============================] - 3s 2ms/step - loss: 2.4695e-04\n",
      "Epoch 43/100\n",
      "1198/1198 [==============================] - 3s 2ms/step - loss: 3.0901e-04\n",
      "Epoch 44/100\n",
      "1198/1198 [==============================] - 3s 2ms/step - loss: 2.3699e-04\n",
      "Epoch 45/100\n",
      "1198/1198 [==============================] - 3s 2ms/step - loss: 2.7295e-04\n",
      "Epoch 46/100\n",
      "1198/1198 [==============================] - 3s 2ms/step - loss: 2.5559e-04\n",
      "Epoch 47/100\n",
      "1198/1198 [==============================] - 3s 2ms/step - loss: 2.5715e-04\n",
      "Epoch 48/100\n",
      "1198/1198 [==============================] - 3s 2ms/step - loss: 2.6445e-04\n",
      "Epoch 49/100\n",
      "1198/1198 [==============================] - 3s 2ms/step - loss: 3.1182e-04\n",
      "Epoch 50/100\n",
      "1198/1198 [==============================] - 3s 2ms/step - loss: 2.6134e-04\n",
      "Epoch 51/100\n",
      "1198/1198 [==============================] - 3s 2ms/step - loss: 2.7439e-04\n",
      "Epoch 52/100\n",
      "1198/1198 [==============================] - 3s 2ms/step - loss: 2.8033e-04\n",
      "Epoch 53/100\n",
      "1198/1198 [==============================] - 3s 2ms/step - loss: 2.6632e-04\n",
      "Epoch 54/100\n",
      "1198/1198 [==============================] - 3s 2ms/step - loss: 2.3442e-04\n",
      "Epoch 55/100\n",
      "1198/1198 [==============================] - 3s 2ms/step - loss: 2.7475e-04\n",
      "Epoch 56/100\n",
      "1198/1198 [==============================] - 3s 2ms/step - loss: 2.6285e-04\n",
      "Epoch 57/100\n",
      "1198/1198 [==============================] - 3s 2ms/step - loss: 2.1586e-04\n",
      "Epoch 58/100\n",
      "1198/1198 [==============================] - 3s 2ms/step - loss: 2.2566e-04\n",
      "Epoch 59/100\n",
      "1198/1198 [==============================] - 3s 2ms/step - loss: 2.4229e-04\n",
      "Epoch 60/100\n",
      "1198/1198 [==============================] - 3s 2ms/step - loss: 2.4145e-04\n",
      "Epoch 61/100\n",
      "1198/1198 [==============================] - 3s 2ms/step - loss: 2.6375e-04\n",
      "Epoch 62/100\n",
      "1198/1198 [==============================] - 3s 2ms/step - loss: 3.9489e-04\n",
      "Epoch 63/100\n",
      "1198/1198 [==============================] - 3s 2ms/step - loss: 3.4708e-04\n",
      "Epoch 64/100\n",
      "1198/1198 [==============================] - 3s 2ms/step - loss: 2.2297e-04\n",
      "Epoch 65/100\n",
      "1198/1198 [==============================] - 3s 2ms/step - loss: 2.5018e-04\n",
      "Epoch 66/100\n",
      "1198/1198 [==============================] - 3s 2ms/step - loss: 2.3050e-04\n",
      "Epoch 67/100\n",
      "1198/1198 [==============================] - 3s 2ms/step - loss: 2.2001e-04\n",
      "Epoch 68/100\n",
      "1198/1198 [==============================] - 3s 2ms/step - loss: 2.4833e-04\n",
      "Epoch 69/100\n",
      "1198/1198 [==============================] - 3s 2ms/step - loss: 2.5318e-04\n",
      "Epoch 70/100\n",
      "1198/1198 [==============================] - 3s 2ms/step - loss: 2.2279e-04\n",
      "Epoch 71/100\n",
      "1198/1198 [==============================] - 3s 2ms/step - loss: 2.6150e-04\n",
      "Epoch 72/100\n",
      "1198/1198 [==============================] - 3s 2ms/step - loss: 3.5065e-04\n",
      "Epoch 73/100\n",
      "1198/1198 [==============================] - 3s 2ms/step - loss: 2.4090e-04\n",
      "Epoch 74/100\n",
      "1198/1198 [==============================] - 3s 2ms/step - loss: 2.4194e-04\n",
      "Epoch 75/100\n",
      "1198/1198 [==============================] - 3s 2ms/step - loss: 2.1686e-04\n",
      "Epoch 76/100\n",
      "1198/1198 [==============================] - 3s 2ms/step - loss: 2.2095e-04\n",
      "Epoch 77/100\n",
      "1198/1198 [==============================] - 3s 2ms/step - loss: 2.5877e-04\n",
      "Epoch 78/100\n",
      "1198/1198 [==============================] - 3s 2ms/step - loss: 2.2433e-04\n",
      "Epoch 79/100\n",
      "1198/1198 [==============================] - 3s 2ms/step - loss: 3.4255e-04\n",
      "Epoch 80/100\n",
      "1198/1198 [==============================] - 3s 2ms/step - loss: 2.7355e-04\n",
      "Epoch 81/100\n",
      "1198/1198 [==============================] - 3s 2ms/step - loss: 2.3538e-04\n",
      "Epoch 82/100\n",
      "1198/1198 [==============================] - 3s 2ms/step - loss: 2.2277e-04\n",
      "Epoch 83/100\n",
      "1198/1198 [==============================] - 3s 2ms/step - loss: 2.2184e-04\n",
      "Epoch 84/100\n",
      "1198/1198 [==============================] - 3s 2ms/step - loss: 2.5329e-04\n",
      "Epoch 85/100\n",
      "1198/1198 [==============================] - 3s 2ms/step - loss: 2.1933e-04\n",
      "Epoch 86/100\n",
      "1198/1198 [==============================] - 3s 2ms/step - loss: 2.8072e-04\n",
      "Epoch 87/100\n",
      "1198/1198 [==============================] - 3s 2ms/step - loss: 2.4065e-04\n",
      "Epoch 88/100\n",
      "1198/1198 [==============================] - 3s 2ms/step - loss: 2.5437e-04\n",
      "Epoch 89/100\n",
      "1198/1198 [==============================] - 3s 2ms/step - loss: 2.4421e-04\n",
      "Epoch 90/100\n",
      "1198/1198 [==============================] - 3s 2ms/step - loss: 3.2163e-04\n",
      "Epoch 91/100\n",
      "1198/1198 [==============================] - 3s 2ms/step - loss: 2.3742e-04\n",
      "Epoch 92/100\n",
      "1198/1198 [==============================] - 3s 2ms/step - loss: 2.5353e-04\n",
      "Epoch 93/100\n"
     ]
    },
    {
     "name": "stdout",
     "output_type": "stream",
     "text": [
      "1198/1198 [==============================] - 3s 2ms/step - loss: 2.4698e-04\n",
      "Epoch 94/100\n",
      "1198/1198 [==============================] - 3s 2ms/step - loss: 2.4616e-04\n",
      "Epoch 95/100\n",
      "1198/1198 [==============================] - 3s 2ms/step - loss: 2.3199e-04\n",
      "Epoch 96/100\n",
      "1198/1198 [==============================] - 3s 2ms/step - loss: 2.4244e-04\n",
      "Epoch 97/100\n",
      "1198/1198 [==============================] - 3s 2ms/step - loss: 2.2469e-04\n",
      "Epoch 98/100\n",
      "1198/1198 [==============================] - 3s 2ms/step - loss: 3.0315e-04\n",
      "Epoch 99/100\n",
      "1198/1198 [==============================] - 3s 2ms/step - loss: 2.2396e-04\n",
      "Epoch 100/100\n",
      "1198/1198 [==============================] - 3s 2ms/step - loss: 2.4602e-04\n"
     ]
    },
    {
     "data": {
      "text/plain": [
       "<keras.callbacks.History at 0x7fa62959a110>"
      ]
     },
     "execution_count": 23,
     "metadata": {},
     "output_type": "execute_result"
    }
   ],
   "source": [
    "model.compile(\n",
    "    optimizer = 'adam',\n",
    "    loss = 'mean_squared_error'\n",
    ")\n",
    "\n",
    "model.fit(\n",
    "    X_train, y_train, epochs = 100, batch_size = 32\n",
    ")"
   ]
  },
  {
   "cell_type": "code",
   "execution_count": 24,
   "metadata": {},
   "outputs": [
    {
     "data": {
      "text/html": [
       "<div>\n",
       "<style scoped>\n",
       "    .dataframe tbody tr th:only-of-type {\n",
       "        vertical-align: middle;\n",
       "    }\n",
       "\n",
       "    .dataframe tbody tr th {\n",
       "        vertical-align: top;\n",
       "    }\n",
       "\n",
       "    .dataframe thead th {\n",
       "        text-align: right;\n",
       "    }\n",
       "</style>\n",
       "<table border=\"1\" class=\"dataframe\">\n",
       "  <thead>\n",
       "    <tr style=\"text-align: right;\">\n",
       "      <th></th>\n",
       "      <th>Date</th>\n",
       "      <th>Open</th>\n",
       "      <th>High</th>\n",
       "      <th>Low</th>\n",
       "      <th>Close</th>\n",
       "      <th>Adj Close</th>\n",
       "      <th>Volume</th>\n",
       "    </tr>\n",
       "  </thead>\n",
       "  <tbody>\n",
       "    <tr>\n",
       "      <th>0</th>\n",
       "      <td>02-01-2019</td>\n",
       "      <td>154.889999</td>\n",
       "      <td>158.850006</td>\n",
       "      <td>154.229996</td>\n",
       "      <td>157.919998</td>\n",
       "      <td>157.245605</td>\n",
       "      <td>37039700</td>\n",
       "    </tr>\n",
       "    <tr>\n",
       "      <th>1</th>\n",
       "      <td>03-01-2019</td>\n",
       "      <td>143.979996</td>\n",
       "      <td>145.720001</td>\n",
       "      <td>142.000000</td>\n",
       "      <td>142.190002</td>\n",
       "      <td>141.582779</td>\n",
       "      <td>91244100</td>\n",
       "    </tr>\n",
       "    <tr>\n",
       "      <th>2</th>\n",
       "      <td>04-01-2019</td>\n",
       "      <td>144.529999</td>\n",
       "      <td>148.550003</td>\n",
       "      <td>143.800003</td>\n",
       "      <td>148.259995</td>\n",
       "      <td>147.626846</td>\n",
       "      <td>58607100</td>\n",
       "    </tr>\n",
       "    <tr>\n",
       "      <th>3</th>\n",
       "      <td>07-01-2019</td>\n",
       "      <td>148.699997</td>\n",
       "      <td>148.830002</td>\n",
       "      <td>145.899994</td>\n",
       "      <td>147.929993</td>\n",
       "      <td>147.298264</td>\n",
       "      <td>54777800</td>\n",
       "    </tr>\n",
       "    <tr>\n",
       "      <th>4</th>\n",
       "      <td>08-01-2019</td>\n",
       "      <td>149.559998</td>\n",
       "      <td>151.820007</td>\n",
       "      <td>148.520004</td>\n",
       "      <td>150.750000</td>\n",
       "      <td>150.106216</td>\n",
       "      <td>41025300</td>\n",
       "    </tr>\n",
       "  </tbody>\n",
       "</table>\n",
       "</div>"
      ],
      "text/plain": [
       "         Date        Open        High         Low       Close   Adj Close  \\\n",
       "0  02-01-2019  154.889999  158.850006  154.229996  157.919998  157.245605   \n",
       "1  03-01-2019  143.979996  145.720001  142.000000  142.190002  141.582779   \n",
       "2  04-01-2019  144.529999  148.550003  143.800003  148.259995  147.626846   \n",
       "3  07-01-2019  148.699997  148.830002  145.899994  147.929993  147.298264   \n",
       "4  08-01-2019  149.559998  151.820007  148.520004  150.750000  150.106216   \n",
       "\n",
       "     Volume  \n",
       "0  37039700  \n",
       "1  91244100  \n",
       "2  58607100  \n",
       "3  54777800  \n",
       "4  41025300  "
      ]
     },
     "execution_count": 24,
     "metadata": {},
     "output_type": "execute_result"
    }
   ],
   "source": [
    "testSet = pd.read_csv(\n",
    "    'Applied-Deep-Learning-with-Keras/Lesson09/AAPL_test.csv'\n",
    ")\n",
    "\n",
    "testSet.head()"
   ]
  },
  {
   "cell_type": "code",
   "execution_count": 25,
   "metadata": {},
   "outputs": [
    {
     "data": {
      "text/plain": [
       "array([[154.889999],\n",
       "       [143.979996],\n",
       "       [144.529999],\n",
       "       [148.699997],\n",
       "       [149.559998],\n",
       "       [151.289993],\n",
       "       [152.5     ],\n",
       "       [152.880005],\n",
       "       [150.850006],\n",
       "       [150.270004],\n",
       "       [153.080002],\n",
       "       [154.199997],\n",
       "       [157.5     ],\n",
       "       [156.410004],\n",
       "       [154.149994],\n",
       "       [154.110001],\n",
       "       [155.479996],\n",
       "       [155.789993],\n",
       "       [156.25    ],\n",
       "       [163.25    ],\n",
       "       [166.110001]])"
      ]
     },
     "execution_count": 25,
     "metadata": {},
     "output_type": "execute_result"
    }
   ],
   "source": [
    "actualStock = testSet.iloc[:, 1:2].values\n",
    "actualStock"
   ]
  },
  {
   "cell_type": "code",
   "execution_count": 26,
   "metadata": {},
   "outputs": [
    {
     "data": {
      "text/html": [
       "<div>\n",
       "<style scoped>\n",
       "    .dataframe tbody tr th:only-of-type {\n",
       "        vertical-align: middle;\n",
       "    }\n",
       "\n",
       "    .dataframe tbody tr th {\n",
       "        vertical-align: top;\n",
       "    }\n",
       "\n",
       "    .dataframe thead th {\n",
       "        text-align: right;\n",
       "    }\n",
       "</style>\n",
       "<table border=\"1\" class=\"dataframe\">\n",
       "  <thead>\n",
       "    <tr style=\"text-align: right;\">\n",
       "      <th></th>\n",
       "      <th>Date</th>\n",
       "      <th>Open</th>\n",
       "      <th>High</th>\n",
       "      <th>Low</th>\n",
       "      <th>Close</th>\n",
       "      <th>Adj Close</th>\n",
       "      <th>Volume</th>\n",
       "    </tr>\n",
       "  </thead>\n",
       "  <tbody>\n",
       "    <tr>\n",
       "      <th>0</th>\n",
       "      <td>02-01-2014</td>\n",
       "      <td>79.382858</td>\n",
       "      <td>79.575714</td>\n",
       "      <td>78.860001</td>\n",
       "      <td>79.018570</td>\n",
       "      <td>66.964325</td>\n",
       "      <td>58671200</td>\n",
       "    </tr>\n",
       "    <tr>\n",
       "      <th>1</th>\n",
       "      <td>03-01-2014</td>\n",
       "      <td>78.980003</td>\n",
       "      <td>79.099998</td>\n",
       "      <td>77.204285</td>\n",
       "      <td>77.282860</td>\n",
       "      <td>65.493416</td>\n",
       "      <td>98116900</td>\n",
       "    </tr>\n",
       "    <tr>\n",
       "      <th>2</th>\n",
       "      <td>06-01-2014</td>\n",
       "      <td>76.778572</td>\n",
       "      <td>78.114288</td>\n",
       "      <td>76.228569</td>\n",
       "      <td>77.704285</td>\n",
       "      <td>65.850533</td>\n",
       "      <td>103152700</td>\n",
       "    </tr>\n",
       "    <tr>\n",
       "      <th>3</th>\n",
       "      <td>07-01-2014</td>\n",
       "      <td>77.760002</td>\n",
       "      <td>77.994286</td>\n",
       "      <td>76.845711</td>\n",
       "      <td>77.148575</td>\n",
       "      <td>65.379593</td>\n",
       "      <td>79302300</td>\n",
       "    </tr>\n",
       "    <tr>\n",
       "      <th>4</th>\n",
       "      <td>08-01-2014</td>\n",
       "      <td>76.972855</td>\n",
       "      <td>77.937141</td>\n",
       "      <td>76.955711</td>\n",
       "      <td>77.637146</td>\n",
       "      <td>65.793633</td>\n",
       "      <td>64632400</td>\n",
       "    </tr>\n",
       "  </tbody>\n",
       "</table>\n",
       "</div>"
      ],
      "text/plain": [
       "         Date       Open       High        Low      Close  Adj Close  \\\n",
       "0  02-01-2014  79.382858  79.575714  78.860001  79.018570  66.964325   \n",
       "1  03-01-2014  78.980003  79.099998  77.204285  77.282860  65.493416   \n",
       "2  06-01-2014  76.778572  78.114288  76.228569  77.704285  65.850533   \n",
       "3  07-01-2014  77.760002  77.994286  76.845711  77.148575  65.379593   \n",
       "4  08-01-2014  76.972855  77.937141  76.955711  77.637146  65.793633   \n",
       "\n",
       "      Volume  \n",
       "0   58671200  \n",
       "1   98116900  \n",
       "2  103152700  \n",
       "3   79302300  \n",
       "4   64632400  "
      ]
     },
     "execution_count": 26,
     "metadata": {},
     "output_type": "execute_result"
    }
   ],
   "source": [
    "trainSet.head()"
   ]
  },
  {
   "cell_type": "code",
   "execution_count": 27,
   "metadata": {},
   "outputs": [],
   "source": [
    "total = pd.concat(\n",
    "    (trainSet['Open'], testSet['Open']),\n",
    "    axis=0\n",
    ")"
   ]
  },
  {
   "cell_type": "code",
   "execution_count": 28,
   "metadata": {},
   "outputs": [],
   "source": [
    "inputs = total[len(total) - len(testSet)-60:].values\n",
    "inputs = inputs.reshape(-1, 1)\n",
    "inputs = sc.transform(inputs)\n",
    "X_test = []\n",
    "for i in range(60, 81):\n",
    "    X_test.append(inputs[i-60:i, 0])\n",
    "\n",
    "X_test = np.array(X_test)\n",
    "X_test = np.reshape(X_test, (X_test.shape[0], X_test.shape[1], 1))\n",
    "predicted_stock_price = model.predict(X_test)\n",
    "predicted_stock_price = sc.inverse_transform(predicted_stock_price)\n",
    "                    "
   ]
  },
  {
   "cell_type": "code",
   "execution_count": 29,
   "metadata": {},
   "outputs": [
    {
     "data": {
      "image/png": "[encoded data removed]",
      "text/plain": [
       "<Figure size 432x288 with 1 Axes>"
      ]
     },
     "metadata": {
      "needs_background": "light"
     },
     "output_type": "display_data"
    }
   ],
   "source": [
    "plt.plot(\n",
    "    actualStock, \n",
    "    color='green', \n",
    "    label='Real Apple Stock price',\n",
    "    ls = '--'\n",
    ")\n",
    "\n",
    "plt.plot(\n",
    "    predicted_stock_price, \n",
    "    color='red', \n",
    "    label='Predicted Apple Stock Price', \n",
    "    ls='-'\n",
    ")\n",
    "plt.title('Predicted Stock Price')\n",
    "plt.xlabel('Time in days')\n",
    "plt.ylabel('Real Stock Price')\n",
    "plt.legend()\n",
    "plt.show()\n",
    "# IIR 필터의 특성이 나타나고 있음"
   ]
  },
  {
   "cell_type": "code",
   "execution_count": null,
   "metadata": {},
   "outputs": [],
   "source": []
  },
  {
   "cell_type": "code",
   "execution_count": null,
   "metadata": {},
   "outputs": [],
   "source": []
  },
  {
   "cell_type": "code",
   "execution_count": null,
   "metadata": {},
   "outputs": [],
   "source": []
  },
  {
   "cell_type": "code",
   "execution_count": 30,
   "metadata": {},
   "outputs": [
    {
     "name": "stdout",
     "output_type": "stream",
     "text": [
      "Epoch 1/100\n",
      "1198/1198 [==============================] - 5s 4ms/step - loss: 0.0330\n",
      "Epoch 2/100\n",
      "1198/1198 [==============================] - 3s 2ms/step - loss: 0.0028\n",
      "Epoch 3/100\n",
      "1198/1198 [==============================] - 3s 2ms/step - loss: 0.0021\n",
      "Epoch 4/100\n",
      "1198/1198 [==============================] - 3s 2ms/step - loss: 0.0020\n",
      "Epoch 5/100\n",
      "1198/1198 [==============================] - 3s 2ms/step - loss: 0.0018\n",
      "Epoch 6/100\n",
      "1198/1198 [==============================] - 3s 2ms/step - loss: 0.0015\n",
      "Epoch 7/100\n",
      "1198/1198 [==============================] - 3s 2ms/step - loss: 0.0014\n",
      "Epoch 8/100\n",
      "1198/1198 [==============================] - 3s 2ms/step - loss: 0.0013\n",
      "Epoch 9/100\n",
      "1198/1198 [==============================] - 3s 2ms/step - loss: 0.0014\n",
      "Epoch 10/100\n",
      "1198/1198 [==============================] - 3s 2ms/step - loss: 0.0014\n",
      "Epoch 11/100\n",
      "1198/1198 [==============================] - 3s 2ms/step - loss: 0.0011\n",
      "Epoch 12/100\n",
      "1198/1198 [==============================] - 3s 2ms/step - loss: 0.0011\n",
      "Epoch 13/100\n",
      "1198/1198 [==============================] - 3s 2ms/step - loss: 0.0012\n",
      "Epoch 14/100\n",
      "1198/1198 [==============================] - 3s 2ms/step - loss: 9.6230e-04\n",
      "Epoch 15/100\n",
      "1198/1198 [==============================] - 3s 2ms/step - loss: 0.0011\n",
      "Epoch 16/100\n",
      "1198/1198 [==============================] - 3s 2ms/step - loss: 9.2986e-04\n",
      "Epoch 17/100\n",
      "1198/1198 [==============================] - 3s 2ms/step - loss: 0.0011\n",
      "Epoch 18/100\n",
      "1198/1198 [==============================] - 3s 2ms/step - loss: 0.0011\n",
      "Epoch 19/100\n",
      "1198/1198 [==============================] - 3s 2ms/step - loss: 9.8634e-04\n",
      "Epoch 20/100\n",
      "1198/1198 [==============================] - 3s 2ms/step - loss: 8.3050e-04\n",
      "Epoch 21/100\n",
      "1198/1198 [==============================] - 3s 2ms/step - loss: 9.0547e-04\n",
      "Epoch 22/100\n",
      "1198/1198 [==============================] - 3s 2ms/step - loss: 9.1854e-04\n",
      "Epoch 23/100\n",
      "1198/1198 [==============================] - 3s 2ms/step - loss: 8.4790e-04\n",
      "Epoch 24/100\n",
      "1198/1198 [==============================] - 3s 2ms/step - loss: 8.3152e-04\n",
      "Epoch 25/100\n",
      "1198/1198 [==============================] - 3s 2ms/step - loss: 7.8834e-04\n",
      "Epoch 26/100\n",
      "1198/1198 [==============================] - 3s 2ms/step - loss: 0.0011\n",
      "Epoch 27/100\n",
      "1198/1198 [==============================] - 3s 2ms/step - loss: 7.5640e-04\n",
      "Epoch 28/100\n",
      "1198/1198 [==============================] - 3s 2ms/step - loss: 8.3530e-04\n",
      "Epoch 29/100\n",
      "1198/1198 [==============================] - 3s 2ms/step - loss: 7.0771e-04\n",
      "Epoch 30/100\n",
      "1198/1198 [==============================] - 3s 2ms/step - loss: 7.8681e-04\n",
      "Epoch 31/100\n",
      "1198/1198 [==============================] - 3s 2ms/step - loss: 6.6458e-04\n",
      "Epoch 32/100\n",
      "1198/1198 [==============================] - 3s 2ms/step - loss: 6.1429e-04\n",
      "Epoch 33/100\n",
      "1198/1198 [==============================] - 3s 2ms/step - loss: 5.6863e-04\n",
      "Epoch 34/100\n",
      "1198/1198 [==============================] - 3s 2ms/step - loss: 5.4415e-04\n",
      "Epoch 35/100\n",
      "1198/1198 [==============================] - 3s 2ms/step - loss: 5.2028e-04\n",
      "Epoch 36/100\n",
      "1198/1198 [==============================] - 3s 2ms/step - loss: 6.0405e-04\n",
      "Epoch 37/100\n",
      "1198/1198 [==============================] - 3s 2ms/step - loss: 5.3037e-04\n",
      "Epoch 38/100\n",
      "1198/1198 [==============================] - 3s 2ms/step - loss: 5.7795e-04\n",
      "Epoch 39/100\n",
      "1198/1198 [==============================] - 3s 2ms/step - loss: 5.3576e-04\n",
      "Epoch 40/100\n",
      "1198/1198 [==============================] - 3s 2ms/step - loss: 4.8480e-04\n",
      "Epoch 41/100\n",
      "1198/1198 [==============================] - 3s 2ms/step - loss: 4.8854e-04\n",
      "Epoch 42/100\n",
      "1198/1198 [==============================] - 3s 2ms/step - loss: 5.0733e-04\n",
      "Epoch 43/100\n",
      "1198/1198 [==============================] - 3s 2ms/step - loss: 5.4795e-04\n",
      "Epoch 44/100\n",
      "1198/1198 [==============================] - 3s 2ms/step - loss: 6.1974e-04\n",
      "Epoch 45/100\n",
      "1198/1198 [==============================] - 3s 2ms/step - loss: 4.3392e-04\n",
      "Epoch 46/100\n",
      "1198/1198 [==============================] - 3s 2ms/step - loss: 5.1232e-04\n",
      "Epoch 47/100\n",
      "1198/1198 [==============================] - 3s 2ms/step - loss: 4.4664e-04\n",
      "Epoch 48/100\n",
      "1198/1198 [==============================] - 3s 2ms/step - loss: 4.0867e-04\n",
      "Epoch 49/100\n",
      "1198/1198 [==============================] - 3s 2ms/step - loss: 4.3766e-04\n",
      "Epoch 50/100\n",
      "1198/1198 [==============================] - 3s 2ms/step - loss: 3.8490e-04\n",
      "Epoch 51/100\n",
      "1198/1198 [==============================] - 3s 2ms/step - loss: 4.0267e-04\n",
      "Epoch 52/100\n",
      "1198/1198 [==============================] - 3s 2ms/step - loss: 3.6210e-04\n",
      "Epoch 53/100\n",
      "1198/1198 [==============================] - 3s 2ms/step - loss: 3.7126e-04\n",
      "Epoch 54/100\n",
      "1198/1198 [==============================] - 3s 2ms/step - loss: 3.6104e-04\n",
      "Epoch 55/100\n",
      "1198/1198 [==============================] - 3s 2ms/step - loss: 3.5564e-04\n",
      "Epoch 56/100\n",
      "1198/1198 [==============================] - 3s 2ms/step - loss: 3.4136e-04\n",
      "Epoch 57/100\n",
      "1198/1198 [==============================] - 3s 2ms/step - loss: 3.2151e-04\n",
      "Epoch 58/100\n",
      "1198/1198 [==============================] - 3s 2ms/step - loss: 3.1626e-04\n",
      "Epoch 59/100\n",
      "1198/1198 [==============================] - 3s 2ms/step - loss: 3.2564e-04\n",
      "Epoch 60/100\n",
      "1198/1198 [==============================] - 3s 2ms/step - loss: 4.2191e-04\n",
      "Epoch 61/100\n",
      "1198/1198 [==============================] - 3s 2ms/step - loss: 3.1136e-04\n",
      "Epoch 62/100\n",
      "1198/1198 [==============================] - 3s 2ms/step - loss: 4.1692e-04\n",
      "Epoch 63/100\n",
      "1198/1198 [==============================] - 3s 2ms/step - loss: 3.5421e-04\n",
      "Epoch 64/100\n",
      "1198/1198 [==============================] - 3s 2ms/step - loss: 3.3136e-04\n",
      "Epoch 65/100\n",
      "1198/1198 [==============================] - 3s 2ms/step - loss: 3.3255e-04\n",
      "Epoch 66/100\n",
      "1198/1198 [==============================] - 3s 2ms/step - loss: 2.8753e-04\n",
      "Epoch 67/100\n",
      "1198/1198 [==============================] - 3s 2ms/step - loss: 3.9987e-04\n",
      "Epoch 68/100\n",
      "1198/1198 [==============================] - 3s 2ms/step - loss: 3.1025e-04\n",
      "Epoch 69/100\n",
      "1198/1198 [==============================] - 3s 2ms/step - loss: 2.6986e-04\n",
      "Epoch 70/100\n",
      "1198/1198 [==============================] - 3s 2ms/step - loss: 2.9529e-04\n",
      "Epoch 71/100\n",
      "1198/1198 [==============================] - 3s 2ms/step - loss: 3.1555e-04\n",
      "Epoch 72/100\n",
      "1198/1198 [==============================] - 3s 2ms/step - loss: 3.8797e-04\n",
      "Epoch 73/100\n",
      "1198/1198 [==============================] - 3s 2ms/step - loss: 2.7300e-04\n",
      "Epoch 74/100\n",
      "1198/1198 [==============================] - 3s 2ms/step - loss: 2.8563e-04\n",
      "Epoch 75/100\n",
      "1198/1198 [==============================] - 3s 2ms/step - loss: 3.7196e-04\n",
      "Epoch 76/100\n",
      "1198/1198 [==============================] - 3s 2ms/step - loss: 4.9083e-04\n",
      "Epoch 77/100\n",
      "1198/1198 [==============================] - 3s 2ms/step - loss: 3.1201e-04\n",
      "Epoch 78/100\n",
      "1198/1198 [==============================] - 3s 2ms/step - loss: 2.9717e-04\n",
      "Epoch 79/100\n",
      "1198/1198 [==============================] - 3s 2ms/step - loss: 2.4953e-04\n",
      "Epoch 80/100\n",
      "1198/1198 [==============================] - 3s 2ms/step - loss: 2.8141e-04\n",
      "Epoch 81/100\n",
      "1198/1198 [==============================] - 3s 2ms/step - loss: 2.5343e-04\n",
      "Epoch 82/100\n",
      "1198/1198 [==============================] - 3s 2ms/step - loss: 2.6496e-04\n",
      "Epoch 83/100\n",
      "1198/1198 [==============================] - 3s 2ms/step - loss: 3.3640e-04\n",
      "Epoch 84/100\n",
      "1198/1198 [==============================] - 3s 2ms/step - loss: 3.1745e-04\n",
      "Epoch 85/100\n",
      "1198/1198 [==============================] - 3s 2ms/step - loss: 2.5811e-04\n",
      "Epoch 86/100\n",
      "1198/1198 [==============================] - 3s 2ms/step - loss: 2.5932e-04\n",
      "Epoch 87/100\n",
      "1198/1198 [==============================] - 3s 2ms/step - loss: 2.4082e-04\n",
      "Epoch 88/100\n",
      "1198/1198 [==============================] - 3s 2ms/step - loss: 2.9781e-04\n",
      "Epoch 89/100\n",
      "1198/1198 [==============================] - 3s 2ms/step - loss: 2.7832e-04\n",
      "Epoch 90/100\n",
      "1198/1198 [==============================] - 3s 2ms/step - loss: 2.6424e-04\n",
      "Epoch 91/100\n",
      "1198/1198 [==============================] - 3s 2ms/step - loss: 2.7225e-04\n",
      "Epoch 92/100\n",
      "1198/1198 [==============================] - 3s 2ms/step - loss: 2.3344e-04\n",
      "Epoch 93/100\n"
     ]
    },
    {
     "name": "stdout",
     "output_type": "stream",
     "text": [
      "1198/1198 [==============================] - 3s 2ms/step - loss: 2.6153e-04\n",
      "Epoch 94/100\n",
      "1198/1198 [==============================] - 3s 2ms/step - loss: 2.6617e-04\n",
      "Epoch 95/100\n",
      "1198/1198 [==============================] - 3s 2ms/step - loss: 2.5725e-04\n",
      "Epoch 96/100\n",
      "1198/1198 [==============================] - 3s 2ms/step - loss: 3.0652e-04\n",
      "Epoch 97/100\n",
      "1198/1198 [==============================] - 3s 2ms/step - loss: 2.8577e-04\n",
      "Epoch 98/100\n",
      "1198/1198 [==============================] - 3s 2ms/step - loss: 3.1597e-04\n",
      "Epoch 99/100\n",
      "1198/1198 [==============================] - 3s 2ms/step - loss: 2.7962e-04\n",
      "Epoch 100/100\n",
      "1198/1198 [==============================] - 3s 2ms/step - loss: 2.5380e-04\n"
     ]
    },
    {
     "data": {
      "text/plain": [
       "<keras.callbacks.History at 0x7fa56a472350>"
      ]
     },
     "execution_count": 30,
     "metadata": {},
     "output_type": "execute_result"
    }
   ],
   "source": [
    "model = Sequential()\n",
    "\n",
    "model.add(\n",
    "    LSTM(50, return_sequences = True,\n",
    "              input_shape = (X_train.shape[1], 1)\n",
    "        )\n",
    ")\n",
    "model.add(\n",
    "    LSTM(50, return_sequences = True)\n",
    ")\n",
    "model.add(\n",
    "    LSTM(50, return_sequences = True\n",
    "        )\n",
    ")\n",
    "model.add(LSTM(100))\n",
    "model.add(Dense(1))\n",
    "\n",
    "model.compile(\n",
    "    optimizer = 'adam',\n",
    "    loss = 'mean_squared_error'\n",
    ")\n",
    "\n",
    "model.fit(\n",
    "    X_train, y_train, epochs = 100, batch_size = 32\n",
    ")"
   ]
  },
  {
   "cell_type": "code",
   "execution_count": 31,
   "metadata": {},
   "outputs": [],
   "source": [
    "inputs = total[len(total) - len(testSet)-60:].values\n",
    "inputs = inputs.reshape(-1, 1)\n",
    "inputs = sc.transform(inputs)\n",
    "X_test = []\n",
    "for i in range(60, 81):\n",
    "    X_test.append(inputs[i-60:i, 0])\n",
    "\n",
    "X_test = np.array(X_test)\n",
    "X_test = np.reshape(X_test, (X_test.shape[0], X_test.shape[1], 1))\n",
    "predicted_stock_price = model.predict(X_test)\n",
    "predicted_stock_price = sc.inverse_transform(predicted_stock_price)\n",
    "                    "
   ]
  },
  {
   "cell_type": "code",
   "execution_count": 32,
   "metadata": {},
   "outputs": [
    {
     "data": {
      "image/png": "[encoded data removed]",
      "text/plain": [
       "<Figure size 432x288 with 1 Axes>"
      ]
     },
     "metadata": {
      "needs_background": "light"
     },
     "output_type": "display_data"
    }
   ],
   "source": [
    "plt.plot(\n",
    "    actualStock, \n",
    "    color='green', \n",
    "    label='Real Apple Stock price',\n",
    "    ls = '--'\n",
    ")\n",
    "\n",
    "plt.plot(\n",
    "    predicted_stock_price, \n",
    "    color='red', \n",
    "    label='Predicted Apple Stock Price', \n",
    "    ls='-'\n",
    ")\n",
    "plt.title('Predicted Stock Price')\n",
    "plt.xlabel('Time in days')\n",
    "plt.ylabel('Real Stock Price')\n",
    "plt.legend()\n",
    "plt.show()\n",
    "# IIR 필터의 특성이 나타나고 있음"
   ]
  },
  {
   "cell_type": "code",
   "execution_count": null,
   "metadata": {},
   "outputs": [],
   "source": []
  },
  {
   "cell_type": "code",
   "execution_count": null,
   "metadata": {},
   "outputs": [],
   "source": []
  },
  {
   "cell_type": "code",
   "execution_count": null,
   "metadata": {},
   "outputs": [],
   "source": []
  },
  {
   "cell_type": "code",
   "execution_count": 37,
   "metadata": {},
   "outputs": [],
   "source": [
    "from keras.applications.vgg16 import decode_predictions\n",
    "from keras.applications.vgg16 import preprocess_input\n",
    "from keras.applications.resnet50 import ResNet50\n",
    "from keras.preprocessing import image\n",
    "\n",
    "import numpy as np"
   ]
  },
  {
   "cell_type": "code",
   "execution_count": 38,
   "metadata": {},
   "outputs": [],
   "source": [
    "def prepare_img(img, target):\n",
    "    img = img.resize(target)\n",
    "    img = img_to_array(img)\n",
    "    img = np.expand_dims(img, axis=0)\n",
    "    img = imagent_utils.preprocessing_input(img)\n",
    "    \n",
    "    return img"
   ]
  },
  {
   "cell_type": "code",
   "execution_count": 39,
   "metadata": {},
   "outputs": [],
   "source": [
    "resModel = None\n",
    "\n",
    "def load_model():\n",
    "    global resModel\n",
    "    resModel = ResNet50()\n",
    "    "
   ]
  },
  {
   "cell_type": "code",
   "execution_count": 40,
   "metadata": {},
   "outputs": [
    {
     "name": "stdout",
     "output_type": "stream",
     "text": [
      "1.14.0\n"
     ]
    }
   ],
   "source": [
    "import keras.backend.tensorflow_backend as tb\n",
    "import tensorflow as tf\n",
    "\n",
    "global graph, model\n",
    "graph = tf.get_default_graph()\n",
    "\n",
    "print(tf.__version__)"
   ]
  },
  {
   "cell_type": "code",
   "execution_count": 41,
   "metadata": {},
   "outputs": [],
   "source": [
    "from flask import Flask, request, jsonify\n",
    "from werkzeug.utils import secure_filename"
   ]
  },
  {
   "cell_type": "code",
   "execution_count": null,
   "metadata": {},
   "outputs": [
    {
     "name": "stdout",
     "output_type": "stream",
     "text": [
      " * Serving Flask app \"__main__\" (lazy loading)\n",
      " * Environment: production\n",
      "   WARNING: This is a development server. Do not use it in a production deployment.\n",
      "   Use a production WSGI server instead.\n",
      " * Debug mode: off\n"
     ]
    },
    {
     "name": "stderr",
     "output_type": "stream",
     "text": [
      " * Running on http://127.0.0.1:5000/ (Press CTRL+C to quit)\n",
      "127.0.0.1 - - [20/Jul/2020 15:21:41] \"\u001b[33mGET /dataServer HTTP/1.1\u001b[0m\" 404 -\n",
      "127.0.0.1 - - [20/Jul/2020 15:22:04] \"\u001b[33mGET /dataServer HTTP/1.1\u001b[0m\" 404 -\n",
      "127.0.0.1 - - [20/Jul/2020 15:22:06] \"\u001b[33mGET /dataServer HTTP/1.1\u001b[0m\" 404 -\n",
      "127.0.0.1 - - [20/Jul/2020 15:22:06] \"\u001b[33mGET /dataServer HTTP/1.1\u001b[0m\" 404 -\n",
      "127.0.0.1 - - [20/Jul/2020 15:22:19] \"\u001b[33mGET /dataServer HTTP/1.1\u001b[0m\" 404 -\n",
      "127.0.0.1 - - [20/Jul/2020 15:24:26] \"\u001b[33mGET /dataServer HTTP/1.1\u001b[0m\" 404 -\n"
     ]
    },
    {
     "name": "stdout",
     "output_type": "stream",
     "text": [
      "POST\n",
      "test_image_2.jpg\n",
      "(1, 224, 224, 3)\n"
     ]
    },
    {
     "name": "stderr",
     "output_type": "stream",
     "text": [
      "127.0.0.1 - - [20/Jul/2020 15:24:53] \"\u001b[37mPOST /imgServer HTTP/1.1\u001b[0m\" 200 -\n"
     ]
    }
   ],
   "source": [
    "\n",
    "app = Flask(__name__)\n",
    "\n",
    "@app.route('/imgServer', methods = ['GET', 'POST'])\n",
    "def analysis_img():\n",
    "    data = {\"success\": False}\n",
    "    if request.method == 'POST':\n",
    "        print('POST')\n",
    "        file = request.files['file']\n",
    "        file = secure_filename(file.filename)\n",
    "        print(file)\n",
    "        \n",
    "        sea_img = image.load_img(\n",
    "            file, target_size = (224, 224)\n",
    "        )\n",
    "        \n",
    "        trans_img = image.img_to_array(sea_img)\n",
    "        trans_img = np.expand_dims(trans_img, axis = 0)\n",
    "        trans_img = preprocess_input(trans_img)\n",
    "        print(trans_img.shape)\n",
    "        \n",
    "        # session 열고 연산 후, 자동으로 session 닫아줌\n",
    "        with graph.as_default():\n",
    "            pred = resModel.predict(trans_img)\n",
    "            \n",
    "        label = decode_predictions(pred)\n",
    "        data[\"predictions\"] = []\n",
    "        \n",
    "        for (imageNetID, label, prob) in label[0]:\n",
    "            r = {\n",
    "                \"label\": label, \n",
    "                \"probability\": float(prob)\n",
    "            }\n",
    "            data[\"predictions\"].append(r)\n",
    "            \n",
    "        data[\"success\"] = True\n",
    "        \n",
    "    return jsonify(data)\n",
    "\n",
    "if __name__ == \"__main__\":\n",
    "    load_model()\n",
    "    app.run()"
   ]
  },
  {
   "cell_type": "code",
   "execution_count": null,
   "metadata": {},
   "outputs": [],
   "source": []
  },
  {
   "cell_type": "code",
   "execution_count": null,
   "metadata": {},
   "outputs": [],
   "source": []
  },
  {
   "cell_type": "code",
   "execution_count": null,
   "metadata": {},
   "outputs": [],
   "source": []
  },
  {
   "cell_type": "code",
   "execution_count": null,
   "metadata": {},
   "outputs": [],
   "source": []
  },
  {
   "cell_type": "code",
   "execution_count": null,
   "metadata": {},
   "outputs": [],
   "source": []
  },
  {
   "cell_type": "code",
   "execution_count": null,
   "metadata": {},
   "outputs": [],
   "source": []
  },
  {
   "cell_type": "code",
   "execution_count": null,
   "metadata": {},
   "outputs": [],
   "source": []
  },
  {
   "cell_type": "code",
   "execution_count": null,
   "metadata": {},
   "outputs": [],
   "source": []
  }
 ],
 "metadata": {
  "kernelspec": {
   "display_name": "Python 3",
   "language": "python",
   "name": "python3"
  },
  "language_info": {
   "codemirror_mode": {
    "name": "ipython",
    "version": 3
   },
   "file_extension": ".py",
   "mimetype": "text/x-python",
   "name": "python",
   "nbconvert_exporter": "python",
   "pygments_lexer": "ipython3",
   "version": "3.7.6"
  }
 },
 "nbformat": 4,
 "nbformat_minor": 4
}
